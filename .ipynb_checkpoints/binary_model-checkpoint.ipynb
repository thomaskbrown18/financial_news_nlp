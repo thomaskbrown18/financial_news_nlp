{
 "cells": [
  {
   "cell_type": "markdown",
   "metadata": {},
   "source": [
    "__Student info:__"
   ]
  },
  {
   "cell_type": "markdown",
   "metadata": {},
   "source": [
    "- Student name: Thomas Brown\n",
    "- Student pace: Full Time\n",
    "- Scheduled project review date/time: TBD\n",
    "- Instructor name: Abhineet Kulkarni\n",
    "- Blog post URL: TBD"
   ]
  },
  {
   "cell_type": "markdown",
   "metadata": {},
   "source": [
    "__Use Case:__<br><br>\n",
    "The purpose of this project is to start building a neural network model that can determine the sentiment of financial news headlines.  The users of this model would be investment firms who want to keep track of the market sentiment of a set of various products, companies, or industries.  <br><br>\n",
    "With proper web scraping and feeding of new headlines, a firm would be able to keep track of various topics to make better informed investing decisions.  For example, one could feasibly keep track of terms that are rising rapidly in terms of positive sentiment in order to invest in them.<br><br>\n",
    "The data is collected from Kaggle through this [link](https://www.kaggle.com/ankurzing/sentiment-analysis-for-financial-news).  It's a collection of 4,837 unique news headlines from various financial news sources. "
   ]
  },
  {
   "cell_type": "markdown",
   "metadata": {},
   "source": [
    "## Importing Libraries:"
   ]
  },
  {
   "cell_type": "code",
   "execution_count": 1,
   "metadata": {},
   "outputs": [
    {
     "name": "stderr",
     "output_type": "stream",
     "text": [
      "Using TensorFlow backend.\n",
      "/Users/Thomas/opt/anaconda3/envs/learn-env/lib/python3.6/site-packages/sklearn/externals/six.py:31: DeprecationWarning: The module is deprecated in version 0.21 and will be removed in version 0.23 since we've dropped support for Python 2.7. Please rely on the official version of six (https://pypi.org/project/six/).\n",
      "  \"(https://pypi.org/project/six/).\", DeprecationWarning)\n"
     ]
    }
   ],
   "source": [
    "import pandas as pd\n",
    "import numpy as np\n",
    "\n",
    "# Scikit-Learn:\n",
    "from sklearn.preprocessing import StandardScaler\n",
    "from sklearn.neighbors import KNeighborsClassifier\n",
    "from sklearn.model_selection import train_test_split, GridSearchCV\n",
    "from sklearn.ensemble import RandomForestClassifier\n",
    "from sklearn.tree import DecisionTreeClassifier\n",
    "from sklearn.ensemble import AdaBoostClassifier, GradientBoostingClassifier\n",
    "from sklearn.pipeline import Pipeline\n",
    "from sklearn.metrics import precision_score, recall_score, confusion_matrix, classification_report, accuracy_score, f1_score\n",
    "from sklearn import svm\n",
    "from sklearn import tree\n",
    "from sklearn.preprocessing import LabelEncoder\n",
    "from sklearn.preprocessing import OneHotEncoder\n",
    "\n",
    "\n",
    "# Keras:\n",
    "import keras\n",
    "from keras.models import Sequential\n",
    "from keras.layers import Dense\n",
    "from sklearn.preprocessing import StandardScaler, LabelBinarizer\n",
    "from keras.preprocessing.text import Tokenizer\n",
    "from keras.preprocessing.sequence import pad_sequences\n",
    "from keras.layers import Dense, Conv1D, MaxPool1D, Flatten, Dropout\n",
    "from keras.utils import to_categorical\n",
    "from keras.layers import Embedding, LSTM, Dense, Dropout\n",
    "from keras.models import Sequential\n",
    "from keras.layers import Embedding, LSTM, Dense, Dropout\n",
    "from keras.initializers import Constant\n",
    "from keras.optimizers import Adam\n",
    "from keras.layers import GlobalAveragePooling1D\n",
    "from keras.callbacks import EarlyStopping\n",
    "\n",
    "\n",
    "\n",
    "# NLTK - Stopwords:\n",
    "import nltk\n",
    "from nltk.corpus import stopwords\n",
    "import string\n",
    "from nltk import word_tokenize, FreqDist\n",
    "from nltk.stem import WordNetLemmatizer\n",
    "from nltk import pos_tag\n",
    "from nltk.corpus import wordnet\n",
    "\n",
    "\n",
    "# Sampling:\n",
    "from imblearn.over_sampling import SMOTE, ADASYN\n",
    "\n",
    "# XGBoost:\n",
    "import xgboost as xgb\n",
    "\n",
    "# Plots and Graphs:\n",
    "from wordcloud import WordCloud\n",
    "import seaborn as sns\n",
    "sns.set_style('darkgrid')\n",
    "import matplotlib.pyplot as plt\n",
    "import plotly.express as px\n",
    "import scikitplot as skplt \n",
    "%matplotlib inline\n",
    "\n",
    "# Other:\n",
    "from collections import Counter\n",
    "import warnings\n",
    "warnings.filterwarnings('ignore')\n",
    "# So we can see the entire column:\n",
    "pd.set_option('display.max_colwidth', -1)"
   ]
  },
  {
   "cell_type": "markdown",
   "metadata": {},
   "source": [
    "# Importing Data:"
   ]
  },
  {
   "cell_type": "code",
   "execution_count": 2,
   "metadata": {},
   "outputs": [
    {
     "data": {
      "text/html": [
       "<div>\n",
       "<style scoped>\n",
       "    .dataframe tbody tr th:only-of-type {\n",
       "        vertical-align: middle;\n",
       "    }\n",
       "\n",
       "    .dataframe tbody tr th {\n",
       "        vertical-align: top;\n",
       "    }\n",
       "\n",
       "    .dataframe thead th {\n",
       "        text-align: right;\n",
       "    }\n",
       "</style>\n",
       "<table border=\"1\" class=\"dataframe\">\n",
       "  <thead>\n",
       "    <tr style=\"text-align: right;\">\n",
       "      <th></th>\n",
       "      <th>Sentiment</th>\n",
       "      <th>Headline</th>\n",
       "    </tr>\n",
       "  </thead>\n",
       "  <tbody>\n",
       "    <tr>\n",
       "      <td>0</td>\n",
       "      <td>neutral</td>\n",
       "      <td>The contract includes software licences , application maintenance and training .</td>\n",
       "    </tr>\n",
       "    <tr>\n",
       "      <td>1</td>\n",
       "      <td>positive</td>\n",
       "      <td>Performance in the second half of 2009 exceeded expectations .</td>\n",
       "    </tr>\n",
       "    <tr>\n",
       "      <td>2</td>\n",
       "      <td>neutral</td>\n",
       "      <td>Related links : Flexiblebaseloadoperation TheWartsila32generating set Gasconversions This is the shorter of two versions of this press release .</td>\n",
       "    </tr>\n",
       "    <tr>\n",
       "      <td>3</td>\n",
       "      <td>neutral</td>\n",
       "      <td>Founded in 1994 , the company uses a six-step , time-focused , collaborative project approach to improve financial institutions ' revenue streams .</td>\n",
       "    </tr>\n",
       "    <tr>\n",
       "      <td>4</td>\n",
       "      <td>neutral</td>\n",
       "      <td>The business units of the InvestLesProm Group cover the full forest industry chain , and the Group owns forests , sawmills , paper and pulp mills , and other processing plants .</td>\n",
       "    </tr>\n",
       "  </tbody>\n",
       "</table>\n",
       "</div>"
      ],
      "text/plain": [
       "  Sentiment  \\\n",
       "0  neutral    \n",
       "1  positive   \n",
       "2  neutral    \n",
       "3  neutral    \n",
       "4  neutral    \n",
       "\n",
       "                                                                                                                                                                            Headline  \n",
       "0  The contract includes software licences , application maintenance and training .                                                                                                   \n",
       "1  Performance in the second half of 2009 exceeded expectations .                                                                                                                     \n",
       "2  Related links : Flexiblebaseloadoperation TheWartsila32generating set Gasconversions This is the shorter of two versions of this press release .                                   \n",
       "3  Founded in 1994 , the company uses a six-step , time-focused , collaborative project approach to improve financial institutions ' revenue streams .                                \n",
       "4  The business units of the InvestLesProm Group cover the full forest industry chain , and the Group owns forests , sawmills , paper and pulp mills , and other processing plants .  "
      ]
     },
     "metadata": {},
     "output_type": "display_data"
    },
    {
     "name": "stdout",
     "output_type": "stream",
     "text": [
      "Shape: (4846, 2) \n",
      "\n",
      "\n",
      "<class 'pandas.core.frame.DataFrame'>\n",
      "RangeIndex: 4846 entries, 0 to 4845\n",
      "Data columns (total 2 columns):\n",
      "Sentiment    4846 non-null object\n",
      "Headline     4846 non-null object\n",
      "dtypes: object(2)\n",
      "memory usage: 75.8+ KB\n",
      "None\n"
     ]
    }
   ],
   "source": [
    "df = pd.read_csv('all-data.csv', names = ['Sentiment', 'Headline'], \n",
    "                 encoding='latin-1')\n",
    "df = df.sample(frac=1).reset_index(drop=True) # Shuffling the data in case there's an ordering bias\n",
    "display(df.head())\n",
    "print(\"Shape:\", df.shape, \"\\n\\n\")\n",
    "print(df.info())"
   ]
  },
  {
   "cell_type": "code",
   "execution_count": 3,
   "metadata": {},
   "outputs": [
    {
     "data": {
      "text/plain": [
       "neutral     2879\n",
       "positive    1363\n",
       "negative    604 \n",
       "Name: Sentiment, dtype: int64"
      ]
     },
     "execution_count": 3,
     "metadata": {},
     "output_type": "execute_result"
    }
   ],
   "source": [
    "# Let's take a look at the number of instances of each sentiment:\n",
    "df.Sentiment.value_counts()\n",
    "# Not too many negatives.  This may prove to be an issue later on, but for now, let's keep moving."
   ]
  },
  {
   "cell_type": "markdown",
   "metadata": {},
   "source": [
    "# Cleaning Data:"
   ]
  },
  {
   "cell_type": "markdown",
   "metadata": {},
   "source": [
    "First, the labels need to be changed to numerical values in order to go through the neural network later on. Due to a low number of negative articles compared to the rest, I'll be treating this as a binary problem: 'Positive' vs 'Not Positive'."
   ]
  },
  {
   "cell_type": "markdown",
   "metadata": {},
   "source": [
    "- 0 is Negative or Neutral\n",
    "- 1 is Positive"
   ]
  },
  {
   "cell_type": "code",
   "execution_count": 4,
   "metadata": {},
   "outputs": [
    {
     "data": {
      "text/html": [
       "<div>\n",
       "<style scoped>\n",
       "    .dataframe tbody tr th:only-of-type {\n",
       "        vertical-align: middle;\n",
       "    }\n",
       "\n",
       "    .dataframe tbody tr th {\n",
       "        vertical-align: top;\n",
       "    }\n",
       "\n",
       "    .dataframe thead th {\n",
       "        text-align: right;\n",
       "    }\n",
       "</style>\n",
       "<table border=\"1\" class=\"dataframe\">\n",
       "  <thead>\n",
       "    <tr style=\"text-align: right;\">\n",
       "      <th></th>\n",
       "      <th>Sentiment</th>\n",
       "      <th>Headline</th>\n",
       "    </tr>\n",
       "  </thead>\n",
       "  <tbody>\n",
       "    <tr>\n",
       "      <td>0</td>\n",
       "      <td>0</td>\n",
       "      <td>The contract includes software licences , application maintenance and training .</td>\n",
       "    </tr>\n",
       "    <tr>\n",
       "      <td>1</td>\n",
       "      <td>1</td>\n",
       "      <td>Performance in the second half of 2009 exceeded expectations .</td>\n",
       "    </tr>\n",
       "    <tr>\n",
       "      <td>2</td>\n",
       "      <td>0</td>\n",
       "      <td>Related links : Flexiblebaseloadoperation TheWartsila32generating set Gasconversions This is the shorter of two versions of this press release .</td>\n",
       "    </tr>\n",
       "    <tr>\n",
       "      <td>3</td>\n",
       "      <td>0</td>\n",
       "      <td>Founded in 1994 , the company uses a six-step , time-focused , collaborative project approach to improve financial institutions ' revenue streams .</td>\n",
       "    </tr>\n",
       "    <tr>\n",
       "      <td>4</td>\n",
       "      <td>0</td>\n",
       "      <td>The business units of the InvestLesProm Group cover the full forest industry chain , and the Group owns forests , sawmills , paper and pulp mills , and other processing plants .</td>\n",
       "    </tr>\n",
       "  </tbody>\n",
       "</table>\n",
       "</div>"
      ],
      "text/plain": [
       "   Sentiment  \\\n",
       "0  0           \n",
       "1  1           \n",
       "2  0           \n",
       "3  0           \n",
       "4  0           \n",
       "\n",
       "                                                                                                                                                                            Headline  \n",
       "0  The contract includes software licences , application maintenance and training .                                                                                                   \n",
       "1  Performance in the second half of 2009 exceeded expectations .                                                                                                                     \n",
       "2  Related links : Flexiblebaseloadoperation TheWartsila32generating set Gasconversions This is the shorter of two versions of this press release .                                   \n",
       "3  Founded in 1994 , the company uses a six-step , time-focused , collaborative project approach to improve financial institutions ' revenue streams .                                \n",
       "4  The business units of the InvestLesProm Group cover the full forest industry chain , and the Group owns forests , sawmills , paper and pulp mills , and other processing plants .  "
      ]
     },
     "execution_count": 4,
     "metadata": {},
     "output_type": "execute_result"
    }
   ],
   "source": [
    "# BINARY\n",
    "df['Sentiment'] = df['Sentiment'].map(lambda x: 1 if x == 'positive' else 0)\n",
    "df.head()"
   ]
  },
  {
   "cell_type": "markdown",
   "metadata": {},
   "source": [
    "## Stopwords:"
   ]
  },
  {
   "cell_type": "markdown",
   "metadata": {},
   "source": [
    "Next, we can remove all the 'stopwords' that can clog up the system later on.  The punctuation will get filtered out later."
   ]
  },
  {
   "cell_type": "code",
   "execution_count": 5,
   "metadata": {},
   "outputs": [],
   "source": [
    "stop = set(stopwords.words('english'))\n",
    "stop.add(\"'s\")\n",
    "def remove_stopwords(text):\n",
    "    text = [word.lower() for word in text.split() if word.lower() not in stop]\n",
    "    return \" \".join(text)\n",
    "\n",
    "df['Headline'] = df['Headline'].map(remove_stopwords)"
   ]
  },
  {
   "cell_type": "code",
   "execution_count": 6,
   "metadata": {},
   "outputs": [
    {
     "data": {
      "text/html": [
       "<div>\n",
       "<style scoped>\n",
       "    .dataframe tbody tr th:only-of-type {\n",
       "        vertical-align: middle;\n",
       "    }\n",
       "\n",
       "    .dataframe tbody tr th {\n",
       "        vertical-align: top;\n",
       "    }\n",
       "\n",
       "    .dataframe thead th {\n",
       "        text-align: right;\n",
       "    }\n",
       "</style>\n",
       "<table border=\"1\" class=\"dataframe\">\n",
       "  <thead>\n",
       "    <tr style=\"text-align: right;\">\n",
       "      <th></th>\n",
       "      <th>Sentiment</th>\n",
       "      <th>Headline</th>\n",
       "    </tr>\n",
       "  </thead>\n",
       "  <tbody>\n",
       "    <tr>\n",
       "      <td>0</td>\n",
       "      <td>0</td>\n",
       "      <td>contract includes software licences , application maintenance training .</td>\n",
       "    </tr>\n",
       "    <tr>\n",
       "      <td>1</td>\n",
       "      <td>1</td>\n",
       "      <td>performance second half 2009 exceeded expectations .</td>\n",
       "    </tr>\n",
       "    <tr>\n",
       "      <td>2</td>\n",
       "      <td>0</td>\n",
       "      <td>related links : flexiblebaseloadoperation thewartsila32generating set gasconversions shorter two versions press release .</td>\n",
       "    </tr>\n",
       "    <tr>\n",
       "      <td>3</td>\n",
       "      <td>0</td>\n",
       "      <td>founded 1994 , company uses six-step , time-focused , collaborative project approach improve financial institutions ' revenue streams .</td>\n",
       "    </tr>\n",
       "    <tr>\n",
       "      <td>4</td>\n",
       "      <td>0</td>\n",
       "      <td>business units investlesprom group cover full forest industry chain , group owns forests , sawmills , paper pulp mills , processing plants .</td>\n",
       "    </tr>\n",
       "  </tbody>\n",
       "</table>\n",
       "</div>"
      ],
      "text/plain": [
       "   Sentiment  \\\n",
       "0  0           \n",
       "1  1           \n",
       "2  0           \n",
       "3  0           \n",
       "4  0           \n",
       "\n",
       "                                                                                                                                       Headline  \n",
       "0  contract includes software licences , application maintenance training .                                                                      \n",
       "1  performance second half 2009 exceeded expectations .                                                                                          \n",
       "2  related links : flexiblebaseloadoperation thewartsila32generating set gasconversions shorter two versions press release .                     \n",
       "3  founded 1994 , company uses six-step , time-focused , collaborative project approach improve financial institutions ' revenue streams .       \n",
       "4  business units investlesprom group cover full forest industry chain , group owns forests , sawmills , paper pulp mills , processing plants .  "
      ]
     },
     "execution_count": 6,
     "metadata": {},
     "output_type": "execute_result"
    }
   ],
   "source": [
    "df.head()"
   ]
  },
  {
   "cell_type": "markdown",
   "metadata": {},
   "source": [
    "## Lemmatization:"
   ]
  },
  {
   "cell_type": "code",
   "execution_count": 7,
   "metadata": {},
   "outputs": [],
   "source": [
    "def get_wordnet_pos(word):\n",
    "    \"\"\"Map POS tag to first character lemmatize() accepts\"\"\"\n",
    "    tag = nltk.pos_tag([word])[0][1][0].upper()\n",
    "    tag_dict = {\"J\": wordnet.ADJ,\n",
    "                \"N\": wordnet.NOUN,\n",
    "                \"V\": wordnet.VERB,\n",
    "                \"R\": wordnet.ADV}\n",
    "\n",
    "    return tag_dict.get(tag, wordnet.NOUN)"
   ]
  },
  {
   "cell_type": "code",
   "execution_count": 8,
   "metadata": {},
   "outputs": [],
   "source": [
    "wordnet_lemmatizer = WordNetLemmatizer()\n",
    "\n",
    "def lemmatize(text):\n",
    "    text = [wordnet_lemmatizer.lemmatize(word, get_wordnet_pos(word)) for word in text.split()]\n",
    "    return \" \".join(text)\n",
    "\n",
    "df['Headline'] = df['Headline'].map(lemmatize)"
   ]
  },
  {
   "cell_type": "code",
   "execution_count": 9,
   "metadata": {},
   "outputs": [
    {
     "data": {
      "text/html": [
       "<div>\n",
       "<style scoped>\n",
       "    .dataframe tbody tr th:only-of-type {\n",
       "        vertical-align: middle;\n",
       "    }\n",
       "\n",
       "    .dataframe tbody tr th {\n",
       "        vertical-align: top;\n",
       "    }\n",
       "\n",
       "    .dataframe thead th {\n",
       "        text-align: right;\n",
       "    }\n",
       "</style>\n",
       "<table border=\"1\" class=\"dataframe\">\n",
       "  <thead>\n",
       "    <tr style=\"text-align: right;\">\n",
       "      <th></th>\n",
       "      <th>Sentiment</th>\n",
       "      <th>Headline</th>\n",
       "    </tr>\n",
       "  </thead>\n",
       "  <tbody>\n",
       "    <tr>\n",
       "      <td>0</td>\n",
       "      <td>0</td>\n",
       "      <td>contract include software licence , application maintenance training .</td>\n",
       "    </tr>\n",
       "    <tr>\n",
       "      <td>1</td>\n",
       "      <td>1</td>\n",
       "      <td>performance second half 2009 exceed expectation .</td>\n",
       "    </tr>\n",
       "    <tr>\n",
       "      <td>2</td>\n",
       "      <td>0</td>\n",
       "      <td>related link : flexiblebaseloadoperation thewartsila32generating set gasconversions shorter two version press release .</td>\n",
       "    </tr>\n",
       "    <tr>\n",
       "      <td>3</td>\n",
       "      <td>0</td>\n",
       "      <td>found 1994 , company us six-step , time-focused , collaborative project approach improve financial institution ' revenue stream .</td>\n",
       "    </tr>\n",
       "    <tr>\n",
       "      <td>4</td>\n",
       "      <td>0</td>\n",
       "      <td>business unit investlesprom group cover full forest industry chain , group own forest , sawmill , paper pulp mill , processing plant .</td>\n",
       "    </tr>\n",
       "  </tbody>\n",
       "</table>\n",
       "</div>"
      ],
      "text/plain": [
       "   Sentiment  \\\n",
       "0  0           \n",
       "1  1           \n",
       "2  0           \n",
       "3  0           \n",
       "4  0           \n",
       "\n",
       "                                                                                                                                 Headline  \n",
       "0  contract include software licence , application maintenance training .                                                                  \n",
       "1  performance second half 2009 exceed expectation .                                                                                       \n",
       "2  related link : flexiblebaseloadoperation thewartsila32generating set gasconversions shorter two version press release .                 \n",
       "3  found 1994 , company us six-step , time-focused , collaborative project approach improve financial institution ' revenue stream .       \n",
       "4  business unit investlesprom group cover full forest industry chain , group own forest , sawmill , paper pulp mill , processing plant .  "
      ]
     },
     "execution_count": 9,
     "metadata": {},
     "output_type": "execute_result"
    }
   ],
   "source": [
    "# Still looking good\n",
    "df.head()"
   ]
  },
  {
   "cell_type": "markdown",
   "metadata": {},
   "source": [
    "# EDA:"
   ]
  },
  {
   "cell_type": "markdown",
   "metadata": {},
   "source": [
    "Let's explore some word clouds to see the most commonly occurring words for each label."
   ]
  },
  {
   "cell_type": "code",
   "execution_count": 10,
   "metadata": {},
   "outputs": [],
   "source": [
    "# Separating out the categories\n",
    "pos = df.Headline[df.Sentiment[df.Sentiment== 1].index]\n",
    "neg = df.Headline[df.Sentiment[df.Sentiment== 0].index]"
   ]
  },
  {
   "cell_type": "code",
   "execution_count": 11,
   "metadata": {},
   "outputs": [],
   "source": [
    " def wordcloud(dataset):\n",
    "    plt.figure(figsize = (18,24)) # Text Reviews with positive Ratings\n",
    "    wordcloud = WordCloud(min_font_size = 3,  max_words = 2500 , width = 1200 , height = 800).generate(\" \".join(dataset))\n",
    "    plt.imshow(wordcloud,interpolation = 'bilinear')\n",
    "    plt.axis(\"off\")\n",
    "    plt.tight_layout(pad=0)\n",
    "    plt.show();\n",
    "\n",
    "def show_wordclouds():\n",
    "    print ('Positive Sentiment Wordcloud:')\n",
    "    wordcloud(pos)\n",
    "    ###\n",
    "    print ('Negative Sentiment Wordcloud:')\n",
    "    wordcloud(neg)\n",
    "    ###\n",
    "    "
   ]
  },
  {
   "cell_type": "code",
   "execution_count": 12,
   "metadata": {
    "scrolled": true
   },
   "outputs": [],
   "source": [
    "# Showing Word Clounds\n",
    "#show_wordclouds()"
   ]
  },
  {
   "cell_type": "markdown",
   "metadata": {},
   "source": [
    "Not too much useful information here.  There are some more words we can clean, but I would like to stay on the conservative side for now."
   ]
  },
  {
   "cell_type": "markdown",
   "metadata": {},
   "source": [
    "# Additional Cleaning:"
   ]
  },
  {
   "cell_type": "markdown",
   "metadata": {},
   "source": [
    "As we saw above, there are a few words that are quite common that occur in all 3 labels.  We'll add this to these to the stop word list and run the headlines through the filter again:\n",
    "- 'finnish'\n",
    "- 'say'\n",
    "- 'company'\n",
    "I'm leaving in 'eur' for now as it doesn't appear heavily in the 'Neutral' category.  This may help later on.  Depending on how the neural network performs later, I may or may not activate the following cells."
   ]
  },
  {
   "cell_type": "code",
   "execution_count": 13,
   "metadata": {},
   "outputs": [],
   "source": [
    "# Taking out a few more stop words:\n",
    "stop.add(\"finnish\")\n",
    "stop.add(\"say\")\n",
    "stop.add(\"company\")\n",
    "\n",
    "df['Headline'] = df['Headline'].map(remove_stopwords)"
   ]
  },
  {
   "cell_type": "code",
   "execution_count": 14,
   "metadata": {},
   "outputs": [
    {
     "data": {
      "text/html": [
       "<div>\n",
       "<style scoped>\n",
       "    .dataframe tbody tr th:only-of-type {\n",
       "        vertical-align: middle;\n",
       "    }\n",
       "\n",
       "    .dataframe tbody tr th {\n",
       "        vertical-align: top;\n",
       "    }\n",
       "\n",
       "    .dataframe thead th {\n",
       "        text-align: right;\n",
       "    }\n",
       "</style>\n",
       "<table border=\"1\" class=\"dataframe\">\n",
       "  <thead>\n",
       "    <tr style=\"text-align: right;\">\n",
       "      <th></th>\n",
       "      <th>Sentiment</th>\n",
       "      <th>Headline</th>\n",
       "    </tr>\n",
       "  </thead>\n",
       "  <tbody>\n",
       "    <tr>\n",
       "      <td>0</td>\n",
       "      <td>0</td>\n",
       "      <td>contract include software licence , application maintenance training .</td>\n",
       "    </tr>\n",
       "    <tr>\n",
       "      <td>1</td>\n",
       "      <td>1</td>\n",
       "      <td>performance second half 2009 exceed expectation .</td>\n",
       "    </tr>\n",
       "    <tr>\n",
       "      <td>2</td>\n",
       "      <td>0</td>\n",
       "      <td>related link : flexiblebaseloadoperation thewartsila32generating set gasconversions shorter two version press release .</td>\n",
       "    </tr>\n",
       "    <tr>\n",
       "      <td>3</td>\n",
       "      <td>0</td>\n",
       "      <td>found 1994 , us six-step , time-focused , collaborative project approach improve financial institution ' revenue stream .</td>\n",
       "    </tr>\n",
       "    <tr>\n",
       "      <td>4</td>\n",
       "      <td>0</td>\n",
       "      <td>business unit investlesprom group cover full forest industry chain , group forest , sawmill , paper pulp mill , processing plant .</td>\n",
       "    </tr>\n",
       "  </tbody>\n",
       "</table>\n",
       "</div>"
      ],
      "text/plain": [
       "   Sentiment  \\\n",
       "0  0           \n",
       "1  1           \n",
       "2  0           \n",
       "3  0           \n",
       "4  0           \n",
       "\n",
       "                                                                                                                             Headline  \n",
       "0  contract include software licence , application maintenance training .                                                              \n",
       "1  performance second half 2009 exceed expectation .                                                                                   \n",
       "2  related link : flexiblebaseloadoperation thewartsila32generating set gasconversions shorter two version press release .             \n",
       "3  found 1994 , us six-step , time-focused , collaborative project approach improve financial institution ' revenue stream .           \n",
       "4  business unit investlesprom group cover full forest industry chain , group forest , sawmill , paper pulp mill , processing plant .  "
      ]
     },
     "execution_count": 14,
     "metadata": {},
     "output_type": "execute_result"
    }
   ],
   "source": [
    "# Starting to feel a little like caveman speak, but hopefully this will be easier for the model to read!\n",
    "df.head()"
   ]
  },
  {
   "cell_type": "code",
   "execution_count": 15,
   "metadata": {},
   "outputs": [],
   "source": [
    "pos = df.Headline[df.Sentiment[df.Sentiment== 1].index]\n",
    "neg = df.Headline[df.Sentiment[df.Sentiment== 0].index]\n"
   ]
  },
  {
   "cell_type": "code",
   "execution_count": 16,
   "metadata": {
    "scrolled": true
   },
   "outputs": [],
   "source": [
    "# Showing Word Clounds with additional words removed\n",
    "#show_wordclouds()"
   ]
  },
  {
   "cell_type": "markdown",
   "metadata": {},
   "source": [
    "# Counter:"
   ]
  },
  {
   "cell_type": "code",
   "execution_count": 17,
   "metadata": {},
   "outputs": [],
   "source": [
    "def counter_word(text):\n",
    "    count = Counter()\n",
    "    for i in text.values:\n",
    "        for word in i.split():\n",
    "            count[word] += 1\n",
    "    return count"
   ]
  },
  {
   "cell_type": "code",
   "execution_count": 18,
   "metadata": {},
   "outputs": [],
   "source": [
    "text = df.Headline\n",
    "counter = counter_word(text)"
   ]
  },
  {
   "cell_type": "code",
   "execution_count": 19,
   "metadata": {},
   "outputs": [
    {
     "data": {
      "text/plain": [
       "10094"
      ]
     },
     "execution_count": 19,
     "metadata": {},
     "output_type": "execute_result"
    }
   ],
   "source": [
    "len(counter)"
   ]
  },
  {
   "cell_type": "code",
   "execution_count": 20,
   "metadata": {
    "scrolled": true
   },
   "outputs": [
    {
     "data": {
      "text/plain": [
       "{'contract': 177,\n",
       " 'include': 196,\n",
       " 'software': 75,\n",
       " 'licence': 7,\n",
       " ',': 4662,\n",
       " 'application': 57,\n",
       " 'maintenance': 33,\n",
       " 'training': 10,\n",
       " '.': 4780,\n",
       " 'performance': 33,\n",
       " 'second': 83,\n",
       " 'half': 57,\n",
       " '2009': 297,\n",
       " 'exceed': 4,\n",
       " 'expectation': 5,\n",
       " 'related': 34,\n",
       " 'link': 11,\n",
       " ':': 363,\n",
       " 'flexiblebaseloadoperation': 1,\n",
       " 'thewartsila32generating': 1,\n",
       " 'set': 36,\n",
       " 'gasconversions': 1,\n",
       " 'shorter': 1,\n",
       " 'two': 85,\n",
       " 'version': 10}"
      ]
     },
     "execution_count": 20,
     "metadata": {},
     "output_type": "execute_result"
    }
   ],
   "source": [
    "# showing the first 25 rows of the counter\n",
    "n = 25\n",
    "out = dict(list(counter.items())[0: n])  \n",
    "out"
   ]
  },
  {
   "cell_type": "code",
   "execution_count": 21,
   "metadata": {},
   "outputs": [],
   "source": [
    "num_words = len(counter)"
   ]
  },
  {
   "cell_type": "markdown",
   "metadata": {},
   "source": [
    "# Train/Test Split:"
   ]
  },
  {
   "cell_type": "code",
   "execution_count": 22,
   "metadata": {},
   "outputs": [],
   "source": [
    "# Generating the lists of headlines and labels\n",
    "headlines = []\n",
    "labels = []\n",
    "\n",
    "for row in range(len(df)):\n",
    "    headlines.append(df['Headline'][row])\n",
    "    labels.append(df['Sentiment'][row])"
   ]
  },
  {
   "cell_type": "code",
   "execution_count": 23,
   "metadata": {},
   "outputs": [],
   "source": [
    "# Setting the training ratio\n",
    "training_size = int(df.shape[0] * .8) # Out of 4846"
   ]
  },
  {
   "cell_type": "code",
   "execution_count": 24,
   "metadata": {},
   "outputs": [],
   "source": [
    "# Train Test Split:\n",
    "training_headlines = headlines[0:training_size]\n",
    "testing_headlines = headlines[training_size:]\n",
    "training_labels = labels[0:training_size]\n",
    "testing_labels = labels[training_size:]"
   ]
  },
  {
   "cell_type": "code",
   "execution_count": 25,
   "metadata": {},
   "outputs": [
    {
     "data": {
      "text/plain": [
       "['contract include software licence , application maintenance training .',\n",
       " 'performance second half 2009 exceed expectation .',\n",
       " 'related link : flexiblebaseloadoperation thewartsila32generating set gasconversions shorter two version press release .']"
      ]
     },
     "metadata": {},
     "output_type": "display_data"
    },
    {
     "data": {
      "text/plain": [
       "[0, 1, 0]"
      ]
     },
     "metadata": {},
     "output_type": "display_data"
    }
   ],
   "source": [
    "# Looks good\n",
    "display(training_headlines[:3])\n",
    "display(training_labels[:3])"
   ]
  },
  {
   "cell_type": "markdown",
   "metadata": {},
   "source": [
    "# Tokenization:"
   ]
  },
  {
   "cell_type": "code",
   "execution_count": 26,
   "metadata": {},
   "outputs": [],
   "source": [
    "vocab_size = len(counter) # approx 1/5 of the words \n",
    "embedding_dim = 32\n",
    "max_length = 50\n",
    "trunc_type='post'\n",
    "padding_type='post'\n",
    "oov_tok = \"<OOV>\""
   ]
  },
  {
   "cell_type": "code",
   "execution_count": 27,
   "metadata": {},
   "outputs": [],
   "source": [
    "\n",
    "# Initializing the fitting the tokenizer:\n",
    "tokenizer = Tokenizer(num_words = vocab_size, oov_token = oov_tok)\n",
    "tokenizer.fit_on_texts(training_headlines)\n",
    "# Initializing the Word Index:\n",
    "word_index = tokenizer.word_index\n",
    "# Padding and Sequencing the Training Set:\n",
    "training_sequences = tokenizer.texts_to_sequences(training_headlines)\n",
    "training_padded = pad_sequences(training_sequences, maxlen = max_length,\n",
    "                               padding = padding_type, \n",
    "                               truncating = trunc_type)\n",
    "# Padding and Sequencing the Testing Set:\n",
    "testing_sequences = tokenizer.texts_to_sequences(testing_headlines)\n",
    "testing_padded = pad_sequences(testing_sequences, maxlen = max_length, \n",
    "                               padding = padding_type, \n",
    "                               truncating = trunc_type)\n"
   ]
  },
  {
   "cell_type": "code",
   "execution_count": 28,
   "metadata": {},
   "outputs": [],
   "source": [
    "# Switch to Numpy Array\n",
    "training_padded = np.array(training_padded)\n",
    "training_labels = np.array(training_labels)\n",
    "testing_padded = np.array(testing_padded)\n",
    "testing_labels = np.array(testing_labels)"
   ]
  },
  {
   "cell_type": "code",
   "execution_count": 29,
   "metadata": {},
   "outputs": [
    {
     "name": "stdout",
     "output_type": "stream",
     "text": [
      "Padded and Tokenized Headline:\n",
      " [ 645 3731  455  343 1754  179 2590 3732   71  875  237   72 1524   90\n",
      "  162 1221    0    0    0    0    0    0    0    0    0    0    0    0\n",
      "    0    0    0    0    0    0    0    0    0    0    0    0    0    0\n",
      "    0    0    0    0    0    0    0    0]\n",
      "\n",
      "The actual headline:\n",
      " found 1994 , us six-step , time-focused , collaborative project approach improve financial institution ' revenue stream .\n",
      "\n",
      "Label:\n",
      " 0\n"
     ]
    }
   ],
   "source": [
    "# Example of what's happening under the hood:\n",
    "print ('Padded and Tokenized Headline:\\n', training_padded[3])\n",
    "print ('\\nThe actual headline:\\n', df.Headline[3])\n",
    "print ('\\nLabel:\\n', training_labels[3])"
   ]
  },
  {
   "cell_type": "markdown",
   "metadata": {},
   "source": [
    "## Taking a Look at Inputs:"
   ]
  },
  {
   "cell_type": "code",
   "execution_count": 30,
   "metadata": {},
   "outputs": [
    {
     "data": {
      "text/plain": [
       "'contract include software licence , application maintenance training .'"
      ]
     },
     "metadata": {},
     "output_type": "display_data"
    },
    {
     "name": "stdout",
     "output_type": "stream",
     "text": [
      "-----------------\n"
     ]
    },
    {
     "data": {
      "text/plain": [
       "array([  49,   41,  144, 1358,  185,  366,  940,    0,    0,    0,    0,\n",
       "          0,    0,    0,    0,    0,    0,    0,    0,    0,    0,    0,\n",
       "          0,    0,    0,    0,    0,    0,    0,    0,    0,    0,    0,\n",
       "          0,    0,    0,    0,    0,    0,    0,    0,    0,    0,    0,\n",
       "          0,    0,    0,    0,    0,    0], dtype=int32)"
      ]
     },
     "metadata": {},
     "output_type": "display_data"
    },
    {
     "name": "stdout",
     "output_type": "stream",
     "text": [
      "-----------------\n"
     ]
    },
    {
     "data": {
      "text/plain": [
       "0"
      ]
     },
     "metadata": {},
     "output_type": "display_data"
    },
    {
     "name": "stdout",
     "output_type": "stream",
     "text": [
      "-----------------\n"
     ]
    },
    {
     "data": {
      "text/plain": [
       "'200 volunteer fiskars , garden tool , home depot ( nyse : hd ) , city baltimore neighborhood work right create garden sanctuary - single day .'"
      ]
     },
     "metadata": {},
     "output_type": "display_data"
    },
    {
     "name": "stdout",
     "output_type": "stream",
     "text": [
      "-----------------\n"
     ]
    },
    {
     "data": {
      "text/plain": [
       "array([ 439, 2862,  519, 1599,  577,  484, 2752,  746,    1,  326, 5237,\n",
       "          1,  175,  151,  545, 1599,    1, 1248,  261,    0,    0,    0,\n",
       "          0,    0,    0,    0,    0,    0,    0,    0,    0,    0,    0,\n",
       "          0,    0,    0,    0,    0,    0,    0,    0,    0,    0,    0,\n",
       "          0,    0,    0,    0,    0,    0], dtype=int32)"
      ]
     },
     "metadata": {},
     "output_type": "display_data"
    },
    {
     "name": "stdout",
     "output_type": "stream",
     "text": [
      "-----------------\n"
     ]
    },
    {
     "data": {
      "text/plain": [
       "1"
      ]
     },
     "metadata": {},
     "output_type": "display_data"
    },
    {
     "name": "stdout",
     "output_type": "stream",
     "text": [
      "-----------------\n"
     ]
    }
   ],
   "source": [
    "# So far looks good:\n",
    "n = 0\n",
    "\n",
    "display(training_headlines[n])\n",
    "print('-----------------')\n",
    "display(training_padded[n])\n",
    "print('-----------------')\n",
    "display(training_labels[n])\n",
    "print('-----------------')\n",
    "\n",
    "display(testing_headlines[n])\n",
    "print('-----------------')\n",
    "display(testing_padded[n])\n",
    "print('-----------------')\n",
    "display(testing_labels[n])\n",
    "print('-----------------')\n"
   ]
  },
  {
   "cell_type": "code",
   "execution_count": 31,
   "metadata": {},
   "outputs": [
    {
     "name": "stdout",
     "output_type": "stream",
     "text": [
      "performance second half 2009 exceed expectation - - - - - - - - - - - - - - - - - - - - - - - - - - - - - - - - - - - - - - - - - - - -\n",
      "performance second half 2009 exceed expectation .\n",
      "1\n"
     ]
    }
   ],
   "source": [
    "# Making sure all our data works. . . \n",
    "reverse_word_index = dict([(value, key) for (key, value) in word_index.items()])\n",
    "\n",
    "def decode_sentence(text):\n",
    "    return ' '.join([reverse_word_index.get(i, '-') for i in text])\n",
    "\n",
    "print(decode_sentence(training_padded[1]))\n",
    "print(training_headlines[1])\n",
    "print(labels[1])"
   ]
  },
  {
   "cell_type": "markdown",
   "metadata": {},
   "source": [
    "# Modeling:"
   ]
  },
  {
   "cell_type": "markdown",
   "metadata": {},
   "source": [
    "## Baseline with TextBlob:"
   ]
  },
  {
   "cell_type": "markdown",
   "metadata": {},
   "source": [
    "TextBlob is a common library used for NLP.  It may not be optimized for news headlines, though.  Let's see how accurate it is on this dataset, then see if we can improve the results with an artificial neural network."
   ]
  },
  {
   "cell_type": "code",
   "execution_count": 32,
   "metadata": {},
   "outputs": [
    {
     "name": "stdout",
     "output_type": "stream",
     "text": [
      "0.0\n",
      "0.9099999999999999\n"
     ]
    }
   ],
   "source": [
    "from textblob import TextBlob\n",
    "df2 = df # Setting up test environment\n",
    "# Testing out some headlines\n",
    "headline1 = \"tesla lays off all employees\" # News headline\n",
    "headline2 = 'the food was very good'  # Basic easy statement\n",
    "blob1 = TextBlob(headline1)\n",
    "blob2 = TextBlob(headline2)\n",
    "print(blob1.polarity)\n",
    "print(blob2.polarity)"
   ]
  },
  {
   "cell_type": "code",
   "execution_count": 33,
   "metadata": {},
   "outputs": [
    {
     "data": {
      "text/plain": [
       "\"\\nthreshold = .1\\n\\nfor headline in df2['Headline']:\\n#    df2['tb_sent'] = (TextBlob(headline).polarity)\\n    df2['tb_sent'][headline] = (TextBlob(headline).polarity)\\n    \\n#for item in df['tb_sent']:\\n#    if item > threshold:\\n#        item = 1\\n#    else:\\n#        item = 0\\n\""
      ]
     },
     "execution_count": 33,
     "metadata": {},
     "output_type": "execute_result"
    }
   ],
   "source": [
    "'''\n",
    "threshold = .1\n",
    "\n",
    "for headline in df2['Headline']:\n",
    "#    df2['tb_sent'] = (TextBlob(headline).polarity)\n",
    "    df2['tb_sent'][headline] = (TextBlob(headline).polarity)\n",
    "    \n",
    "#for item in df['tb_sent']:\n",
    "#    if item > threshold:\n",
    "#        item = 1\n",
    "#    else:\n",
    "#        item = 0\n",
    "'''"
   ]
  },
  {
   "cell_type": "code",
   "execution_count": 34,
   "metadata": {},
   "outputs": [],
   "source": [
    "# TextBlob Accuracy:"
   ]
  },
  {
   "cell_type": "markdown",
   "metadata": {},
   "source": [
    "## Baseline with Vader:"
   ]
  },
  {
   "cell_type": "markdown",
   "metadata": {},
   "source": [
    "Vader is another commonly used sentiment analysis toolbox.  Let's see if we can get better results with this."
   ]
  },
  {
   "cell_type": "code",
   "execution_count": 35,
   "metadata": {},
   "outputs": [
    {
     "data": {
      "text/plain": [
       "{'neg': 0.0, 'neu': 1.0, 'pos': 0.0, 'compound': 0.0}"
      ]
     },
     "execution_count": 35,
     "metadata": {},
     "output_type": "execute_result"
    }
   ],
   "source": [
    "#nltk.download('vader_lexicon')\n",
    "from nltk.sentiment.vader import SentimentIntensityAnalyzer\n",
    "sid = SentimentIntensityAnalyzer()\n",
    "sid.polarity_scores('The international electronic industry company Elcoteq has laid off tens of employees from its Tallinn facility ; contrary to earlier layoffs the company contracted the ranks of its office workers , the daily Postimees reported .')"
   ]
  },
  {
   "cell_type": "code",
   "execution_count": 36,
   "metadata": {},
   "outputs": [],
   "source": [
    "# Vader Accuracy:"
   ]
  },
  {
   "cell_type": "markdown",
   "metadata": {},
   "source": [
    "# Neural Network:"
   ]
  },
  {
   "cell_type": "code",
   "execution_count": 37,
   "metadata": {},
   "outputs": [],
   "source": [
    "# First let's define the functions for model evaluation\n",
    "def model_eval(history):\n",
    "    pd.DataFrame(history.history).plot(figsize = (12,8)) # Was 8, 5 before\n",
    "    plt.grid(True)\n",
    "    plt.gca().set_ylim(0, 1)\n",
    "    plt.show\n",
    "def plot_graphs(history, string):\n",
    "  plt.plot(history.history[string])\n",
    "  plt.plot(history.history['val_'+string])\n",
    "  plt.xlabel(\"Epochs\")\n",
    "  plt.ylabel(string)\n",
    "  plt.legend([string, 'val_'+string])\n",
    "  plt.show()\n",
    "\n",
    "def model_metrics(model):\n",
    "    train_acc = model.evaluate(training_padded, training_labels, verbose=0)\n",
    "    test_acc = model.evaluate(testing_padded, testing_labels, verbose=0)\n",
    "    print('Train Loss:', \"{:.3%}\".format(train_acc[0]))\n",
    "    print('Train Accuracy:', \"{:.3%}\".format(train_acc[1]))\n",
    "    print('Test Loss:', \"{:.3%}\".format(test_acc[0]))\n",
    "    print('Test Accuracy:', \"{:.3%}\".format(test_acc[1]))\n",
    "    \n",
    "def easy_headlines():\n",
    "    sentence = [\"Stock rise rapid for Tesla\", \n",
    "            \"Apple factory shut down, lay off hundred employee\",\n",
    "           \"Average day of return for Microsoft\"]\n",
    "    sequences = tokenizer.texts_to_sequences(sentence)\n",
    "    padded = pad_sequences(sequences, maxlen=max_length, \n",
    "                           padding=padding_type, \n",
    "                           truncating=trunc_type)\n",
    "    for headline in sentence:    \n",
    "        print (headline)\n",
    "    print(model.predict(padded))\n",
    "    \n",
    "def harder_headlines():\n",
    "    sentence = [\"Former Nissan Executive Greg Kelly Pleads Not Guilty at Tokyo Trial\", \n",
    "            \"Amazon to Hire 100,000 in U.S. and Canada\",\n",
    "           \"Disney’s ‘Mulan’ Top China Box Office Amid Controversy\"]\n",
    "    sequences = tokenizer.texts_to_sequences(sentence)\n",
    "    padded = pad_sequences(sequences, maxlen=max_length, \n",
    "                           padding=padding_type, \n",
    "                           truncating=trunc_type)\n",
    "    for headline in sentence:    \n",
    "        print (headline)\n",
    "    print(model.predict(padded))\n",
    "\n",
    "    \n",
    "def test_headlines():\n",
    "    print('Easier Headlines:')\n",
    "    easy_headlines()\n",
    "    print ('\\n')\n",
    "    print ('Realistic Headlines:')\n",
    "    harder_headlines()"
   ]
  },
  {
   "cell_type": "markdown",
   "metadata": {},
   "source": [
    "Now it's time to build a baseline neural network:"
   ]
  },
  {
   "cell_type": "markdown",
   "metadata": {},
   "source": [
    "## Model 1 (1 Hidden Layer):"
   ]
  },
  {
   "cell_type": "code",
   "execution_count": 75,
   "metadata": {},
   "outputs": [],
   "source": [
    "model = Sequential()\n",
    "model.add(Embedding(vocab_size, embedding_dim, input_length=max_length))\n",
    "model.add(GlobalAveragePooling1D())\n",
    "model.add(Dense(200, activation='relu'))\n",
    "model.add(Dropout(0.2)) # Optional Regularization\n",
    "#model.add(Dense(150, activation='relu')) # Optional second hidden layer\n",
    "#model.add(Dropout(0.2)) # Optional Regularization\n",
    "model.add(Dense(1, activation='sigmoid'))\n",
    "\n",
    "#model.compile(loss='binary_crossentropy',optimizer='Adam',metrics=['accuracy']) # Orig code\n",
    "\n",
    "#Messing with learning rate\n",
    "opt = keras.optimizers.Adam(lr=0.0001)\n",
    "model.compile(loss='binary_crossentropy',optimizer= opt, \n",
    "              metrics=['accuracy']) # Orig code"
   ]
  },
  {
   "cell_type": "code",
   "execution_count": 76,
   "metadata": {
    "scrolled": true
   },
   "outputs": [
    {
     "name": "stdout",
     "output_type": "stream",
     "text": [
      "Train on 3876 samples, validate on 970 samples\n",
      "Epoch 1/50\n",
      "3876/3876 [==============================] - 3s 647us/step - loss: 0.6451 - acc: 0.7198 - val_loss: 0.6062 - val_acc: 0.7155\n",
      "Epoch 2/50\n",
      "3876/3876 [==============================] - 2s 485us/step - loss: 0.5906 - acc: 0.7196 - val_loss: 0.5897 - val_acc: 0.7155\n",
      "Epoch 3/50\n",
      "3876/3876 [==============================] - 2s 490us/step - loss: 0.5838 - acc: 0.7196 - val_loss: 0.5875 - val_acc: 0.7155\n",
      "Epoch 4/50\n",
      "3876/3876 [==============================] - 2s 487us/step - loss: 0.5805 - acc: 0.7196 - val_loss: 0.5853 - val_acc: 0.7155\n",
      "Epoch 5/50\n",
      "3876/3876 [==============================] - 2s 486us/step - loss: 0.5763 - acc: 0.7196 - val_loss: 0.5823 - val_acc: 0.7155\n",
      "Epoch 6/50\n",
      "3876/3876 [==============================] - 2s 488us/step - loss: 0.5705 - acc: 0.7196 - val_loss: 0.5785 - val_acc: 0.7155\n",
      "Epoch 7/50\n",
      "3876/3876 [==============================] - 2s 487us/step - loss: 0.5643 - acc: 0.7198 - val_loss: 0.5734 - val_acc: 0.7155\n",
      "Epoch 8/50\n",
      "3876/3876 [==============================] - 2s 489us/step - loss: 0.5545 - acc: 0.7198 - val_loss: 0.5666 - val_acc: 0.7196\n",
      "Epoch 9/50\n",
      "3876/3876 [==============================] - 2s 486us/step - loss: 0.5418 - acc: 0.7260 - val_loss: 0.5584 - val_acc: 0.7268\n",
      "Epoch 10/50\n",
      "3876/3876 [==============================] - 2s 487us/step - loss: 0.5256 - acc: 0.7345 - val_loss: 0.5489 - val_acc: 0.7268\n",
      "Epoch 11/50\n",
      "3876/3876 [==============================] - 2s 487us/step - loss: 0.5068 - acc: 0.7446 - val_loss: 0.5387 - val_acc: 0.7278\n",
      "Epoch 12/50\n",
      "3876/3876 [==============================] - 2s 486us/step - loss: 0.4856 - acc: 0.7536 - val_loss: 0.5283 - val_acc: 0.7381\n",
      "Epoch 13/50\n",
      "3876/3876 [==============================] - 2s 516us/step - loss: 0.4607 - acc: 0.7701 - val_loss: 0.5167 - val_acc: 0.7433\n",
      "Epoch 14/50\n",
      "3876/3876 [==============================] - 2s 554us/step - loss: 0.4343 - acc: 0.7874 - val_loss: 0.5049 - val_acc: 0.7433\n",
      "Epoch 15/50\n",
      "3876/3876 [==============================] - 2s 602us/step - loss: 0.4059 - acc: 0.8070 - val_loss: 0.4926 - val_acc: 0.7485\n",
      "Epoch 16/50\n",
      "3876/3876 [==============================] - 2s 536us/step - loss: 0.3758 - acc: 0.8326 - val_loss: 0.4811 - val_acc: 0.7536\n",
      "Epoch 17/50\n",
      "3876/3876 [==============================] - 2s 563us/step - loss: 0.3471 - acc: 0.8501 - val_loss: 0.4704 - val_acc: 0.7660\n",
      "Epoch 18/50\n",
      "3876/3876 [==============================] - 2s 529us/step - loss: 0.3196 - acc: 0.8718 - val_loss: 0.4637 - val_acc: 0.7753\n",
      "Epoch 19/50\n",
      "3876/3876 [==============================] - 2s 576us/step - loss: 0.2951 - acc: 0.8854 - val_loss: 0.4558 - val_acc: 0.7887\n",
      "Epoch 20/50\n",
      "3876/3876 [==============================] - 3s 669us/step - loss: 0.2715 - acc: 0.8973 - val_loss: 0.4527 - val_acc: 0.7938\n",
      "Epoch 21/50\n",
      "3876/3876 [==============================] - 2s 601us/step - loss: 0.2500 - acc: 0.9074 - val_loss: 0.4572 - val_acc: 0.7907\n",
      "Epoch 22/50\n",
      "3876/3876 [==============================] - 2s 530us/step - loss: 0.2326 - acc: 0.9154 - val_loss: 0.4498 - val_acc: 0.8103\n",
      "Epoch 23/50\n",
      "3876/3876 [==============================] - 2s 505us/step - loss: 0.2171 - acc: 0.9211 - val_loss: 0.4557 - val_acc: 0.8103\n",
      "Epoch 24/50\n",
      "3876/3876 [==============================] - 2s 502us/step - loss: 0.2013 - acc: 0.9278 - val_loss: 0.4565 - val_acc: 0.8134\n",
      "Epoch 25/50\n",
      "3876/3876 [==============================] - 2s 496us/step - loss: 0.1891 - acc: 0.9319 - val_loss: 0.4570 - val_acc: 0.8175\n",
      "Epoch 26/50\n",
      "3876/3876 [==============================] - 2s 491us/step - loss: 0.1759 - acc: 0.9368 - val_loss: 0.4672 - val_acc: 0.8175\n",
      "Epoch 27/50\n",
      "3876/3876 [==============================] - 2s 497us/step - loss: 0.1650 - acc: 0.9404 - val_loss: 0.4742 - val_acc: 0.8186\n",
      "Epoch 00027: early stopping\n"
     ]
    }
   ],
   "source": [
    "num_epochs = 50\n",
    "# patient early stopping\n",
    "es = EarlyStopping(monitor='val_loss', mode='min', verbose=1, patience=5)\n",
    "history = model.fit(training_padded, training_labels, \n",
    "                    epochs=num_epochs,\n",
    "                    batch_size = 10,\n",
    "                    validation_data=(testing_padded, testing_labels), \n",
    "                    verbose= 1, callbacks=[es])"
   ]
  },
  {
   "cell_type": "code",
   "execution_count": 77,
   "metadata": {},
   "outputs": [
    {
     "data": {
      "image/png": "[encoded data removed]",
      "text/plain": [
       "<Figure size 864x576 with 1 Axes>"
      ]
     },
     "metadata": {
      "needs_background": "light"
     },
     "output_type": "display_data"
    }
   ],
   "source": [
    "model_eval(history)"
   ]
  },
  {
   "cell_type": "code",
   "execution_count": 78,
   "metadata": {},
   "outputs": [
    {
     "name": "stdout",
     "output_type": "stream",
     "text": [
      "Train Loss: 15.503%\n",
      "Train Accuracy: 94.401%\n",
      "Test Loss: 47.420%\n",
      "Test Accuracy: 81.856%\n"
     ]
    }
   ],
   "source": [
    "model_metrics(model)"
   ]
  },
  {
   "cell_type": "code",
   "execution_count": 79,
   "metadata": {},
   "outputs": [
    {
     "name": "stdout",
     "output_type": "stream",
     "text": [
      "Easier Headlines:\n",
      "Stock rise rapid for Tesla\n",
      "Apple factory shut down, lay off hundred employee\n",
      "Average day of return for Microsoft\n",
      "[[0.71042013]\n",
      " [0.00271147]\n",
      " [0.25556785]]\n",
      "\n",
      "\n",
      "Realistic Headlines:\n",
      "Former Nissan Executive Greg Kelly Pleads Not Guilty at Tokyo Trial\n",
      "Amazon to Hire 100,000 in U.S. and Canada\n",
      "Disney’s ‘Mulan’ Top China Box Office Amid Controversy\n",
      "[[0.08748842]\n",
      " [0.11250847]\n",
      " [0.02616401]]\n"
     ]
    }
   ],
   "source": [
    "test_headlines()"
   ]
  },
  {
   "cell_type": "markdown",
   "metadata": {},
   "source": [
    "## Model 2 (2 Hidden Layers):"
   ]
  },
  {
   "cell_type": "code",
   "execution_count": 80,
   "metadata": {},
   "outputs": [],
   "source": [
    "model = Sequential()\n",
    "model.add(Embedding(vocab_size, embedding_dim, input_length=max_length))\n",
    "model.add(GlobalAveragePooling1D())\n",
    "model.add(Dense(200, activation='relu'))\n",
    "model.add(Dropout(0.2)) # Optional Regularization\n",
    "model.add(Dense(200, activation='relu')) # Optional second hidden layer\n",
    "model.add(Dropout(0.2)) # Optional Regularization\n",
    "model.add(Dense(1, activation='sigmoid'))\n",
    "\n",
    "#model.compile(loss='binary_crossentropy',optimizer='Adam',metrics=['accuracy']) # Orig code\n",
    "\n",
    "#Messing with learning rate\n",
    "opt = keras.optimizers.Adam(lr=0.0001)\n",
    "model.compile(loss='binary_crossentropy',optimizer= opt, \n",
    "              metrics=['accuracy']) # Orig code\n"
   ]
  },
  {
   "cell_type": "code",
   "execution_count": 81,
   "metadata": {
    "scrolled": true
   },
   "outputs": [
    {
     "name": "stdout",
     "output_type": "stream",
     "text": [
      "Train on 3876 samples, validate on 970 samples\n",
      "Epoch 1/50\n",
      "3876/3876 [==============================] - 3s 723us/step - loss: 0.6149 - acc: 0.7196 - val_loss: 0.5913 - val_acc: 0.7155\n",
      "Epoch 2/50\n",
      "3876/3876 [==============================] - 2s 556us/step - loss: 0.5859 - acc: 0.7196 - val_loss: 0.5882 - val_acc: 0.7155\n",
      "Epoch 3/50\n",
      "3876/3876 [==============================] - 2s 553us/step - loss: 0.5793 - acc: 0.7196 - val_loss: 0.5849 - val_acc: 0.7155\n",
      "Epoch 4/50\n",
      "3876/3876 [==============================] - 2s 550us/step - loss: 0.5709 - acc: 0.7196 - val_loss: 0.5738 - val_acc: 0.7155\n",
      "Epoch 5/50\n",
      "3876/3876 [==============================] - 2s 541us/step - loss: 0.5460 - acc: 0.7232 - val_loss: 0.5539 - val_acc: 0.7237\n",
      "Epoch 6/50\n",
      "3876/3876 [==============================] - 2s 546us/step - loss: 0.5042 - acc: 0.7485 - val_loss: 0.5243 - val_acc: 0.7412\n",
      "Epoch 7/50\n",
      "3876/3876 [==============================] - 2s 549us/step - loss: 0.4325 - acc: 0.7928 - val_loss: 0.4958 - val_acc: 0.7485\n",
      "Epoch 8/50\n",
      "3876/3876 [==============================] - 2s 558us/step - loss: 0.3525 - acc: 0.8467 - val_loss: 0.4631 - val_acc: 0.7866\n",
      "Epoch 9/50\n",
      "3876/3876 [==============================] - 2s 563us/step - loss: 0.2803 - acc: 0.8891 - val_loss: 0.4538 - val_acc: 0.8062\n",
      "Epoch 10/50\n",
      "3876/3876 [==============================] - 2s 569us/step - loss: 0.2347 - acc: 0.9102 - val_loss: 0.4583 - val_acc: 0.8082\n",
      "Epoch 11/50\n",
      "3876/3876 [==============================] - 2s 555us/step - loss: 0.2006 - acc: 0.9208 - val_loss: 0.4869 - val_acc: 0.8155\n",
      "Epoch 12/50\n",
      "3876/3876 [==============================] - 2s 547us/step - loss: 0.1730 - acc: 0.9332 - val_loss: 0.4876 - val_acc: 0.8072\n",
      "Epoch 13/50\n",
      "3876/3876 [==============================] - 2s 549us/step - loss: 0.1511 - acc: 0.9417 - val_loss: 0.5124 - val_acc: 0.8082\n",
      "Epoch 14/50\n",
      "3876/3876 [==============================] - 2s 556us/step - loss: 0.1321 - acc: 0.9525 - val_loss: 0.5300 - val_acc: 0.8093\n",
      "Epoch 00014: early stopping\n"
     ]
    }
   ],
   "source": [
    "num_epochs = 50\n",
    "# patient early stopping\n",
    "es = EarlyStopping(monitor='val_loss', mode='min', verbose=1, patience=5)\n",
    "history = model.fit(training_padded, training_labels, \n",
    "                    epochs=num_epochs,\n",
    "                    batch_size = 10,\n",
    "                    validation_data=(testing_padded, testing_labels), \n",
    "                    verbose= 1, callbacks=[es])"
   ]
  },
  {
   "cell_type": "markdown",
   "metadata": {},
   "source": [
    "### Model Evaluation:"
   ]
  },
  {
   "cell_type": "code",
   "execution_count": 82,
   "metadata": {},
   "outputs": [
    {
     "name": "stdout",
     "output_type": "stream",
     "text": [
      "Train Loss: 11.462%\n",
      "Train Accuracy: 96.491%\n",
      "Test Loss: 53.000%\n",
      "Test Accuracy: 80.928%\n"
     ]
    }
   ],
   "source": [
    "model_metrics(model)"
   ]
  },
  {
   "cell_type": "code",
   "execution_count": 83,
   "metadata": {},
   "outputs": [
    {
     "data": {
      "image/png": "[encoded data removed]",
      "text/plain": [
       "<Figure size 864x576 with 1 Axes>"
      ]
     },
     "metadata": {
      "needs_background": "light"
     },
     "output_type": "display_data"
    }
   ],
   "source": [
    "model_eval(history)"
   ]
  },
  {
   "cell_type": "code",
   "execution_count": 84,
   "metadata": {},
   "outputs": [
    {
     "name": "stdout",
     "output_type": "stream",
     "text": [
      "Easier Headlines:\n",
      "Stock rise rapid for Tesla\n",
      "Apple factory shut down, lay off hundred employee\n",
      "Average day of return for Microsoft\n",
      "[[9.2770290e-01]\n",
      " [9.2171901e-04]\n",
      " [4.4472435e-01]]\n",
      "\n",
      "\n",
      "Realistic Headlines:\n",
      "Former Nissan Executive Greg Kelly Pleads Not Guilty at Tokyo Trial\n",
      "Amazon to Hire 100,000 in U.S. and Canada\n",
      "Disney’s ‘Mulan’ Top China Box Office Amid Controversy\n",
      "[[0.07866773]\n",
      " [0.12760141]\n",
      " [0.00863425]]\n"
     ]
    }
   ],
   "source": [
    "test_headlines()"
   ]
  },
  {
   "cell_type": "markdown",
   "metadata": {},
   "source": [
    "## Model 3 (LSTM):"
   ]
  },
  {
   "cell_type": "markdown",
   "metadata": {},
   "source": [
    "LSTM (Long Short Term Memory) models are quite popular as well for NLP.  Let's give it a try."
   ]
  },
  {
   "cell_type": "code",
   "execution_count": 43,
   "metadata": {},
   "outputs": [],
   "source": [
    "model = Sequential()\n",
    "model.add(Embedding(vocab_size, embedding_dim, input_length=max_length))\n",
    "model.add(LSTM(64, dropout = 0.1))\n",
    "model.add(Dense(35, activation='relu'))\n",
    "model.add(Dense(1, activation='sigmoid'))\n",
    "\n",
    "model.compile(loss='binary_crossentropy',optimizer='Adam',metrics=['accuracy']) # Orig code"
   ]
  },
  {
   "cell_type": "code",
   "execution_count": 44,
   "metadata": {
    "scrolled": true
   },
   "outputs": [
    {
     "name": "stdout",
     "output_type": "stream",
     "text": [
      "Train on 3876 samples, validate on 970 samples\n",
      "Epoch 1/50\n",
      "3876/3876 [==============================] - 10s 3ms/step - loss: 0.6037 - acc: 0.7178 - val_loss: 0.5981 - val_acc: 0.7155\n",
      "Epoch 2/50\n",
      "3876/3876 [==============================] - 10s 3ms/step - loss: 0.5606 - acc: 0.7330 - val_loss: 0.5139 - val_acc: 0.7557\n",
      "Epoch 3/50\n",
      "3876/3876 [==============================] - 10s 3ms/step - loss: 0.3926 - acc: 0.8372 - val_loss: 0.4870 - val_acc: 0.7773\n",
      "Epoch 4/50\n",
      "3876/3876 [==============================] - 11s 3ms/step - loss: 0.2332 - acc: 0.9177 - val_loss: 0.4655 - val_acc: 0.7938\n",
      "Epoch 5/50\n",
      "3876/3876 [==============================] - 11s 3ms/step - loss: 0.1592 - acc: 0.9499 - val_loss: 0.6533 - val_acc: 0.7938\n",
      "Epoch 6/50\n",
      "3876/3876 [==============================] - 10s 3ms/step - loss: 0.1197 - acc: 0.9696 - val_loss: 0.5885 - val_acc: 0.7866\n",
      "Epoch 7/50\n",
      "3876/3876 [==============================] - 10s 2ms/step - loss: 0.0920 - acc: 0.9757 - val_loss: 0.7813 - val_acc: 0.7825\n",
      "Epoch 8/50\n",
      "3876/3876 [==============================] - 9s 2ms/step - loss: 0.0762 - acc: 0.9799 - val_loss: 0.7664 - val_acc: 0.7835\n",
      "Epoch 9/50\n",
      "3876/3876 [==============================] - 9s 2ms/step - loss: 0.0677 - acc: 0.9845 - val_loss: 0.8058 - val_acc: 0.7887\n",
      "Epoch 00009: early stopping\n"
     ]
    }
   ],
   "source": [
    "num_epochs = 50\n",
    "es = EarlyStopping(monitor='val_loss', mode='min', verbose=1, patience=5)\n",
    "history = model.fit(training_padded, training_labels, \n",
    "                    epochs=num_epochs,\n",
    "                    batch_size = 24,\n",
    "                    validation_data=(testing_padded, testing_labels), \n",
    "                    verbose= 1, callbacks = [es])"
   ]
  },
  {
   "cell_type": "markdown",
   "metadata": {},
   "source": [
    "### Model Evaluation:"
   ]
  },
  {
   "cell_type": "code",
   "execution_count": 45,
   "metadata": {},
   "outputs": [
    {
     "name": "stdout",
     "output_type": "stream",
     "text": [
      "Train Loss: 4.590%\n",
      "Train Accuracy: 99.071%\n",
      "Test Loss: 80.585%\n",
      "Test Accuracy: 78.866%\n"
     ]
    }
   ],
   "source": [
    "model_metrics(model)"
   ]
  },
  {
   "cell_type": "code",
   "execution_count": 46,
   "metadata": {},
   "outputs": [
    {
     "data": {
      "image/png": "[encoded data removed]",
      "text/plain": [
       "<Figure size 864x576 with 1 Axes>"
      ]
     },
     "metadata": {
      "needs_background": "light"
     },
     "output_type": "display_data"
    }
   ],
   "source": [
    "model_eval(history)"
   ]
  },
  {
   "cell_type": "code",
   "execution_count": 47,
   "metadata": {},
   "outputs": [
    {
     "name": "stdout",
     "output_type": "stream",
     "text": [
      "Easier Headlines:\n",
      "Stock rise rapid for Tesla\n",
      "Apple factory shut down, lay off hundred employee\n",
      "Average day of return for Microsoft\n",
      "[[0.9881402 ]\n",
      " [0.00393428]\n",
      " [0.4292873 ]]\n",
      "\n",
      "\n",
      "Realistic Headlines:\n",
      "Former Nissan Executive Greg Kelly Pleads Not Guilty at Tokyo Trial\n",
      "Amazon to Hire 100,000 in U.S. and Canada\n",
      "Disney’s ‘Mulan’ Top China Box Office Amid Controversy\n",
      "[[0.00465407]\n",
      " [0.1300371 ]\n",
      " [0.00394056]]\n"
     ]
    }
   ],
   "source": [
    "test_headlines()"
   ]
  },
  {
   "cell_type": "markdown",
   "metadata": {},
   "source": [
    "## Embedding Model 2:"
   ]
  },
  {
   "cell_type": "markdown",
   "metadata": {},
   "source": [
    "This model has some different architecture than the first.  Let's see if we can improve our accuracy. "
   ]
  },
  {
   "cell_type": "code",
   "execution_count": 85,
   "metadata": {},
   "outputs": [],
   "source": [
    "model = keras.Sequential([\n",
    "    keras.layers.Embedding(vocab_size, embedding_dim, input_length=max_length),\n",
    "    keras.layers.GlobalAveragePooling1D(),\n",
    "    keras.layers.Dense(50, activation='relu'),\n",
    "    keras.layers.Dropout(0.2), # Optional Regularization\n",
    "    keras.layers.Dense(50, activation='relu'), # Optional second hidden layer\n",
    "    keras.layers.Dropout(0.2), # Optional Regularization\n",
    "    keras.layers.Dense(1, activation='sigmoid')])\n",
    "\n",
    "opt = keras.optimizers.Adam(lr=0.0001)\n",
    "model.compile(loss='binary_crossentropy',optimizer = opt, metrics=['accuracy']) # Orig code\n"
   ]
  },
  {
   "cell_type": "code",
   "execution_count": 86,
   "metadata": {},
   "outputs": [],
   "source": [
    "#model.summary()"
   ]
  },
  {
   "cell_type": "code",
   "execution_count": 87,
   "metadata": {
    "scrolled": true
   },
   "outputs": [
    {
     "name": "stdout",
     "output_type": "stream",
     "text": [
      "Train on 3876 samples, validate on 970 samples\n",
      "Epoch 1/50\n",
      "3876/3876 [==============================] - 1s 356us/step - loss: 0.6780 - acc: 0.6850 - val_loss: 0.6590 - val_acc: 0.7155\n",
      "Epoch 2/50\n",
      "3876/3876 [==============================] - 1s 168us/step - loss: 0.6398 - acc: 0.7196 - val_loss: 0.6203 - val_acc: 0.7155\n",
      "Epoch 3/50\n",
      "3876/3876 [==============================] - 1s 170us/step - loss: 0.6044 - acc: 0.7196 - val_loss: 0.5961 - val_acc: 0.7155\n",
      "Epoch 4/50\n",
      "3876/3876 [==============================] - 1s 167us/step - loss: 0.5925 - acc: 0.7196 - val_loss: 0.5909 - val_acc: 0.7155\n",
      "Epoch 5/50\n",
      "3876/3876 [==============================] - 1s 169us/step - loss: 0.5867 - acc: 0.7196 - val_loss: 0.5893 - val_acc: 0.7155\n",
      "Epoch 6/50\n",
      "3876/3876 [==============================] - 1s 166us/step - loss: 0.5861 - acc: 0.7196 - val_loss: 0.5881 - val_acc: 0.7155\n",
      "Epoch 7/50\n",
      "3876/3876 [==============================] - 1s 168us/step - loss: 0.5822 - acc: 0.7196 - val_loss: 0.5869 - val_acc: 0.7155\n",
      "Epoch 8/50\n",
      "3876/3876 [==============================] - 1s 167us/step - loss: 0.5821 - acc: 0.7196 - val_loss: 0.5854 - val_acc: 0.7155\n",
      "Epoch 9/50\n",
      "3876/3876 [==============================] - 1s 182us/step - loss: 0.5776 - acc: 0.7196 - val_loss: 0.5836 - val_acc: 0.7155\n",
      "Epoch 10/50\n",
      "3876/3876 [==============================] - 1s 176us/step - loss: 0.5752 - acc: 0.7196 - val_loss: 0.5815 - val_acc: 0.7155\n",
      "Epoch 11/50\n",
      "3876/3876 [==============================] - 1s 196us/step - loss: 0.5721 - acc: 0.7196 - val_loss: 0.5788 - val_acc: 0.7155\n",
      "Epoch 12/50\n",
      "3876/3876 [==============================] - 1s 204us/step - loss: 0.5669 - acc: 0.7196 - val_loss: 0.5757 - val_acc: 0.7155\n",
      "Epoch 13/50\n",
      "3876/3876 [==============================] - 1s 195us/step - loss: 0.5644 - acc: 0.7196 - val_loss: 0.5716 - val_acc: 0.7155\n",
      "Epoch 14/50\n",
      "3876/3876 [==============================] - 1s 211us/step - loss: 0.5540 - acc: 0.7196 - val_loss: 0.5666 - val_acc: 0.7155\n",
      "Epoch 15/50\n",
      "3876/3876 [==============================] - 1s 214us/step - loss: 0.5457 - acc: 0.7206 - val_loss: 0.5607 - val_acc: 0.7186\n",
      "Epoch 16/50\n",
      "3876/3876 [==============================] - 1s 186us/step - loss: 0.5317 - acc: 0.7281 - val_loss: 0.5533 - val_acc: 0.7289\n",
      "Epoch 17/50\n",
      "3876/3876 [==============================] - 1s 173us/step - loss: 0.5165 - acc: 0.7397 - val_loss: 0.5431 - val_acc: 0.7289\n",
      "Epoch 18/50\n",
      "3876/3876 [==============================] - 1s 180us/step - loss: 0.4948 - acc: 0.7510 - val_loss: 0.5309 - val_acc: 0.7330\n",
      "Epoch 19/50\n",
      "3876/3876 [==============================] - 1s 171us/step - loss: 0.4680 - acc: 0.7663 - val_loss: 0.5179 - val_acc: 0.7371\n",
      "Epoch 20/50\n",
      "3876/3876 [==============================] - 1s 175us/step - loss: 0.4406 - acc: 0.7910 - val_loss: 0.5054 - val_acc: 0.7412\n",
      "Epoch 21/50\n",
      "3876/3876 [==============================] - 1s 167us/step - loss: 0.4058 - acc: 0.8155 - val_loss: 0.4923 - val_acc: 0.7433\n",
      "Epoch 22/50\n",
      "3876/3876 [==============================] - 1s 170us/step - loss: 0.3805 - acc: 0.8326 - val_loss: 0.4808 - val_acc: 0.7588\n",
      "Epoch 23/50\n",
      "3876/3876 [==============================] - 1s 175us/step - loss: 0.3517 - acc: 0.8519 - val_loss: 0.4713 - val_acc: 0.7649\n",
      "Epoch 24/50\n",
      "3876/3876 [==============================] - 1s 178us/step - loss: 0.3296 - acc: 0.8661 - val_loss: 0.4636 - val_acc: 0.7763\n",
      "Epoch 25/50\n",
      "3876/3876 [==============================] - 1s 174us/step - loss: 0.3027 - acc: 0.8847 - val_loss: 0.4564 - val_acc: 0.7876\n",
      "Epoch 26/50\n",
      "3876/3876 [==============================] - 1s 179us/step - loss: 0.2812 - acc: 0.8973 - val_loss: 0.4518 - val_acc: 0.7969\n",
      "Epoch 27/50\n",
      "3876/3876 [==============================] - 1s 168us/step - loss: 0.2576 - acc: 0.9097 - val_loss: 0.4495 - val_acc: 0.8031\n",
      "Epoch 28/50\n",
      "3876/3876 [==============================] - 1s 175us/step - loss: 0.2433 - acc: 0.9069 - val_loss: 0.4497 - val_acc: 0.8031\n",
      "Epoch 29/50\n",
      "3876/3876 [==============================] - 1s 173us/step - loss: 0.2241 - acc: 0.9208 - val_loss: 0.4587 - val_acc: 0.7979\n",
      "Epoch 30/50\n",
      "3876/3876 [==============================] - 1s 174us/step - loss: 0.2135 - acc: 0.9218 - val_loss: 0.4534 - val_acc: 0.8124\n",
      "Epoch 31/50\n",
      "3876/3876 [==============================] - 1s 180us/step - loss: 0.1980 - acc: 0.9262 - val_loss: 0.4628 - val_acc: 0.8031\n",
      "Epoch 32/50\n",
      "3876/3876 [==============================] - 1s 176us/step - loss: 0.1913 - acc: 0.9303 - val_loss: 0.4568 - val_acc: 0.8093\n",
      "Epoch 00032: early stopping\n"
     ]
    }
   ],
   "source": [
    "num_epochs = 50\n",
    "es = EarlyStopping(monitor='val_loss', mode='min', verbose=1, patience=5)\n",
    "history = model.fit(training_padded, training_labels, \n",
    "                    epochs=num_epochs, \n",
    "                    validation_data=(testing_padded, testing_labels), \n",
    "                    verbose= 1, callbacks = [es])"
   ]
  },
  {
   "cell_type": "markdown",
   "metadata": {},
   "source": [
    "### Model Evaluation:"
   ]
  },
  {
   "cell_type": "code",
   "execution_count": 88,
   "metadata": {},
   "outputs": [
    {
     "name": "stdout",
     "output_type": "stream",
     "text": [
      "Train Loss: 16.885%\n",
      "Train Accuracy: 94.685%\n",
      "Test Loss: 45.678%\n",
      "Test Accuracy: 80.928%\n"
     ]
    }
   ],
   "source": [
    "model_metrics(model)"
   ]
  },
  {
   "cell_type": "code",
   "execution_count": 89,
   "metadata": {
    "scrolled": false
   },
   "outputs": [
    {
     "data": {
      "image/png": "[encoded data removed]",
      "text/plain": [
       "<Figure size 864x576 with 1 Axes>"
      ]
     },
     "metadata": {
      "needs_background": "light"
     },
     "output_type": "display_data"
    }
   ],
   "source": [
    "model_eval(history)"
   ]
  },
  {
   "cell_type": "code",
   "execution_count": 90,
   "metadata": {},
   "outputs": [
    {
     "name": "stdout",
     "output_type": "stream",
     "text": [
      "Easier Headlines:\n",
      "Stock rise rapid for Tesla\n",
      "Apple factory shut down, lay off hundred employee\n",
      "Average day of return for Microsoft\n",
      "[[0.6812949 ]\n",
      " [0.00660908]\n",
      " [0.29143056]]\n",
      "\n",
      "\n",
      "Realistic Headlines:\n",
      "Former Nissan Executive Greg Kelly Pleads Not Guilty at Tokyo Trial\n",
      "Amazon to Hire 100,000 in U.S. and Canada\n",
      "Disney’s ‘Mulan’ Top China Box Office Amid Controversy\n",
      "[[0.13547942]\n",
      " [0.18799335]\n",
      " [0.03867002]]\n"
     ]
    }
   ],
   "source": [
    "test_headlines()"
   ]
  },
  {
   "cell_type": "markdown",
   "metadata": {},
   "source": [
    "# Final Model:"
   ]
  },
  {
   "cell_type": "code",
   "execution_count": null,
   "metadata": {},
   "outputs": [],
   "source": []
  },
  {
   "cell_type": "code",
   "execution_count": null,
   "metadata": {},
   "outputs": [],
   "source": []
  },
  {
   "cell_type": "markdown",
   "metadata": {},
   "source": [
    "## Final Model Evaluation:"
   ]
  },
  {
   "cell_type": "code",
   "execution_count": null,
   "metadata": {},
   "outputs": [],
   "source": []
  },
  {
   "cell_type": "code",
   "execution_count": null,
   "metadata": {},
   "outputs": [],
   "source": []
  },
  {
   "cell_type": "markdown",
   "metadata": {},
   "source": [
    "# Other:"
   ]
  },
  {
   "cell_type": "code",
   "execution_count": 54,
   "metadata": {},
   "outputs": [
    {
     "ename": "SyntaxError",
     "evalue": "Missing parentheses in call to 'print'. Did you mean print(break_)? (<ipython-input-54-8dc0057c2caf>, line 1)",
     "output_type": "error",
     "traceback": [
      "\u001b[0;36m  File \u001b[0;32m\"<ipython-input-54-8dc0057c2caf>\"\u001b[0;36m, line \u001b[0;32m1\u001b[0m\n\u001b[0;31m    print break_\u001b[0m\n\u001b[0m               ^\u001b[0m\n\u001b[0;31mSyntaxError\u001b[0m\u001b[0;31m:\u001b[0m Missing parentheses in call to 'print'. Did you mean print(break_)?\n"
     ]
    }
   ],
   "source": [
    "print break_"
   ]
  },
  {
   "cell_type": "code",
   "execution_count": 91,
   "metadata": {},
   "outputs": [
    {
     "name": "stdout",
     "output_type": "stream",
     "text": [
      "(10094, 32)\n"
     ]
    }
   ],
   "source": [
    "e = model.layers[0]\n",
    "weights = e.get_weights()[0]\n",
    "print(weights.shape) # shape: (vocab_size, embedding_dim)"
   ]
  },
  {
   "cell_type": "code",
   "execution_count": null,
   "metadata": {},
   "outputs": [],
   "source": [
    "'''\n",
    "import io\n",
    "\n",
    "out_v = io.open('vecs.tsv', 'w', encoding='utf-8')\n",
    "out_m = io.open('meta.tsv', 'w', encoding='utf-8')\n",
    "for word_num in range(1, vocab_size):\n",
    "  word = reverse_word_index[word_num]\n",
    "  embeddings = weights[word_num]\n",
    "  out_m.write(word + \"\\n\")\n",
    "  out_v.write('\\t'.join([str(x) for x in embeddings]) + \"\\n\")\n",
    "out_v.close()\n",
    "out_m.close()\n",
    "'''"
   ]
  },
  {
   "cell_type": "markdown",
   "metadata": {},
   "source": [
    "# Further Work:"
   ]
  },
  {
   "cell_type": "markdown",
   "metadata": {},
   "source": [
    "In the future, I'd like to complete the following analysis:\n",
    "- A web application that collects and analyzes headlines from various financial news sources.\n",
    "- Other neural network architecture types.\n",
    "- New types of sentiment analysis, such as breaking news vs an opinion piece on an older issue.\n",
    "- Rate different newspapers by sentiment value."
   ]
  },
  {
   "cell_type": "markdown",
   "metadata": {},
   "source": [
    "# Conclusion:"
   ]
  },
  {
   "cell_type": "code",
   "execution_count": null,
   "metadata": {},
   "outputs": [],
   "source": []
  }
 ],
 "metadata": {
  "kernelspec": {
   "display_name": "Python 3",
   "language": "python",
   "name": "python3"
  },
  "language_info": {
   "codemirror_mode": {
    "name": "ipython",
    "version": 3
   },
   "file_extension": ".py",
   "mimetype": "text/x-python",
   "name": "python",
   "nbconvert_exporter": "python",
   "pygments_lexer": "ipython3",
   "version": "3.6.9"
  },
  "toc": {
   "base_numbering": 1,
   "nav_menu": {},
   "number_sections": true,
   "sideBar": true,
   "skip_h1_title": false,
   "title_cell": "Table of Contents",
   "title_sidebar": "Contents",
   "toc_cell": false,
   "toc_position": {},
   "toc_section_display": true,
   "toc_window_display": true
  }
 },
 "nbformat": 4,
 "nbformat_minor": 2
}
