{
 "cells": [
  {
   "cell_type": "markdown",
   "metadata": {},
   "source": [
    "__Student info:__"
   ]
  },
  {
   "cell_type": "markdown",
   "metadata": {},
   "source": [
    "- Student name: Thomas Brown\n",
    "- Student pace: Full Time\n",
    "- Scheduled project review date/time: TBD\n",
    "- Instructor name: Abhineet Kulkarni\n",
    "- Blog post URL: TBD"
   ]
  },
  {
   "cell_type": "markdown",
   "metadata": {},
   "source": [
    "__Use Case:__<br><br>\n",
    "The purpose of this project is to start building a neural network model that can determine the sentiment of financial news headlines.  The users of this model would be investment firms who want to keep track of the market sentiment of a set of various products, companies, or industries.  <br><br>\n",
    "With proper web scraping and feeding of new headlines, a firm would be able to keep track of various topics to make better informed investing decisions.  For example, one could feasibly keep track of terms that are rising rapidly in terms of positive sentiment in order to invest in them.<br><br>\n",
    "The data is collected from Kaggle through this [link](https://www.kaggle.com/ankurzing/sentiment-analysis-for-financial-news).  It's a collection of 4,837 unique news headlines from various financial news sources. "
   ]
  },
  {
   "cell_type": "markdown",
   "metadata": {},
   "source": [
    "## Importing Libraries:"
   ]
  },
  {
   "cell_type": "code",
   "execution_count": 1,
   "metadata": {},
   "outputs": [
    {
     "name": "stderr",
     "output_type": "stream",
     "text": [
      "Using TensorFlow backend.\n",
      "/Users/Thomas/opt/anaconda3/envs/learn-env/lib/python3.6/site-packages/sklearn/externals/six.py:31: DeprecationWarning: The module is deprecated in version 0.21 and will be removed in version 0.23 since we've dropped support for Python 2.7. Please rely on the official version of six (https://pypi.org/project/six/).\n",
      "  \"(https://pypi.org/project/six/).\", DeprecationWarning)\n"
     ]
    }
   ],
   "source": [
    "import pandas as pd\n",
    "import numpy as np\n",
    "\n",
    "# Scikit-Learn:\n",
    "from sklearn.preprocessing import StandardScaler\n",
    "from sklearn.neighbors import KNeighborsClassifier\n",
    "from sklearn.model_selection import train_test_split, GridSearchCV\n",
    "from sklearn.ensemble import RandomForestClassifier\n",
    "from sklearn.tree import DecisionTreeClassifier\n",
    "from sklearn.ensemble import AdaBoostClassifier, GradientBoostingClassifier\n",
    "from sklearn.pipeline import Pipeline\n",
    "from sklearn.metrics import precision_score, recall_score, confusion_matrix, classification_report, accuracy_score, f1_score\n",
    "from sklearn import svm\n",
    "from sklearn import tree\n",
    "from sklearn.preprocessing import LabelEncoder\n",
    "from sklearn.preprocessing import OneHotEncoder\n",
    "\n",
    "\n",
    "# Keras:\n",
    "import keras\n",
    "from keras.models import Sequential\n",
    "from keras.layers import Dense\n",
    "from sklearn.preprocessing import StandardScaler, LabelBinarizer\n",
    "from keras.preprocessing.text import Tokenizer\n",
    "from keras.preprocessing.sequence import pad_sequences\n",
    "from keras.layers import Dense, Conv1D, MaxPool1D, Flatten, Dropout\n",
    "from keras.utils import to_categorical\n",
    "from keras.layers import Embedding, LSTM, Dense, Dropout\n",
    "\n",
    "\n",
    "# NLTK - Stopwords:\n",
    "import nltk\n",
    "from nltk.corpus import stopwords\n",
    "import string\n",
    "from nltk import word_tokenize, FreqDist\n",
    "from nltk.stem import WordNetLemmatizer\n",
    "from nltk import pos_tag\n",
    "from nltk.corpus import wordnet\n",
    "\n",
    "\n",
    "# Sampling:\n",
    "from imblearn.over_sampling import SMOTE, ADASYN\n",
    "\n",
    "# XGBoost:\n",
    "import xgboost as xgb\n",
    "\n",
    "# Plots and Graphs:\n",
    "from wordcloud import WordCloud\n",
    "import seaborn as sns\n",
    "sns.set_style('darkgrid')\n",
    "import matplotlib.pyplot as plt\n",
    "import plotly.express as px\n",
    "import scikitplot as skplt \n",
    "%matplotlib inline\n",
    "\n",
    "# Other:\n",
    "from collections import Counter\n",
    "import warnings\n",
    "warnings.filterwarnings('ignore')\n",
    "# So we can see the entire column:\n",
    "pd.set_option('display.max_colwidth', -1)"
   ]
  },
  {
   "cell_type": "markdown",
   "metadata": {},
   "source": [
    "# Importing Data:"
   ]
  },
  {
   "cell_type": "code",
   "execution_count": 2,
   "metadata": {},
   "outputs": [
    {
     "data": {
      "text/html": [
       "<div>\n",
       "<style scoped>\n",
       "    .dataframe tbody tr th:only-of-type {\n",
       "        vertical-align: middle;\n",
       "    }\n",
       "\n",
       "    .dataframe tbody tr th {\n",
       "        vertical-align: top;\n",
       "    }\n",
       "\n",
       "    .dataframe thead th {\n",
       "        text-align: right;\n",
       "    }\n",
       "</style>\n",
       "<table border=\"1\" class=\"dataframe\">\n",
       "  <thead>\n",
       "    <tr style=\"text-align: right;\">\n",
       "      <th></th>\n",
       "      <th>Sentiment</th>\n",
       "      <th>Headline</th>\n",
       "    </tr>\n",
       "  </thead>\n",
       "  <tbody>\n",
       "    <tr>\n",
       "      <td>0</td>\n",
       "      <td>positive</td>\n",
       "      <td>This new representation extends Comptel 's global presence to a total of 18 countries , serving over 250 customers in over 80 countries worldwide .</td>\n",
       "    </tr>\n",
       "    <tr>\n",
       "      <td>1</td>\n",
       "      <td>positive</td>\n",
       "      <td>The disposal of Autotank will also strengthen Aspo 's capital structure , '' commented Gustav Nyberg , CEO of Aspo .</td>\n",
       "    </tr>\n",
       "    <tr>\n",
       "      <td>2</td>\n",
       "      <td>neutral</td>\n",
       "      <td>The value of the orders is over EUR 25mn .</td>\n",
       "    </tr>\n",
       "    <tr>\n",
       "      <td>3</td>\n",
       "      <td>negative</td>\n",
       "      <td>According to Aktia Asset Management , Finnish analysts ' forecasts for 2009 are still too high .</td>\n",
       "    </tr>\n",
       "    <tr>\n",
       "      <td>4</td>\n",
       "      <td>neutral</td>\n",
       "      <td>Currently , the company uses eight similar reach stackers and four empty container handlers by Konecranes .</td>\n",
       "    </tr>\n",
       "  </tbody>\n",
       "</table>\n",
       "</div>"
      ],
      "text/plain": [
       "  Sentiment  \\\n",
       "0  positive   \n",
       "1  positive   \n",
       "2  neutral    \n",
       "3  negative   \n",
       "4  neutral    \n",
       "\n",
       "                                                                                                                                              Headline  \n",
       "0  This new representation extends Comptel 's global presence to a total of 18 countries , serving over 250 customers in over 80 countries worldwide .  \n",
       "1  The disposal of Autotank will also strengthen Aspo 's capital structure , '' commented Gustav Nyberg , CEO of Aspo .                                 \n",
       "2  The value of the orders is over EUR 25mn .                                                                                                           \n",
       "3  According to Aktia Asset Management , Finnish analysts ' forecasts for 2009 are still too high .                                                     \n",
       "4  Currently , the company uses eight similar reach stackers and four empty container handlers by Konecranes .                                          "
      ]
     },
     "metadata": {},
     "output_type": "display_data"
    },
    {
     "name": "stdout",
     "output_type": "stream",
     "text": [
      "Shape: (4846, 2) \n",
      "\n",
      "\n",
      "<class 'pandas.core.frame.DataFrame'>\n",
      "RangeIndex: 4846 entries, 0 to 4845\n",
      "Data columns (total 2 columns):\n",
      "Sentiment    4846 non-null object\n",
      "Headline     4846 non-null object\n",
      "dtypes: object(2)\n",
      "memory usage: 75.8+ KB\n",
      "None\n"
     ]
    }
   ],
   "source": [
    "df = pd.read_csv('all-data.csv', names = ['Sentiment', 'Headline'], \n",
    "                 encoding='latin-1')\n",
    "df = df.sample(frac=1).reset_index(drop=True) # Shuffling the data in case there's an ordering bias\n",
    "display(df.head())\n",
    "print(\"Shape:\", df.shape, \"\\n\\n\")\n",
    "print(df.info())"
   ]
  },
  {
   "cell_type": "code",
   "execution_count": 3,
   "metadata": {},
   "outputs": [
    {
     "data": {
      "text/plain": [
       "neutral     2879\n",
       "positive    1363\n",
       "negative    604 \n",
       "Name: Sentiment, dtype: int64"
      ]
     },
     "execution_count": 3,
     "metadata": {},
     "output_type": "execute_result"
    }
   ],
   "source": [
    "# Let's take a look at the number of instances of each sentiment:\n",
    "df.Sentiment.value_counts()\n",
    "# Not too many negatives.  This may prove to be an issue later on, but for now, let's keep moving."
   ]
  },
  {
   "cell_type": "markdown",
   "metadata": {},
   "source": [
    "# Cleaning Data:"
   ]
  },
  {
   "cell_type": "markdown",
   "metadata": {},
   "source": [
    "First, the labels need to be changed to numerical values in order to go through the neural network later on."
   ]
  },
  {
   "cell_type": "markdown",
   "metadata": {},
   "source": [
    "- 0 is Negative\n",
    "- 1 is Neutral\n",
    "- 2 is Positive"
   ]
  },
  {
   "cell_type": "code",
   "execution_count": 4,
   "metadata": {},
   "outputs": [
    {
     "data": {
      "text/html": [
       "<div>\n",
       "<style scoped>\n",
       "    .dataframe tbody tr th:only-of-type {\n",
       "        vertical-align: middle;\n",
       "    }\n",
       "\n",
       "    .dataframe tbody tr th {\n",
       "        vertical-align: top;\n",
       "    }\n",
       "\n",
       "    .dataframe thead th {\n",
       "        text-align: right;\n",
       "    }\n",
       "</style>\n",
       "<table border=\"1\" class=\"dataframe\">\n",
       "  <thead>\n",
       "    <tr style=\"text-align: right;\">\n",
       "      <th></th>\n",
       "      <th>Sentiment</th>\n",
       "      <th>Headline</th>\n",
       "    </tr>\n",
       "  </thead>\n",
       "  <tbody>\n",
       "    <tr>\n",
       "      <td>0</td>\n",
       "      <td>2</td>\n",
       "      <td>This new representation extends Comptel 's global presence to a total of 18 countries , serving over 250 customers in over 80 countries worldwide .</td>\n",
       "    </tr>\n",
       "    <tr>\n",
       "      <td>1</td>\n",
       "      <td>2</td>\n",
       "      <td>The disposal of Autotank will also strengthen Aspo 's capital structure , '' commented Gustav Nyberg , CEO of Aspo .</td>\n",
       "    </tr>\n",
       "    <tr>\n",
       "      <td>2</td>\n",
       "      <td>1</td>\n",
       "      <td>The value of the orders is over EUR 25mn .</td>\n",
       "    </tr>\n",
       "    <tr>\n",
       "      <td>3</td>\n",
       "      <td>0</td>\n",
       "      <td>According to Aktia Asset Management , Finnish analysts ' forecasts for 2009 are still too high .</td>\n",
       "    </tr>\n",
       "    <tr>\n",
       "      <td>4</td>\n",
       "      <td>1</td>\n",
       "      <td>Currently , the company uses eight similar reach stackers and four empty container handlers by Konecranes .</td>\n",
       "    </tr>\n",
       "  </tbody>\n",
       "</table>\n",
       "</div>"
      ],
      "text/plain": [
       "   Sentiment  \\\n",
       "0  2           \n",
       "1  2           \n",
       "2  1           \n",
       "3  0           \n",
       "4  1           \n",
       "\n",
       "                                                                                                                                              Headline  \n",
       "0  This new representation extends Comptel 's global presence to a total of 18 countries , serving over 250 customers in over 80 countries worldwide .  \n",
       "1  The disposal of Autotank will also strengthen Aspo 's capital structure , '' commented Gustav Nyberg , CEO of Aspo .                                 \n",
       "2  The value of the orders is over EUR 25mn .                                                                                                           \n",
       "3  According to Aktia Asset Management , Finnish analysts ' forecasts for 2009 are still too high .                                                     \n",
       "4  Currently , the company uses eight similar reach stackers and four empty container handlers by Konecranes .                                          "
      ]
     },
     "execution_count": 4,
     "metadata": {},
     "output_type": "execute_result"
    }
   ],
   "source": [
    "# TERNARY\n",
    "# Encoding Sentiment\n",
    "lb_make = LabelEncoder()\n",
    "df[\"Sentiment\"] = lb_make.fit_transform(df[\"Sentiment\"])\n",
    "df.head()"
   ]
  },
  {
   "cell_type": "code",
   "execution_count": 5,
   "metadata": {},
   "outputs": [],
   "source": [
    "# BINARY\n",
    "#df['Sentiment'] = df['Sentiment'].map(lambda x: 1 if x == 'positive' else 0)\n",
    "#df.head()"
   ]
  },
  {
   "cell_type": "markdown",
   "metadata": {},
   "source": [
    "## Stopwords:"
   ]
  },
  {
   "cell_type": "markdown",
   "metadata": {},
   "source": [
    "Next, we can remove all the 'stopwords' that can clog up the system later on.  The punctuation will get filtered out later."
   ]
  },
  {
   "cell_type": "code",
   "execution_count": 6,
   "metadata": {},
   "outputs": [],
   "source": [
    "stop = set(stopwords.words('english'))\n",
    "stop.add(\"'s\")\n",
    "def remove_stopwords(text):\n",
    "    text = [word.lower() for word in text.split() if word.lower() not in stop]\n",
    "    return \" \".join(text)\n",
    "\n",
    "df['Headline'] = df['Headline'].map(remove_stopwords)"
   ]
  },
  {
   "cell_type": "code",
   "execution_count": 7,
   "metadata": {},
   "outputs": [
    {
     "data": {
      "text/html": [
       "<div>\n",
       "<style scoped>\n",
       "    .dataframe tbody tr th:only-of-type {\n",
       "        vertical-align: middle;\n",
       "    }\n",
       "\n",
       "    .dataframe tbody tr th {\n",
       "        vertical-align: top;\n",
       "    }\n",
       "\n",
       "    .dataframe thead th {\n",
       "        text-align: right;\n",
       "    }\n",
       "</style>\n",
       "<table border=\"1\" class=\"dataframe\">\n",
       "  <thead>\n",
       "    <tr style=\"text-align: right;\">\n",
       "      <th></th>\n",
       "      <th>Sentiment</th>\n",
       "      <th>Headline</th>\n",
       "    </tr>\n",
       "  </thead>\n",
       "  <tbody>\n",
       "    <tr>\n",
       "      <td>0</td>\n",
       "      <td>2</td>\n",
       "      <td>new representation extends comptel global presence total 18 countries , serving 250 customers 80 countries worldwide .</td>\n",
       "    </tr>\n",
       "    <tr>\n",
       "      <td>1</td>\n",
       "      <td>2</td>\n",
       "      <td>disposal autotank also strengthen aspo capital structure , '' commented gustav nyberg , ceo aspo .</td>\n",
       "    </tr>\n",
       "    <tr>\n",
       "      <td>2</td>\n",
       "      <td>1</td>\n",
       "      <td>value orders eur 25mn .</td>\n",
       "    </tr>\n",
       "    <tr>\n",
       "      <td>3</td>\n",
       "      <td>0</td>\n",
       "      <td>according aktia asset management , finnish analysts ' forecasts 2009 still high .</td>\n",
       "    </tr>\n",
       "    <tr>\n",
       "      <td>4</td>\n",
       "      <td>1</td>\n",
       "      <td>currently , company uses eight similar reach stackers four empty container handlers konecranes .</td>\n",
       "    </tr>\n",
       "  </tbody>\n",
       "</table>\n",
       "</div>"
      ],
      "text/plain": [
       "   Sentiment  \\\n",
       "0  2           \n",
       "1  2           \n",
       "2  1           \n",
       "3  0           \n",
       "4  1           \n",
       "\n",
       "                                                                                                                 Headline  \n",
       "0  new representation extends comptel global presence total 18 countries , serving 250 customers 80 countries worldwide .  \n",
       "1  disposal autotank also strengthen aspo capital structure , '' commented gustav nyberg , ceo aspo .                      \n",
       "2  value orders eur 25mn .                                                                                                 \n",
       "3  according aktia asset management , finnish analysts ' forecasts 2009 still high .                                       \n",
       "4  currently , company uses eight similar reach stackers four empty container handlers konecranes .                        "
      ]
     },
     "execution_count": 7,
     "metadata": {},
     "output_type": "execute_result"
    }
   ],
   "source": [
    "df.head()"
   ]
  },
  {
   "cell_type": "markdown",
   "metadata": {},
   "source": [
    "## Lemmatization:"
   ]
  },
  {
   "cell_type": "code",
   "execution_count": 8,
   "metadata": {},
   "outputs": [],
   "source": [
    "def get_wordnet_pos(word):\n",
    "    \"\"\"Map POS tag to first character lemmatize() accepts\"\"\"\n",
    "    tag = nltk.pos_tag([word])[0][1][0].upper()\n",
    "    tag_dict = {\"J\": wordnet.ADJ,\n",
    "                \"N\": wordnet.NOUN,\n",
    "                \"V\": wordnet.VERB,\n",
    "                \"R\": wordnet.ADV}\n",
    "\n",
    "    return tag_dict.get(tag, wordnet.NOUN)"
   ]
  },
  {
   "cell_type": "code",
   "execution_count": 9,
   "metadata": {},
   "outputs": [],
   "source": [
    "wordnet_lemmatizer = WordNetLemmatizer()\n",
    "\n",
    "def lemmatize(text):\n",
    "    text = [wordnet_lemmatizer.lemmatize(word, get_wordnet_pos(word)) for word in text.split()]\n",
    "    return \" \".join(text)\n",
    "\n",
    "df['Headline'] = df['Headline'].map(lemmatize)"
   ]
  },
  {
   "cell_type": "code",
   "execution_count": 10,
   "metadata": {},
   "outputs": [
    {
     "data": {
      "text/html": [
       "<div>\n",
       "<style scoped>\n",
       "    .dataframe tbody tr th:only-of-type {\n",
       "        vertical-align: middle;\n",
       "    }\n",
       "\n",
       "    .dataframe tbody tr th {\n",
       "        vertical-align: top;\n",
       "    }\n",
       "\n",
       "    .dataframe thead th {\n",
       "        text-align: right;\n",
       "    }\n",
       "</style>\n",
       "<table border=\"1\" class=\"dataframe\">\n",
       "  <thead>\n",
       "    <tr style=\"text-align: right;\">\n",
       "      <th></th>\n",
       "      <th>Sentiment</th>\n",
       "      <th>Headline</th>\n",
       "    </tr>\n",
       "  </thead>\n",
       "  <tbody>\n",
       "    <tr>\n",
       "      <td>0</td>\n",
       "      <td>2</td>\n",
       "      <td>new representation extends comptel global presence total 18 country , serve 250 customer 80 country worldwide .</td>\n",
       "    </tr>\n",
       "    <tr>\n",
       "      <td>1</td>\n",
       "      <td>2</td>\n",
       "      <td>disposal autotank also strengthen aspo capital structure , '' comment gustav nyberg , ceo aspo .</td>\n",
       "    </tr>\n",
       "    <tr>\n",
       "      <td>2</td>\n",
       "      <td>1</td>\n",
       "      <td>value order eur 25mn .</td>\n",
       "    </tr>\n",
       "    <tr>\n",
       "      <td>3</td>\n",
       "      <td>0</td>\n",
       "      <td>accord aktia asset management , finnish analyst ' forecast 2009 still high .</td>\n",
       "    </tr>\n",
       "    <tr>\n",
       "      <td>4</td>\n",
       "      <td>1</td>\n",
       "      <td>currently , company us eight similar reach stacker four empty container handler konecranes .</td>\n",
       "    </tr>\n",
       "  </tbody>\n",
       "</table>\n",
       "</div>"
      ],
      "text/plain": [
       "   Sentiment  \\\n",
       "0  2           \n",
       "1  2           \n",
       "2  1           \n",
       "3  0           \n",
       "4  1           \n",
       "\n",
       "                                                                                                          Headline  \n",
       "0  new representation extends comptel global presence total 18 country , serve 250 customer 80 country worldwide .  \n",
       "1  disposal autotank also strengthen aspo capital structure , '' comment gustav nyberg , ceo aspo .                 \n",
       "2  value order eur 25mn .                                                                                           \n",
       "3  accord aktia asset management , finnish analyst ' forecast 2009 still high .                                     \n",
       "4  currently , company us eight similar reach stacker four empty container handler konecranes .                     "
      ]
     },
     "execution_count": 10,
     "metadata": {},
     "output_type": "execute_result"
    }
   ],
   "source": [
    "# Still looking good\n",
    "df.head()"
   ]
  },
  {
   "cell_type": "markdown",
   "metadata": {},
   "source": [
    "# EDA:"
   ]
  },
  {
   "cell_type": "markdown",
   "metadata": {},
   "source": [
    "Let's explore some word clouds to see the most commonly occurring words for each label."
   ]
  },
  {
   "cell_type": "code",
   "execution_count": 11,
   "metadata": {},
   "outputs": [],
   "source": [
    "# Separating out the categories\n",
    "pos = df.Headline[df.Sentiment[df.Sentiment== 2].index]\n",
    "neg = df.Headline[df.Sentiment[df.Sentiment== 0].index]\n",
    "neutral = df.Headline[df.Sentiment[df.Sentiment== 1].index]"
   ]
  },
  {
   "cell_type": "code",
   "execution_count": 12,
   "metadata": {},
   "outputs": [],
   "source": [
    " def wordcloud(dataset):\n",
    "    plt.figure(figsize = (18,24)) # Text Reviews with positive Ratings\n",
    "    wordcloud = WordCloud(min_font_size = 3,  max_words = 2500 , width = 1200 , height = 800).generate(\" \".join(dataset))\n",
    "    plt.imshow(wordcloud,interpolation = 'bilinear')\n",
    "    plt.axis(\"off\")\n",
    "    plt.tight_layout(pad=0)\n",
    "    plt.show();\n",
    "\n",
    "def show_wordclouds():\n",
    "    print ('Positive Sentiment Wordcloud:')\n",
    "    wordcloud(pos)\n",
    "    ###\n",
    "    print ('Neutral Sentiment Wordcloud:')\n",
    "    wordcloud(neutral)\n",
    "    ###\n",
    "    print ('Negative Sentiment Wordcloud:')\n",
    "    wordcloud(neutral)\n",
    "    ###\n",
    "    "
   ]
  },
  {
   "cell_type": "code",
   "execution_count": 13,
   "metadata": {},
   "outputs": [],
   "source": [
    "# Showing Word Clounds\n",
    "#show_wordclouds()"
   ]
  },
  {
   "cell_type": "markdown",
   "metadata": {},
   "source": [
    "Not too much useful information here.  There are some more words we can clean, but I would like to stay on the conservative side for now."
   ]
  },
  {
   "cell_type": "markdown",
   "metadata": {},
   "source": [
    "# Additional Cleaning:"
   ]
  },
  {
   "cell_type": "markdown",
   "metadata": {},
   "source": [
    "As we saw above, there are a few words that are quite common that occur in all 3 labels.  We'll add this to these to the stop word list and run the headlines through the filter again:\n",
    "- 'finnish'\n",
    "- 'say'\n",
    "- 'company'\n",
    "I'm leaving in 'eur' for now as it doesn't appear heavily in the 'Neutral' category.  This may help later on.  Depending on how the neural network performs later, I may or may not activate the following cells."
   ]
  },
  {
   "cell_type": "code",
   "execution_count": 14,
   "metadata": {},
   "outputs": [],
   "source": [
    "# Taking out a few more stop words:\n",
    "stop.add(\"finnish\")\n",
    "stop.add(\"say\")\n",
    "stop.add(\"company\")\n",
    "\n",
    "df['Headline'] = df['Headline'].map(remove_stopwords)"
   ]
  },
  {
   "cell_type": "code",
   "execution_count": 15,
   "metadata": {},
   "outputs": [
    {
     "data": {
      "text/html": [
       "<div>\n",
       "<style scoped>\n",
       "    .dataframe tbody tr th:only-of-type {\n",
       "        vertical-align: middle;\n",
       "    }\n",
       "\n",
       "    .dataframe tbody tr th {\n",
       "        vertical-align: top;\n",
       "    }\n",
       "\n",
       "    .dataframe thead th {\n",
       "        text-align: right;\n",
       "    }\n",
       "</style>\n",
       "<table border=\"1\" class=\"dataframe\">\n",
       "  <thead>\n",
       "    <tr style=\"text-align: right;\">\n",
       "      <th></th>\n",
       "      <th>Sentiment</th>\n",
       "      <th>Headline</th>\n",
       "    </tr>\n",
       "  </thead>\n",
       "  <tbody>\n",
       "    <tr>\n",
       "      <td>0</td>\n",
       "      <td>2</td>\n",
       "      <td>new representation extends comptel global presence total 18 country , serve 250 customer 80 country worldwide .</td>\n",
       "    </tr>\n",
       "    <tr>\n",
       "      <td>1</td>\n",
       "      <td>2</td>\n",
       "      <td>disposal autotank also strengthen aspo capital structure , '' comment gustav nyberg , ceo aspo .</td>\n",
       "    </tr>\n",
       "    <tr>\n",
       "      <td>2</td>\n",
       "      <td>1</td>\n",
       "      <td>value order eur 25mn .</td>\n",
       "    </tr>\n",
       "    <tr>\n",
       "      <td>3</td>\n",
       "      <td>0</td>\n",
       "      <td>accord aktia asset management , analyst ' forecast 2009 still high .</td>\n",
       "    </tr>\n",
       "    <tr>\n",
       "      <td>4</td>\n",
       "      <td>1</td>\n",
       "      <td>currently , us eight similar reach stacker four empty container handler konecranes .</td>\n",
       "    </tr>\n",
       "  </tbody>\n",
       "</table>\n",
       "</div>"
      ],
      "text/plain": [
       "   Sentiment  \\\n",
       "0  2           \n",
       "1  2           \n",
       "2  1           \n",
       "3  0           \n",
       "4  1           \n",
       "\n",
       "                                                                                                          Headline  \n",
       "0  new representation extends comptel global presence total 18 country , serve 250 customer 80 country worldwide .  \n",
       "1  disposal autotank also strengthen aspo capital structure , '' comment gustav nyberg , ceo aspo .                 \n",
       "2  value order eur 25mn .                                                                                           \n",
       "3  accord aktia asset management , analyst ' forecast 2009 still high .                                             \n",
       "4  currently , us eight similar reach stacker four empty container handler konecranes .                             "
      ]
     },
     "execution_count": 15,
     "metadata": {},
     "output_type": "execute_result"
    }
   ],
   "source": [
    "# Starting to feel a little like caveman speak, but hopefully this will be easier for the model to read!\n",
    "df.head()"
   ]
  },
  {
   "cell_type": "code",
   "execution_count": 16,
   "metadata": {},
   "outputs": [],
   "source": [
    "pos = df.Headline[df.Sentiment[df.Sentiment== 2].index]\n",
    "neg = df.Headline[df.Sentiment[df.Sentiment== 0].index]\n",
    "neutral = df.Headline[df.Sentiment[df.Sentiment== 1].index]"
   ]
  },
  {
   "cell_type": "code",
   "execution_count": 17,
   "metadata": {
    "scrolled": true
   },
   "outputs": [],
   "source": [
    "# Showing Word Clounds with additional words removed\n",
    "#show_wordclouds()"
   ]
  },
  {
   "cell_type": "markdown",
   "metadata": {},
   "source": [
    "# Counter:"
   ]
  },
  {
   "cell_type": "code",
   "execution_count": 18,
   "metadata": {},
   "outputs": [],
   "source": [
    "from collections import Counter"
   ]
  },
  {
   "cell_type": "code",
   "execution_count": 19,
   "metadata": {},
   "outputs": [],
   "source": [
    "def counter_word(text):\n",
    "    count = Counter()\n",
    "    for i in text.values:\n",
    "        for word in i.split():\n",
    "            count[word] += 1\n",
    "    return count"
   ]
  },
  {
   "cell_type": "code",
   "execution_count": 20,
   "metadata": {},
   "outputs": [],
   "source": [
    "text = df.Headline\n",
    "counter = counter_word(text)"
   ]
  },
  {
   "cell_type": "code",
   "execution_count": 21,
   "metadata": {},
   "outputs": [
    {
     "data": {
      "text/plain": [
       "10094"
      ]
     },
     "execution_count": 21,
     "metadata": {},
     "output_type": "execute_result"
    }
   ],
   "source": [
    "len(counter)"
   ]
  },
  {
   "cell_type": "code",
   "execution_count": 22,
   "metadata": {},
   "outputs": [
    {
     "data": {
      "text/plain": [
       "Counter({'new': 269,\n",
       "         'representation': 1,\n",
       "         'extends': 4,\n",
       "         'comptel': 17,\n",
       "         'global': 69,\n",
       "         'presence': 14,\n",
       "         'total': 250,\n",
       "         '18': 28,\n",
       "         'country': 75,\n",
       "         ',': 4662,\n",
       "         'serve': 24,\n",
       "         '250': 9,\n",
       "         'customer': 139,\n",
       "         '80': 19,\n",
       "         'worldwide': 15,\n",
       "         '.': 4780,\n",
       "         'disposal': 4,\n",
       "         'autotank': 2,\n",
       "         'also': 224,\n",
       "         'strengthen': 29,\n",
       "         'aspo': 30,\n",
       "         'capital': 111,\n",
       "         'structure': 40,\n",
       "         \"''\": 217,\n",
       "         'comment': 18,\n",
       "         'gustav': 1,\n",
       "         'nyberg': 4,\n",
       "         'ceo': 78,\n",
       "         'value': 112,\n",
       "         'order': 150,\n",
       "         'eur': 1015,\n",
       "         '25mn': 4,\n",
       "         'accord': 123,\n",
       "         'aktia': 11,\n",
       "         'asset': 32,\n",
       "         'management': 88,\n",
       "         'analyst': 30,\n",
       "         \"'\": 116,\n",
       "         'forecast': 22,\n",
       "         '2009': 297,\n",
       "         'still': 13,\n",
       "         'high': 65,\n",
       "         'currently': 36,\n",
       "         'us': 8,\n",
       "         'eight': 8,\n",
       "         'similar': 11,\n",
       "         'reach': 27,\n",
       "         'stacker': 3,\n",
       "         'four': 29,\n",
       "         'empty': 1,\n",
       "         'container': 11,\n",
       "         'handler': 2,\n",
       "         'konecranes': 22,\n",
       "         'pretax': 30,\n",
       "         'loss': 160,\n",
       "         '1.2': 16,\n",
       "         'mn': 515,\n",
       "         'profit': 413,\n",
       "         '2.1': 2,\n",
       "         '2004': 42,\n",
       "         'decrease': 90,\n",
       "         '37': 3,\n",
       "         '%': 445,\n",
       "         '193.1': 1,\n",
       "         '305.6': 1,\n",
       "         'ac': 12,\n",
       "         'drive': 20,\n",
       "         'manufacturer': 60,\n",
       "         'vacon': 13,\n",
       "         'acquire': 73,\n",
       "         'business': 285,\n",
       "         'tb': 2,\n",
       "         'wood': 18,\n",
       "         'part': 99,\n",
       "         'u': 50,\n",
       "         'group': 327,\n",
       "         'altra': 1,\n",
       "         'holding': 18,\n",
       "         'stockmann': 28,\n",
       "         'mail': 4,\n",
       "         'unit': 135,\n",
       "         'hobby': 5,\n",
       "         'hall': 7,\n",
       "         'launch': 45,\n",
       "         'trial': 5,\n",
       "         'marketing': 29,\n",
       "         'campaign': 6,\n",
       "         'russia': 85,\n",
       "         'operating': 299,\n",
       "         '0.3': 11,\n",
       "         'compare': 151,\n",
       "         '2.2': 11,\n",
       "         'correspond': 124,\n",
       "         'period': 266,\n",
       "         '2007': 243,\n",
       "         '(': 513,\n",
       "         'adpnews': 12,\n",
       "         ')': 515,\n",
       "         '-': 303,\n",
       "         'oct': 7,\n",
       "         '21': 17,\n",
       "         'finland-based': 16,\n",
       "         'consultancy': 10,\n",
       "         'tieto': 10,\n",
       "         'oyj': 241,\n",
       "         'hel': 120,\n",
       "         ':': 363,\n",
       "         'tie1v': 1,\n",
       "         'today': 149,\n",
       "         'net': 413,\n",
       "         'plunge': 1,\n",
       "         '29.4': 1,\n",
       "         'million': 441,\n",
       "         'usd': 72,\n",
       "         '43.9': 3,\n",
       "         'first': 193,\n",
       "         'nine': 44,\n",
       "         'month': 76,\n",
       "         '58.7': 2,\n",
       "         'installment': 1,\n",
       "         'cinema': 3,\n",
       "         'series': 10,\n",
       "         'concludes': 3,\n",
       "         'profile': 17,\n",
       "         'inventor': 6,\n",
       "         'olavi': 1,\n",
       "         'linden': 1,\n",
       "         'whose': 6,\n",
       "         'personal': 12,\n",
       "         'artistic': 1,\n",
       "         'journey': 3,\n",
       "         'work': 69,\n",
       "         'fiskars': 34,\n",
       "         'lead': 62,\n",
       "         'dozen': 2,\n",
       "         'design': 80,\n",
       "         'award': 41,\n",
       "         'bg': 4,\n",
       "         'crane': 19,\n",
       "         'strong': 37,\n",
       "         'base': 87,\n",
       "         'on-road': 1,\n",
       "         'load': 8,\n",
       "         'handle': 41,\n",
       "         'related': 34,\n",
       "         'installation': 19,\n",
       "         'service': 341,\n",
       "         'nokia': 139,\n",
       "         'pioneer': 4,\n",
       "         'mobile': 134,\n",
       "         'telecommunication': 20,\n",
       "         'world': 53,\n",
       "         'maker': 80,\n",
       "         'device': 56,\n",
       "         'furthermore': 7,\n",
       "         'efficiency': 18,\n",
       "         'improvement': 18,\n",
       "         'measure': 41,\n",
       "         'initiate': 8,\n",
       "         'earlier': 83,\n",
       "         'bearing': 3,\n",
       "         'fruit': 1,\n",
       "         'jan': 6,\n",
       "         'lang': 2,\n",
       "         'q1': 12,\n",
       "         'bank': 144,\n",
       "         '+_land': 11,\n",
       "         'interest': 33,\n",
       "         'income': 26,\n",
       "         'weaken': 3,\n",
       "         '10': 71,\n",
       "         '9.1': 3,\n",
       "         'nwc': 1,\n",
       "         'analysis': 31,\n",
       "         'stage': 11,\n",
       "         'maximum': 23,\n",
       "         '60,000': 4,\n",
       "         'tulikivi': 10,\n",
       "         'share': 438,\n",
       "         'represent': 32,\n",
       "         '0.16': 2,\n",
       "         'per': 129,\n",
       "         'cent': 38,\n",
       "         '-\\x93': 8,\n",
       "         'outstanding': 8,\n",
       "         'observe': 3,\n",
       "         'current': 32,\n",
       "         'stabilisation': 1,\n",
       "         'price': 111,\n",
       "         'potential': 14,\n",
       "         'delivery': 52,\n",
       "         'quarter': 242,\n",
       "         '2011': 74,\n",
       "         'kershaw': 1,\n",
       "         'take': 62,\n",
       "         'position': 46,\n",
       "         'immediate': 6,\n",
       "         'effect': 23,\n",
       "         'previous': 28,\n",
       "         'role': 9,\n",
       "         'manager': 26,\n",
       "         'sankey': 1,\n",
       "         'home': 25,\n",
       "         '&': 78,\n",
       "         'garden': 8,\n",
       "         'product': 187,\n",
       "         'improve': 45,\n",
       "         '16.7': 3,\n",
       "         '7.7': 5,\n",
       "         '30.2': 1,\n",
       "         '43.8': 2,\n",
       "         'year': 323,\n",
       "         'addus': 1,\n",
       "         'include': 196,\n",
       "         'care': 6,\n",
       "         'assistance': 1,\n",
       "         'activity': 36,\n",
       "         'daily': 16,\n",
       "         'living': 2,\n",
       "         'skilled': 1,\n",
       "         'nursing': 1,\n",
       "         'rehabilitative': 1,\n",
       "         'therapy': 3,\n",
       "         'adult': 1,\n",
       "         'day': 37,\n",
       "         'estonia': 28,\n",
       "         'agriculture': 1,\n",
       "         'minister': 3,\n",
       "         'helir-valdor': 1,\n",
       "         'seeder': 1,\n",
       "         'finland': 337,\n",
       "         'two-day': 4,\n",
       "         'visit': 5,\n",
       "         'course': 9,\n",
       "         'meet': 9,\n",
       "         'counterpart': 1,\n",
       "         'sirkka-liisa': 1,\n",
       "         'anttila': 3,\n",
       "         'tecnomen': 11,\n",
       "         'system': 140,\n",
       "         'feature': 10,\n",
       "         'range': 40,\n",
       "         'value-added': 3,\n",
       "         'prepaid': 7,\n",
       "         'post-paid': 4,\n",
       "         'billing': 7,\n",
       "         'charge': 24,\n",
       "         'rating': 13,\n",
       "         'voice': 13,\n",
       "         'call': 29,\n",
       "         'data': 67,\n",
       "         'traffic': 31,\n",
       "         'kind': 7,\n",
       "         'content': 28,\n",
       "         'fix': 23,\n",
       "         'network': 98,\n",
       "         '``': 254,\n",
       "         'change': 47,\n",
       "         'optimize': 1,\n",
       "         'operational': 18,\n",
       "         'grow': 63,\n",
       "         'julia': 1,\n",
       "         'prohaska': 1,\n",
       "         'director': 80,\n",
       "         'communication': 56,\n",
       "         'ideally': 1,\n",
       "         'place': 41,\n",
       "         'tap': 4,\n",
       "         'clean': 5,\n",
       "         'technology': 145,\n",
       "         'name': 28,\n",
       "         'sanoma': 28,\n",
       "         'division': 45,\n",
       "         'news': 67,\n",
       "         'decision': 24,\n",
       "         'sale': 501,\n",
       "         'issue': 72,\n",
       "         'exist': 25,\n",
       "         'treasury': 2,\n",
       "         'ya': 1,\n",
       "         'make': 125,\n",
       "         'yet': 7,\n",
       "         'turnover': 38,\n",
       "         'nine-month': 5,\n",
       "         'increase': 227,\n",
       "         'respectively': 24,\n",
       "         'eur2': 19,\n",
       "         '.4': 22,\n",
       "         'eur43': 2,\n",
       "         '.8': 23,\n",
       "         'ago': 23,\n",
       "         'fully': 15,\n",
       "         'electrically': 1,\n",
       "         'driven': 3,\n",
       "         'environmentally': 4,\n",
       "         'friendly': 3,\n",
       "         'erkki': 4,\n",
       "         'j+ærvinen': 1,\n",
       "         'happy': 6,\n",
       "         'performance': 33,\n",
       "         '2010': 238,\n",
       "         'annual': 69,\n",
       "         'report': 143,\n",
       "         'contains': 7,\n",
       "         'financial': 133,\n",
       "         'statement': 27,\n",
       "         'consolidated': 18,\n",
       "         'board': 97,\n",
       "         'auditor': 3,\n",
       "         'risk': 4,\n",
       "         'exposure': 2,\n",
       "         'non-life': 6,\n",
       "         'insurance': 33,\n",
       "         'move': 32,\n",
       "         '12-month': 15,\n",
       "         'expense': 10,\n",
       "         'function': 15,\n",
       "         'exclude': 26,\n",
       "         'investment': 134,\n",
       "         'render': 2,\n",
       "         'portfolio': 24,\n",
       "         'allocation': 2,\n",
       "         'componenta': 22,\n",
       "         'stake': 62,\n",
       "         'turkish': 4,\n",
       "         'steel': 56,\n",
       "         'doktas': 3,\n",
       "         'dokumculuk': 2,\n",
       "         'ticaret': 1,\n",
       "         'sanayi': 1,\n",
       "         'a.s.': 1,\n",
       "         '92.6': 1,\n",
       "         'pct': 99,\n",
       "         'march': 53,\n",
       "         'mr': 18,\n",
       "         'kivimeister': 1,\n",
       "         'john': 5,\n",
       "         'deer': 1,\n",
       "         'former': 9,\n",
       "         'timberjack': 1,\n",
       "         'stand': 5,\n",
       "         'win': 8,\n",
       "         'situation': 33,\n",
       "         'control': 44,\n",
       "         'around': 39,\n",
       "         '60': 15,\n",
       "         'forest': 32,\n",
       "         'machinery': 46,\n",
       "         'market': 288,\n",
       "         'sep': 2,\n",
       "         '28': 19,\n",
       "         'silicon': 12,\n",
       "         'wafer': 12,\n",
       "         'okmetic': 24,\n",
       "         'okm1v': 4,\n",
       "         'reduce': 22,\n",
       "         'number': 75,\n",
       "         'clerical': 2,\n",
       "         'worker': 15,\n",
       "         '22': 23,\n",
       "         'result': 122,\n",
       "         'personnel': 38,\n",
       "         'negotiation': 48,\n",
       "         'complete': 58,\n",
       "         'music': 16,\n",
       "         'provide': 113,\n",
       "         'major': 34,\n",
       "         'international': 45,\n",
       "         'regional': 7,\n",
       "         'label': 4,\n",
       "         'universal': 1,\n",
       "         'sony': 2,\n",
       "         'entertainment': 3,\n",
       "         'warner': 1,\n",
       "         'emi': 1,\n",
       "         'rotana': 1,\n",
       "         'mazzika': 1,\n",
       "         'melody': 1,\n",
       "         'platinum': 2,\n",
       "         'record': 30,\n",
       "         'aggregator': 1,\n",
       "         'orchard': 1,\n",
       "         'well': 116,\n",
       "         'thousand': 7,\n",
       "         'independent': 7,\n",
       "         'handelsbanken': 4,\n",
       "         'ranked': 1,\n",
       "         'local': 41,\n",
       "         'cooperative': 5,\n",
       "         'loyalty': 1,\n",
       "         'time': 57,\n",
       "         'however': 58,\n",
       "         'ramirent': 19,\n",
       "         'construction': 109,\n",
       "         'rental': 29,\n",
       "         '134': 2,\n",
       "         'nationwide': 3,\n",
       "         '83': 1,\n",
       "         'outlet': 6,\n",
       "         '612': 1,\n",
       "         'employee': 84,\n",
       "         '131000': 1,\n",
       "         'talvivaara': 19,\n",
       "         'mining': 12,\n",
       "         'plc': 69,\n",
       "         'subscribed': 19,\n",
       "         'may': 61,\n",
       "         '1': 64,\n",
       "         'june': 36,\n",
       "         '30': 51,\n",
       "         'stock': 102,\n",
       "         'option': 60,\n",
       "         'right': 68,\n",
       "         '2007a': 3,\n",
       "         'kesko': 23,\n",
       "         'previously': 35,\n",
       "         'publish': 36,\n",
       "         'exchange': 70,\n",
       "         'release': 67,\n",
       "         'concern': 31,\n",
       "         'deal': 79,\n",
       "         '7': 29,\n",
       "         'february': 45,\n",
       "         'rosen': 3,\n",
       "         'cautious': 2,\n",
       "         'optimistic': 1,\n",
       "         'inregard': 1,\n",
       "         'second': 83,\n",
       "         'half': 57,\n",
       "         'ebrd': 4,\n",
       "         'use': 118,\n",
       "         'fund': 46,\n",
       "         '21.6': 3,\n",
       "         'mln': 287,\n",
       "         'loan': 24,\n",
       "         'b': 17,\n",
       "         'portion': 6,\n",
       "         'euro': 226,\n",
       "         'syndicate': 9,\n",
       "         'two': 85,\n",
       "         'commercial': 27,\n",
       "         'nordea': 45,\n",
       "         'pohjola': 22,\n",
       "         '2.3': 12,\n",
       "         'jul': 1,\n",
       "         '17': 22,\n",
       "         'rautaruukki': 22,\n",
       "         'ruukki': 42,\n",
       "         'rtrks': 7,\n",
       "         'slip': 11,\n",
       "         '184': 1,\n",
       "         '259.7': 1,\n",
       "         '2': 41,\n",
       "         'tikkurila': 24,\n",
       "         'discontinue': 5,\n",
       "         'operation': 165,\n",
       "         'defence': 1,\n",
       "         'mature': 5,\n",
       "         'attacker': 1,\n",
       "         'develop': 38,\n",
       "         'trojan': 3,\n",
       "         'equip': 8,\n",
       "         'filter': 8,\n",
       "         'detect': 2,\n",
       "         'online': 26,\n",
       "         'banking': 15,\n",
       "         'capture': 4,\n",
       "         'account': 27,\n",
       "         'detail': 28,\n",
       "         'method': 20,\n",
       "         'form': 23,\n",
       "         'grab': 1,\n",
       "         'screen': 4,\n",
       "         'shot': 4,\n",
       "         'video': 23,\n",
       "         'keylogging': 1,\n",
       "         'injection': 2,\n",
       "         'field': 14,\n",
       "         \"'re\": 10,\n",
       "         'delighted': 5,\n",
       "         'morna': 1,\n",
       "         'cowie': 1,\n",
       "         'co-owner': 2,\n",
       "         'double': 17,\n",
       "         'size': 15,\n",
       "         'shop': 11,\n",
       "         'lovely': 1,\n",
       "         'feel': 4,\n",
       "         'one': 93,\n",
       "         'large': 84,\n",
       "         'project': 124,\n",
       "         'magazine': 24,\n",
       "         'sanomawsoy': 2,\n",
       "         '2006': 173,\n",
       "         'become': 34,\n",
       "         'russian': 39,\n",
       "         'gloriya': 1,\n",
       "         'liquid': 14,\n",
       "         'segment': 30,\n",
       "         'offer': 65,\n",
       "         'laboratory': 10,\n",
       "         'equipment': 83,\n",
       "         'accessory': 10,\n",
       "         'mechanical': 8,\n",
       "         'electronic': 22,\n",
       "         'pipette': 4,\n",
       "         'disposable': 3,\n",
       "         'tip': 5,\n",
       "         'research': 29,\n",
       "         'institution': 10,\n",
       "         'university': 12,\n",
       "         'hospital': 2,\n",
       "         'pharmaceutical': 37,\n",
       "         'food': 46,\n",
       "         'industry': 104,\n",
       "         'biohit': 16,\n",
       "         'brand': 54,\n",
       "         'figure': 17,\n",
       "         'export': 26,\n",
       "         'rockwell': 1,\n",
       "         'collins': 1,\n",
       "         'provider': 51,\n",
       "         'flight': 13,\n",
       "         'deck': 1,\n",
       "         'cabin': 2,\n",
       "         'information': 59,\n",
       "         'solution': 172,\n",
       "         'aircraft': 5,\n",
       "         'operator': 48,\n",
       "         'eur0': 60,\n",
       "         'eur5': 12,\n",
       "         '.6': 27,\n",
       "         'cencorp': 18,\n",
       "         'would': 92,\n",
       "         'focus': 45,\n",
       "         'development': 91,\n",
       "         'manufacture': 36,\n",
       "         'standard': 16,\n",
       "         'production': 130,\n",
       "         'automation': 19,\n",
       "         'kaupthing': 11,\n",
       "         'significant': 39,\n",
       "         'printing': 19,\n",
       "         'paper': 96,\n",
       "         'metso': 30,\n",
       "         'coat': 13,\n",
       "         'line': 83,\n",
       "         'air': 8,\n",
       "         'winder': 1,\n",
       "         'ahlstrom': 26,\n",
       "         'corporation': 130,\n",
       "         'announcement': 19,\n",
       "         '23.4.2007': 1,\n",
       "         'friday': 34,\n",
       "         'april': 44,\n",
       "         '27': 21,\n",
       "         'approximately': 69,\n",
       "         '8.30': 2,\n",
       "         'a.m.': 12,\n",
       "         'plant': 148,\n",
       "         'capacity': 52,\n",
       "         '300,000': 4,\n",
       "         'tonne': 27,\n",
       "         'sell': 91,\n",
       "         'domestic': 16,\n",
       "         'available': 40,\n",
       "         'eps': 45,\n",
       "         'come': 45,\n",
       "         '0.36': 1,\n",
       "         '0.33': 5,\n",
       "         'ahead': 4,\n",
       "         'loyal': 4,\n",
       "         'yhteishyv+æ': 1,\n",
       "         '1,629,000': 1,\n",
       "         'reader': 8,\n",
       "         'newspaper': 19,\n",
       "         'helsingin': 2,\n",
       "         'sanomat': 9,\n",
       "         'third': 77,\n",
       "         '1,097,000': 1,\n",
       "         'entitles': 1,\n",
       "         'holder': 6,\n",
       "         'subscribe': 3,\n",
       "         'subscription': 33,\n",
       "         '.045': 1,\n",
       "         'end': 91,\n",
       "         '31': 22,\n",
       "         'december': 31,\n",
       "         '2013': 5,\n",
       "         'fortum': 22,\n",
       "         'intend': 12,\n",
       "         'spend': 2,\n",
       "         'much': 13,\n",
       "         '2.7': 14,\n",
       "         'bn': 25,\n",
       "         'sole': 6,\n",
       "         'owner': 26,\n",
       "         'tgk-10': 3,\n",
       "         'adp': 28,\n",
       "         '2008': 283,\n",
       "         'consult': 12,\n",
       "         'engineering': 55,\n",
       "         'poyry': 28,\n",
       "         'omx': 91,\n",
       "         'poy1v': 1,\n",
       "         '5.2': 8,\n",
       "         '7.4': 6,\n",
       "         'extension': 8,\n",
       "         'contract': 177,\n",
       "         'venezuel': 1,\n",
       "         'venture': 23,\n",
       "         '51': 6,\n",
       "         'kemira': 29,\n",
       "         '49': 7,\n",
       "         'ivrcl': 4,\n",
       "         'operate': 14,\n",
       "         'inorganic': 2,\n",
       "         'coagulant': 3,\n",
       "         'manufacturing': 58,\n",
       "         'facility': 70,\n",
       "         'built': 29,\n",
       "         'vishakapatnam': 1,\n",
       "         'vizag': 1,\n",
       "         'state': 45,\n",
       "         'andhra': 2,\n",
       "         'pradesh': 2,\n",
       "         'kick': 2,\n",
       "         'finalize': 6,\n",
       "         'september': 64,\n",
       "         'october': 58,\n",
       "         'operates': 23,\n",
       "         'fleet': 10,\n",
       "         'carrier': 17,\n",
       "         'pusher': 1,\n",
       "         'barge': 1,\n",
       "         'copper': 4,\n",
       "         'nickel': 10,\n",
       "         'drop': 24,\n",
       "         '...': 5,\n",
       "         'hbos': 2,\n",
       "         'plummet': 1,\n",
       "         '20': 58,\n",
       "         '70.3': 1,\n",
       "         'penny': 2,\n",
       "         'year+\\x88': 1,\n",
       "         '??': 1,\n",
       "         'tekla': 20,\n",
       "         '3d': 1,\n",
       "         'software': 75,\n",
       "         'building': 96,\n",
       "         'infrastructure': 27,\n",
       "         'model': 29,\n",
       "         'concrete': 4,\n",
       "         '0.4': 6,\n",
       "         '1.9': 6,\n",
       "         '2005': 104,\n",
       "         'reduction': 28,\n",
       "         'retirement': 2,\n",
       "         'arrangement': 13,\n",
       "         'quick': 4,\n",
       "         'one-stop-shop': 1,\n",
       "         'understand': 9,\n",
       "         'top': 11,\n",
       "         'commerce': 3,\n",
       "         'department': 16,\n",
       "         'worse-than-expected': 1,\n",
       "         'spending': 2,\n",
       "         'november': 38,\n",
       "         '11.4': 6,\n",
       "         '7.5': 6,\n",
       "         '.1': 22,\n",
       "         'eur6': 7,\n",
       "         'marinate': 1,\n",
       "         'olive': 1,\n",
       "         'cold': 2,\n",
       "         'cut': 45,\n",
       "         'pate': 1,\n",
       "         'example': 8,\n",
       "         'deutsche': 5,\n",
       "         'beteiligungs': 2,\n",
       "         'private': 19,\n",
       "         'equity': 18,\n",
       "         'manages': 7,\n",
       "         'bought': 20,\n",
       "         '75': 7,\n",
       "         'mce': 1,\n",
       "         'secondary': 3,\n",
       "         'buyout': 11,\n",
       "         'white': 4,\n",
       "         'plain': 1,\n",
       "         'n.y.': 1,\n",
       "         'investor': 43,\n",
       "         'andlinger': 1,\n",
       "         'co.': 9,\n",
       "         'wife': 3,\n",
       "         'look': 22,\n",
       "         'forward': 18,\n",
       "         'get': 17,\n",
       "         'paycheck': 1,\n",
       "         'quipped': 1,\n",
       "         'recently': 19,\n",
       "         'six-knot': 1,\n",
       "         'swirl': 1,\n",
       "         'anchor': 2,\n",
       "         'heavily': 2,\n",
       "         'sponsor': 4,\n",
       "         'jet': 3,\n",
       "         'sled': 1,\n",
       "         'kauppalehti': 3,\n",
       "         'rise': 122,\n",
       "         '1.5': 27,\n",
       "         '1.3': 13,\n",
       "         'marketplace': 5,\n",
       "         '1.0': 9,\n",
       "         'engage': 7,\n",
       "         'supply': 68,\n",
       "         'marine': 9,\n",
       "         'energy': 51,\n",
       "         'associate': 10,\n",
       "         'wartsila': 11,\n",
       "         'tax': 32,\n",
       "         'amount': 81,\n",
       "         '2.6': 8,\n",
       "         'expenditure': 6,\n",
       "         'item': 33,\n",
       "         'enterprise': 16,\n",
       "         'resource': 25,\n",
       "         'planning': 22,\n",
       "         'erp': 2,\n",
       "         'machine': 36,\n",
       "         'arto': 2,\n",
       "         'ryymin': 1,\n",
       "         'born': 2,\n",
       "         '1964': 1,\n",
       "         'replace': 4,\n",
       "         'juhani': 4,\n",
       "         'kaisanlahti': 1,\n",
       "         'act': 18,\n",
       "         'evp': 2,\n",
       "         'healthcare': 7,\n",
       "         'welfare': 1,\n",
       "         'since': 38,\n",
       "         'august': 42,\n",
       "         'follow': 50,\n",
       "         'acquisition': 79,\n",
       "         'relacom': 1,\n",
       "         'office': 65,\n",
       "         'maintenance': 33,\n",
       "         'transaction': 60,\n",
       "         'disclose': 38,\n",
       "         'alma': 33,\n",
       "         'medium': 77,\n",
       "         'arena': 8,\n",
       "         'partner': 42,\n",
       "         'enter': 24,\n",
       "         'cooperation': 31,\n",
       "         'agreement': 124,\n",
       "         'respective': 4,\n",
       "         'region': 38,\n",
       "         'plan': 89,\n",
       "         'electricity': 16,\n",
       "         'generation': 13,\n",
       "         '350': 2,\n",
       "         'megawatt': 2,\n",
       "         'mw': 10,\n",
       "         'heat': 10,\n",
       "         'mall': 7,\n",
       "         'finance': 15,\n",
       "         'parity': 1,\n",
       "         'basis': 13,\n",
       "         'pearl': 7,\n",
       "         'plaza': 3,\n",
       "         'llc': 8,\n",
       "         'joint': 28,\n",
       "         'establish': 37,\n",
       "         'chinese': 9,\n",
       "         'shanghai': 7,\n",
       "         'industrial': 47,\n",
       "         'co': 6,\n",
       "         'ltd': 46,\n",
       "         'srv': 7,\n",
       "         'raute': 18,\n",
       "         'headquarter': 33,\n",
       "         'nastola': 6,\n",
       "         'sata-flexo': 1,\n",
       "         'eur4': 11,\n",
       "         '.3': 36,\n",
       "         'employ': 36,\n",
       "         '40': 29,\n",
       "         'people': 67,\n",
       "         'siemens': 19,\n",
       "         'platform': 23,\n",
       "         'professional': 7,\n",
       "         'body': 8,\n",
       "         'e': 6,\n",
       "         'vostok': 1,\n",
       "         'power': 47,\n",
       "         'mosenergosbytbody': 1,\n",
       "         'rts': 4,\n",
       "         'mssb': 1,\n",
       "         '50.9': 1,\n",
       "         'altaienergosbyt': 1,\n",
       "         '100': 33,\n",
       "         'saratovenergo': 1,\n",
       "         'sare': 1,\n",
       "         '48.36': 1,\n",
       "         'tambov': 1,\n",
       "         'tasb': 1,\n",
       "         '49.01': 1,\n",
       "         'ofbodywhich': 1,\n",
       "         'receive': 39,\n",
       "         'distribution': 41,\n",
       "         'balance': 13,\n",
       "         'helsinki': 163,\n",
       "         '(thomson': 1,\n",
       "         'financial)-': 1,\n",
       "         'growhow': 2,\n",
       "         'swung': 8,\n",
       "         'earnings': 50,\n",
       "         'especially': 13,\n",
       "         'fertilizer': 3,\n",
       "         'europe': 43,\n",
       "         'normally': 3,\n",
       "         'last': 83,\n",
       "         'best': 17,\n",
       "         'margin': 29,\n",
       "         '12.2': 3,\n",
       "         'commission': 17,\n",
       "         'applaud': 1,\n",
       "         'apply': 13,\n",
       "         'fact-based': 1,\n",
       "         'data-driven': 1,\n",
       "         'approach': 11,\n",
       "         'clarity': 3,\n",
       "         'future': 30,\n",
       "         'petition': 2,\n",
       "         'negative': 18,\n",
       "         'territory': 6,\n",
       "         'stora': 42,\n",
       "         'enso': 39,\n",
       "         'r': 5,\n",
       "         'shed': 3,\n",
       "         '1.62': 1,\n",
       "         '12.73': 2,\n",
       "         'upm-kymmene': 20,\n",
       "         '0.80': 1,\n",
       "         '18.64': 1,\n",
       "         'm-real': 30,\n",
       "         '0.18': 1,\n",
       "         'low': 59,\n",
       "         '5.57': 1,\n",
       "         'basware': 44,\n",
       "         'espoo': 20,\n",
       "         'geosentric': 8,\n",
       "         '939,000': 1,\n",
       "         'january-march': 5,\n",
       "         'expect': 133,\n",
       "         '4': 39,\n",
       "         'year-on-year': 34,\n",
       "         'eur609m': 1,\n",
       "         '1,019': 1,\n",
       "         '1,007': 1,\n",
       "         'rk': 1,\n",
       "         'vantaa': 12,\n",
       "         'mika': 5,\n",
       "         'stahlberg': 1,\n",
       "         'vp': 1,\n",
       "         'f-secure': 15,\n",
       "         'lab': 1,\n",
       "         'excite': 5,\n",
       "         'proud': 7,\n",
       "         'recognize': 9,\n",
       "         'av-comparatives': 1,\n",
       "         'government': 23,\n",
       "         'announce': 74,\n",
       "         'wednesday': 26,\n",
       "         '32': 6,\n",
       "         'percent': 123,\n",
       "         'chemical': 23,\n",
       "         'x20ac': 20,\n",
       "         '655.6': 1,\n",
       "         '$': 215,\n",
       "         '890us': 1,\n",
       "         'send': 10,\n",
       "         '6': 28,\n",
       "         'considerably': 9,\n",
       "         'metal': 33,\n",
       "         'coating': 10,\n",
       "         'support': 52,\n",
       "         'idea': 7,\n",
       "         'sustainable': 11,\n",
       "         'able': 17,\n",
       "         'saysjouni': 1,\n",
       "         'haikarainen': 1,\n",
       "         'vice': 17,\n",
       "         'president': 45,\n",
       "         'mention': 3,\n",
       "         'shareholder': 55,\n",
       "         'suggest': 1,\n",
       "         'monthly': 4,\n",
       "         'salary': 4,\n",
       "         '1,400': 2,\n",
       "         'paid': 20,\n",
       "         'member': 42,\n",
       "         'outside': 16,\n",
       "         'pleased': 14,\n",
       "         'bjorn': 2,\n",
       "         'wahlroos': 4,\n",
       "         'accepted': 1,\n",
       "         'nomination': 7,\n",
       "         'multimedia': 3,\n",
       "         '5.7': 3,\n",
       "         '45': 10,\n",
       "         'eur65m': 1,\n",
       "         'benefon': 13,\n",
       "         'turn': 19,\n",
       "         'salo': 4,\n",
       "         'b2b': 1,\n",
       "         'b2c': 1,\n",
       "         'uk': 25,\n",
       "         'topped': 1,\n",
       "         'consensus': 6,\n",
       "         '0.21': 5,\n",
       "         'believe': 4,\n",
       "         'soy-oats': 1,\n",
       "         'good': 40,\n",
       "         'chance': 3,\n",
       "         'dilute': 14,\n",
       "         'eur3': 14,\n",
       "         '.68': 1,\n",
       "         '.50': 3,\n",
       "         'addition': 40,\n",
       "         'megafon': 4,\n",
       "         'telecominvest': 2,\n",
       "         'web': 14,\n",
       "         'plus': 10,\n",
       "         'st.': 25,\n",
       "         'petersburg': 33,\n",
       "         'payphones': 1,\n",
       "         'telecom': 33,\n",
       "         'producer': 20,\n",
       "         'peter-servis': 1,\n",
       "         'minor': 2,\n",
       "         'convergence': 2,\n",
       "         'key': 24,\n",
       "         'proposition': 1,\n",
       "         'experience': 28,\n",
       "         'smartphone': 8,\n",
       "         'functionality': 8,\n",
       "         'internet': 30,\n",
       "         'unite': 2,\n",
       "         'smooth': 1,\n",
       "         'user': 28,\n",
       "         'olvi': 17,\n",
       "         '94': 2,\n",
       "         'ragutis': 7,\n",
       "         'a.': 9,\n",
       "         'le': 8,\n",
       "         'coq': 6,\n",
       "         'lithuanian': 8,\n",
       "         'brewery': 9,\n",
       "         '15.04': 1,\n",
       "         '20.4': 1,\n",
       "         '12.49': 2,\n",
       "         '270': 2,\n",
       "         'room': 4,\n",
       "         'atrium': 23,\n",
       "         'grand': 1,\n",
       "         'whitefield': 1,\n",
       "         'five': 18,\n",
       "         'star': 5,\n",
       "         'luxury': 2,\n",
       "         'hotel': 12,\n",
       "         'divest': 9,\n",
       "         'dairy': 2,\n",
       "         'edible': 1,\n",
       "         'fat': 6,\n",
       "         'ready-meal': 1,\n",
       "         'ice-cream': 1,\n",
       "         'packaging': 27,\n",
       "         'multinational': 1,\n",
       "         'electronics': 50,\n",
       "         'incap': 25,\n",
       "         'january': 55,\n",
       "         '3': 37,\n",
       "         'real': 34,\n",
       "         'estate': 33,\n",
       "         'sponda': 16,\n",
       "         '5.3': 5,\n",
       "         '7.8': 4,\n",
       "         'tank': 4,\n",
       "         'deliver': 62,\n",
       "         'farm': 8,\n",
       "         'antwerp': 2,\n",
       "         'northern': 17,\n",
       "         'belgium': 9,\n",
       "         'talentum': 16,\n",
       "         'small': 30,\n",
       "         'satama': 10,\n",
       "         'thomson': 11,\n",
       "         ...})"
      ]
     },
     "execution_count": 22,
     "metadata": {},
     "output_type": "execute_result"
    }
   ],
   "source": [
    "counter"
   ]
  },
  {
   "cell_type": "code",
   "execution_count": 23,
   "metadata": {},
   "outputs": [],
   "source": [
    "num_words = len(counter)"
   ]
  },
  {
   "cell_type": "markdown",
   "metadata": {},
   "source": [
    "# Train/Test Split:"
   ]
  },
  {
   "cell_type": "code",
   "execution_count": 24,
   "metadata": {},
   "outputs": [],
   "source": [
    "# Generating the lists of headlines and labels\n",
    "headlines = []\n",
    "labels = []\n",
    "\n",
    "for row in range(len(df)):\n",
    "    headlines.append(df['Headline'][row])\n",
    "    labels.append(df['Sentiment'][row])"
   ]
  },
  {
   "cell_type": "code",
   "execution_count": 25,
   "metadata": {},
   "outputs": [],
   "source": [
    "# Setting the training ratio\n",
    "training_size = int(df.shape[0] * .8) # Out of 4846"
   ]
  },
  {
   "cell_type": "code",
   "execution_count": 26,
   "metadata": {},
   "outputs": [],
   "source": [
    "# Train Test Split:\n",
    "training_headlines = headlines[0:training_size]\n",
    "testing_headlines = headlines[training_size:]\n",
    "training_labels = labels[0:training_size]\n",
    "testing_labels = labels[training_size:]"
   ]
  },
  {
   "cell_type": "code",
   "execution_count": 27,
   "metadata": {},
   "outputs": [
    {
     "data": {
      "text/plain": [
       "['new representation extends comptel global presence total 18 country , serve 250 customer 80 country worldwide .',\n",
       " \"disposal autotank also strengthen aspo capital structure , '' comment gustav nyberg , ceo aspo .\",\n",
       " 'value order eur 25mn .']"
      ]
     },
     "metadata": {},
     "output_type": "display_data"
    },
    {
     "data": {
      "text/plain": [
       "[2, 2, 1]"
      ]
     },
     "metadata": {},
     "output_type": "display_data"
    }
   ],
   "source": [
    "# Looks good\n",
    "display(training_headlines[:3])\n",
    "display(training_labels[:3])"
   ]
  },
  {
   "cell_type": "markdown",
   "metadata": {},
   "source": [
    "# Tokenization:"
   ]
  },
  {
   "cell_type": "code",
   "execution_count": 28,
   "metadata": {},
   "outputs": [],
   "source": [
    "vocab_size = len(counter) \n",
    "embedding_dim = 16\n",
    "max_length = 50\n",
    "trunc_type='post'\n",
    "padding_type='post'\n",
    "oov_tok = \"<OOV>\""
   ]
  },
  {
   "cell_type": "code",
   "execution_count": 29,
   "metadata": {},
   "outputs": [],
   "source": [
    "\n",
    "# Initializing the fitting the tokenizer:\n",
    "tokenizer = Tokenizer(num_words = vocab_size, oov_token = oov_tok)\n",
    "tokenizer.fit_on_texts(training_headlines)\n",
    "# Initializing the Word Index:\n",
    "word_index = tokenizer.word_index\n",
    "# Padding and Sequencing the Training Set:\n",
    "training_sequences = tokenizer.texts_to_sequences(training_headlines)\n",
    "training_padded = pad_sequences(training_sequences, maxlen = max_length,\n",
    "                               padding = padding_type, \n",
    "                               truncating = trunc_type)\n",
    "# Padding and Sequencing the Testing Set:\n",
    "testing_sequences = tokenizer.texts_to_sequences(testing_headlines)\n",
    "testing_padded = pad_sequences(testing_sequences, maxlen = max_length, \n",
    "                               padding = padding_type, \n",
    "                               truncating = trunc_type)\n"
   ]
  },
  {
   "cell_type": "code",
   "execution_count": 30,
   "metadata": {},
   "outputs": [],
   "source": [
    "# Switch to Numpy Array\n",
    "training_padded = np.array(training_padded)\n",
    "training_labels = np.array(training_labels)\n",
    "testing_padded = np.array(testing_padded)\n",
    "testing_labels = np.array(testing_labels)"
   ]
  },
  {
   "cell_type": "code",
   "execution_count": 31,
   "metadata": {},
   "outputs": [
    {
     "name": "stdout",
     "output_type": "stream",
     "text": [
      "Padded and Tokenized Headline:\n",
      " [  68 1007  432  101  417   83  579   22 1008  126    0    0    0    0\n",
      "    0    0    0    0    0    0    0    0    0    0    0    0    0    0\n",
      "    0    0    0    0    0    0    0    0    0    0    0    0    0    0\n",
      "    0    0    0    0    0    0    0    0]\n",
      "\n",
      "The actual headline:\n",
      " accord aktia asset management , analyst ' forecast 2009 still high .\n",
      "\n",
      "Label:\n",
      " 0\n"
     ]
    }
   ],
   "source": [
    "# Example of what's happening under the hood:\n",
    "print ('Padded and Tokenized Headline:\\n', training_padded[3])\n",
    "print ('\\nThe actual headline:\\n', df.Headline[3])\n",
    "print ('\\nLabel:\\n', training_labels[3])"
   ]
  },
  {
   "cell_type": "markdown",
   "metadata": {},
   "source": [
    "## One Hot Encoding Labels"
   ]
  },
  {
   "cell_type": "code",
   "execution_count": 32,
   "metadata": {},
   "outputs": [
    {
     "data": {
      "text/plain": [
       "((3876, 3), (970, 3))"
      ]
     },
     "execution_count": 32,
     "metadata": {},
     "output_type": "execute_result"
    }
   ],
   "source": [
    "# One Hot Encoding:\n",
    "from keras.utils import to_categorical\n",
    "from sklearn.preprocessing import OneHotEncoder\n",
    "\n",
    "encoder = OneHotEncoder()\n",
    "training_labels = to_categorical(training_labels)\n",
    "testing_labels = to_categorical(testing_labels)\n",
    "training_labels.shape, testing_labels.shape"
   ]
  },
  {
   "cell_type": "markdown",
   "metadata": {},
   "source": [
    "# TEST NEURAL NETWORK - LSTM:"
   ]
  },
  {
   "cell_type": "code",
   "execution_count": 33,
   "metadata": {},
   "outputs": [],
   "source": [
    "from keras.models import Sequential\n",
    "from keras.layers import Embedding, LSTM, Dense, Dropout\n",
    "from keras.initializers import Constant\n",
    "from keras.optimizers import Adam"
   ]
  },
  {
   "cell_type": "code",
   "execution_count": 35,
   "metadata": {},
   "outputs": [
    {
     "data": {
      "text/plain": [
       "\"\\nmodel = Sequential()\\n\\nmodel.add(Embedding(num_words, 32, input_length = max_length))\\nmodel.add(LSTM(64, dropout = 0.1))\\nmodel.add(layers.Dense(3, activation='softmax'))\\n\\noptimizer = 'Adam'\\n\\nmodel.compile(loss = 'categorical_crossentropy', optimizer = optimizer,\\n             metrics = ['accuracy'])\\n\""
      ]
     },
     "execution_count": 35,
     "metadata": {},
     "output_type": "execute_result"
    }
   ],
   "source": [
    "'''\n",
    "model = Sequential()\n",
    "\n",
    "model.add(Embedding(num_words, 32, input_length = max_length))\n",
    "model.add(LSTM(64, dropout = 0.1))\n",
    "model.add(layers.Dense(3, activation='softmax'))\n",
    "\n",
    "optimizer = 'Adam'\n",
    "\n",
    "model.compile(loss = 'categorical_crossentropy', optimizer = optimizer,\n",
    "             metrics = ['accuracy'])\n",
    "'''"
   ]
  },
  {
   "cell_type": "code",
   "execution_count": null,
   "metadata": {},
   "outputs": [],
   "source": [
    "#model.summary()"
   ]
  },
  {
   "cell_type": "code",
   "execution_count": null,
   "metadata": {},
   "outputs": [],
   "source": [
    "# history = model.fit(training_padded, training_labels, epochs = 3,\n",
    "#                   validation_data = (testing_padded, testing_labels))"
   ]
  },
  {
   "cell_type": "code",
   "execution_count": null,
   "metadata": {},
   "outputs": [],
   "source": [
    "#plot_graphs(history, \"acc\")\n",
    "#plot_graphs(history, \"loss\")"
   ]
  },
  {
   "cell_type": "markdown",
   "metadata": {},
   "source": [
    "## Taking a Look at Inputs:"
   ]
  },
  {
   "cell_type": "code",
   "execution_count": 36,
   "metadata": {},
   "outputs": [
    {
     "data": {
      "text/plain": [
       "'new representation extends comptel global presence total 18 country , serve 250 customer 80 country worldwide .'"
      ]
     },
     "metadata": {},
     "output_type": "display_data"
    },
    {
     "name": "stdout",
     "output_type": "stream",
     "text": [
      "-----------------\n"
     ]
    },
    {
     "data": {
      "text/plain": [
       "array([  25, 3708, 1783,  767,  191,  861,   32,  206,  125,  611, 1006,\n",
       "         62,  455,  125,  718,    0,    0,    0,    0,    0,    0,    0,\n",
       "          0,    0,    0,    0,    0,    0,    0,    0,    0,    0,    0,\n",
       "          0,    0,    0,    0,    0,    0,    0,    0,    0,    0,    0,\n",
       "          0,    0,    0,    0,    0,    0], dtype=int32)"
      ]
     },
     "metadata": {},
     "output_type": "display_data"
    },
    {
     "name": "stdout",
     "output_type": "stream",
     "text": [
      "-----------------\n"
     ]
    },
    {
     "data": {
      "text/plain": [
       "array([0., 0., 1.], dtype=float32)"
      ]
     },
     "metadata": {},
     "output_type": "display_data"
    },
    {
     "name": "stdout",
     "output_type": "stream",
     "text": [
      "-----------------\n"
     ]
    },
    {
     "data": {
      "text/plain": [
       "'mr. doring eaton since 1989 act business unit manager eaton power control business unit since january 2007 .'"
      ]
     },
     "metadata": {},
     "output_type": "display_data"
    },
    {
     "name": "stdout",
     "output_type": "stream",
     "text": [
      "-----------------\n"
     ]
    },
    {
     "data": {
      "text/plain": [
       "array([ 439, 7292,    1,  339,    1,  730,   20,   66,  617,    1,  271,\n",
       "        278,   20,   66,  339,  105,   26,    0,    0,    0,    0,    0,\n",
       "          0,    0,    0,    0,    0,    0,    0,    0,    0,    0,    0,\n",
       "          0,    0,    0,    0,    0,    0,    0,    0,    0,    0,    0,\n",
       "          0,    0,    0,    0,    0,    0], dtype=int32)"
      ]
     },
     "metadata": {},
     "output_type": "display_data"
    },
    {
     "name": "stdout",
     "output_type": "stream",
     "text": [
      "-----------------\n"
     ]
    },
    {
     "data": {
      "text/plain": [
       "array([0., 1., 0.], dtype=float32)"
      ]
     },
     "metadata": {},
     "output_type": "display_data"
    },
    {
     "name": "stdout",
     "output_type": "stream",
     "text": [
      "-----------------\n"
     ]
    }
   ],
   "source": [
    "# So far looks good:\n",
    "n = 0\n",
    "\n",
    "display(training_headlines[n])\n",
    "print('-----------------')\n",
    "display(training_padded[n])\n",
    "print('-----------------')\n",
    "display(training_labels[n])\n",
    "print('-----------------')\n",
    "\n",
    "display(testing_headlines[n])\n",
    "print('-----------------')\n",
    "display(testing_padded[n])\n",
    "print('-----------------')\n",
    "display(testing_labels[n])\n",
    "print('-----------------')\n"
   ]
  },
  {
   "cell_type": "markdown",
   "metadata": {},
   "source": [
    "# Neural Network:"
   ]
  },
  {
   "cell_type": "code",
   "execution_count": 37,
   "metadata": {},
   "outputs": [],
   "source": [
    "# First let's define the functions for model evaluation\n",
    "def model_eval(history):\n",
    "    pd.DataFrame(history.history).plot(figsize = (8,5))\n",
    "    plt.grid(True)\n",
    "    plt.gca().set_ylim(0, 1)\n",
    "    plt.show\n",
    "def plot_graphs(history, string):\n",
    "  plt.plot(history.history[string])\n",
    "  plt.plot(history.history['val_'+string])\n",
    "  plt.xlabel(\"Epochs\")\n",
    "  plt.ylabel(string)\n",
    "  plt.legend([string, 'val_'+string])\n",
    "  plt.show()\n",
    "  "
   ]
  },
  {
   "cell_type": "markdown",
   "metadata": {},
   "source": [
    "Now it's time to build a baseline neural network:"
   ]
  },
  {
   "cell_type": "code",
   "execution_count": null,
   "metadata": {},
   "outputs": [],
   "source": [
    "## TEST ZONE"
   ]
  },
  {
   "cell_type": "code",
   "execution_count": 38,
   "metadata": {},
   "outputs": [],
   "source": [
    "from keras import layers\n",
    "maxlen = 50\n",
    "embedding_dim = 50\n",
    "\n",
    "model = Sequential()\n",
    "model.add(layers.Embedding(input_dim=vocab_size, \n",
    "                           output_dim=embedding_dim, \n",
    "                           input_length=maxlen))\n",
    "model.add(layers.Flatten())\n",
    "model.add(layers.Dense(10, activation='relu'))\n",
    "model.add(layers.Dense(3, activation='softmax'))\n",
    "model.compile(optimizer='adam',\n",
    "              loss='categorical_crossentropy',\n",
    "              metrics=['accuracy'])\n",
    "#model.summary()"
   ]
  },
  {
   "cell_type": "code",
   "execution_count": 39,
   "metadata": {},
   "outputs": [
    {
     "name": "stdout",
     "output_type": "stream",
     "text": [
      "Train on 3876 samples, validate on 970 samples\n",
      "Epoch 1/15\n",
      "3876/3876 [==============================] - 1s 338us/step - loss: 0.9002 - acc: 0.6009 - val_loss: 0.8309 - val_acc: 0.6268\n",
      "Epoch 2/15\n",
      "3876/3876 [==============================] - 1s 228us/step - loss: 0.6885 - acc: 0.6963 - val_loss: 0.7097 - val_acc: 0.6814\n",
      "Epoch 3/15\n",
      "3876/3876 [==============================] - 1s 249us/step - loss: 0.4394 - acc: 0.8109 - val_loss: 0.7295 - val_acc: 0.6897\n",
      "Epoch 4/15\n",
      "3876/3876 [==============================] - 1s 228us/step - loss: 0.3051 - acc: 0.8617 - val_loss: 0.7817 - val_acc: 0.6845\n",
      "Epoch 5/15\n",
      "3876/3876 [==============================] - 1s 227us/step - loss: 0.2261 - acc: 0.9089 - val_loss: 0.7895 - val_acc: 0.6876\n",
      "Epoch 6/15\n",
      "3876/3876 [==============================] - 1s 224us/step - loss: 0.1266 - acc: 0.9665 - val_loss: 0.9086 - val_acc: 0.6825\n",
      "Epoch 7/15\n",
      "3876/3876 [==============================] - 1s 221us/step - loss: 0.0582 - acc: 0.9910 - val_loss: 0.9047 - val_acc: 0.6969\n",
      "Epoch 8/15\n",
      "3876/3876 [==============================] - 1s 222us/step - loss: 0.0311 - acc: 0.9946 - val_loss: 1.0060 - val_acc: 0.6876\n",
      "Epoch 9/15\n",
      "3876/3876 [==============================] - 1s 226us/step - loss: 0.0207 - acc: 0.9966 - val_loss: 1.0493 - val_acc: 0.6742\n",
      "Epoch 10/15\n",
      "3876/3876 [==============================] - 1s 222us/step - loss: 0.0131 - acc: 0.9985 - val_loss: 1.0423 - val_acc: 0.6907\n",
      "Epoch 11/15\n",
      "3876/3876 [==============================] - 1s 224us/step - loss: 0.0098 - acc: 0.9987 - val_loss: 1.1247 - val_acc: 0.6969\n",
      "Epoch 12/15\n",
      "3876/3876 [==============================] - 1s 221us/step - loss: 0.0076 - acc: 0.9990 - val_loss: 1.1103 - val_acc: 0.6959\n",
      "Epoch 13/15\n",
      "3876/3876 [==============================] - 1s 222us/step - loss: 0.0077 - acc: 0.9987 - val_loss: 1.1545 - val_acc: 0.7000\n",
      "Epoch 14/15\n",
      "3876/3876 [==============================] - 1s 224us/step - loss: 0.0052 - acc: 0.9992 - val_loss: 1.2055 - val_acc: 0.6742\n",
      "Epoch 15/15\n",
      "3876/3876 [==============================] - 1s 222us/step - loss: 0.0056 - acc: 0.9990 - val_loss: 1.1873 - val_acc: 0.6990\n"
     ]
    }
   ],
   "source": [
    "num_epochs = 15\n",
    "history = model.fit(training_padded, training_labels, \n",
    "                    epochs=num_epochs, \n",
    "                    validation_data=(testing_padded, testing_labels),\n",
    "                    batch_size = 32,\n",
    "                    verbose= 1)"
   ]
  },
  {
   "cell_type": "code",
   "execution_count": 40,
   "metadata": {},
   "outputs": [
    {
     "data": {
      "image/png": "[encoded data removed]",
      "text/plain": [
       "<Figure size 432x288 with 1 Axes>"
      ]
     },
     "metadata": {
      "needs_background": "light"
     },
     "output_type": "display_data"
    },
    {
     "data": {
      "image/png": "[encoded data removed]",
      "text/plain": [
       "<Figure size 432x288 with 1 Axes>"
      ]
     },
     "metadata": {
      "needs_background": "light"
     },
     "output_type": "display_data"
    }
   ],
   "source": [
    "plot_graphs(history, \"acc\")\n",
    "plot_graphs(history, \"loss\")"
   ]
  },
  {
   "cell_type": "code",
   "execution_count": null,
   "metadata": {},
   "outputs": [],
   "source": []
  },
  {
   "cell_type": "code",
   "execution_count": null,
   "metadata": {},
   "outputs": [],
   "source": [
    "## End TEST ZONE "
   ]
  },
  {
   "cell_type": "markdown",
   "metadata": {},
   "source": [
    "## Model # 1:"
   ]
  },
  {
   "cell_type": "code",
   "execution_count": 41,
   "metadata": {},
   "outputs": [],
   "source": [
    "model = keras.Sequential([\n",
    "    keras.layers.Embedding(vocab_size, embedding_dim, input_length=max_length),\n",
    "    keras.layers.GlobalAveragePooling1D(),\n",
    "    keras.layers.Dense(35, activation='relu'),\n",
    "    keras.layers.Dropout(0.2), # Optional Regularization\n",
    "    keras.layers.Dense(20, activation='relu'), # Optional second hidden layer\n",
    "    keras.layers.Dense(3, activation='softmax')])\n",
    "\n",
    "#model.compile(loss='binary_crossentropy',optimizer='Adam',metrics=['accuracy']) # Orig code\n",
    "model.compile(loss='categorical_crossentropy', optimizer='sgd', metrics=['accuracy']) # New code for 3 categories"
   ]
  },
  {
   "cell_type": "code",
   "execution_count": 42,
   "metadata": {},
   "outputs": [],
   "source": [
    "#model.summary()"
   ]
  },
  {
   "cell_type": "code",
   "execution_count": 43,
   "metadata": {},
   "outputs": [
    {
     "name": "stdout",
     "output_type": "stream",
     "text": [
      "Train on 3876 samples, validate on 970 samples\n",
      "Epoch 1/15\n",
      " - 1s - loss: 1.0233 - acc: 0.5826 - val_loss: 0.9767 - val_acc: 0.5835\n",
      "Epoch 2/15\n",
      " - 1s - loss: 0.9519 - acc: 0.5967 - val_loss: 0.9461 - val_acc: 0.5835\n",
      "Epoch 3/15\n",
      " - 1s - loss: 0.9338 - acc: 0.5967 - val_loss: 0.9370 - val_acc: 0.5835\n",
      "Epoch 4/15\n",
      " - 1s - loss: 0.9275 - acc: 0.5967 - val_loss: 0.9338 - val_acc: 0.5835\n",
      "Epoch 5/15\n",
      " - 1s - loss: 0.9256 - acc: 0.5967 - val_loss: 0.9321 - val_acc: 0.5835\n",
      "Epoch 6/15\n",
      " - 1s - loss: 0.9239 - acc: 0.5967 - val_loss: 0.9308 - val_acc: 0.5835\n",
      "Epoch 7/15\n",
      " - 1s - loss: 0.9239 - acc: 0.5967 - val_loss: 0.9305 - val_acc: 0.5835\n",
      "Epoch 8/15\n",
      " - 1s - loss: 0.9236 - acc: 0.5967 - val_loss: 0.9301 - val_acc: 0.5835\n",
      "Epoch 9/15\n",
      " - 1s - loss: 0.9240 - acc: 0.5967 - val_loss: 0.9299 - val_acc: 0.5835\n",
      "Epoch 10/15\n",
      " - 1s - loss: 0.9239 - acc: 0.5967 - val_loss: 0.9301 - val_acc: 0.5835\n",
      "Epoch 11/15\n",
      " - 1s - loss: 0.9241 - acc: 0.5967 - val_loss: 0.9295 - val_acc: 0.5835\n",
      "Epoch 12/15\n",
      " - 1s - loss: 0.9236 - acc: 0.5967 - val_loss: 0.9297 - val_acc: 0.5835\n",
      "Epoch 13/15\n",
      " - 1s - loss: 0.9242 - acc: 0.5967 - val_loss: 0.9294 - val_acc: 0.5835\n",
      "Epoch 14/15\n",
      " - 1s - loss: 0.9241 - acc: 0.5967 - val_loss: 0.9296 - val_acc: 0.5835\n",
      "Epoch 15/15\n",
      " - 1s - loss: 0.9234 - acc: 0.5967 - val_loss: 0.9294 - val_acc: 0.5835\n"
     ]
    }
   ],
   "source": [
    "num_epochs = 15\n",
    "history = model.fit(training_padded, training_labels, \n",
    "                    epochs=num_epochs, \n",
    "                    validation_data=(testing_padded, testing_labels), \n",
    "                    verbose= 2)"
   ]
  },
  {
   "cell_type": "markdown",
   "metadata": {},
   "source": [
    "### Model Evaluation:"
   ]
  },
  {
   "cell_type": "code",
   "execution_count": 44,
   "metadata": {},
   "outputs": [
    {
     "data": {
      "image/png": "[encoded data removed]",
      "text/plain": [
       "<Figure size 576x360 with 1 Axes>"
      ]
     },
     "metadata": {
      "needs_background": "light"
     },
     "output_type": "display_data"
    }
   ],
   "source": [
    "model_eval(history)"
   ]
  },
  {
   "cell_type": "code",
   "execution_count": 45,
   "metadata": {},
   "outputs": [
    {
     "data": {
      "image/png": "[encoded data removed]",
      "text/plain": [
       "<Figure size 432x288 with 1 Axes>"
      ]
     },
     "metadata": {
      "needs_background": "light"
     },
     "output_type": "display_data"
    },
    {
     "data": {
      "image/png": "[encoded data removed]",
      "text/plain": [
       "<Figure size 432x288 with 1 Axes>"
      ]
     },
     "metadata": {
      "needs_background": "light"
     },
     "output_type": "display_data"
    }
   ],
   "source": [
    "plot_graphs(history, \"acc\")\n",
    "plot_graphs(history, \"loss\")"
   ]
  },
  {
   "cell_type": "markdown",
   "metadata": {},
   "source": [
    "## Neural Network with Transfer Learning:"
   ]
  },
  {
   "cell_type": "markdown",
   "metadata": {},
   "source": [
    "### Model Evaluation:"
   ]
  },
  {
   "cell_type": "markdown",
   "metadata": {},
   "source": [
    "# Other:"
   ]
  },
  {
   "cell_type": "code",
   "execution_count": null,
   "metadata": {},
   "outputs": [],
   "source": [
    "print break_"
   ]
  },
  {
   "cell_type": "code",
   "execution_count": null,
   "metadata": {},
   "outputs": [],
   "source": [
    "reverse_word_index = dict([(value, key) for (key, value) in word_index.items()])\n",
    "\n",
    "def decode_sentence(text):\n",
    "    return ' '.join([reverse_word_index.get(i, '?') for i in text])\n",
    "\n",
    "print(decode_sentence(training_padded[0]))\n",
    "print(training_headlines[2])\n",
    "print(labels[2])"
   ]
  },
  {
   "cell_type": "code",
   "execution_count": null,
   "metadata": {},
   "outputs": [],
   "source": [
    "e = model.layers[0]\n",
    "weights = e.get_weights()[0]\n",
    "print(weights.shape) # shape: (vocab_size, embedding_dim)"
   ]
  },
  {
   "cell_type": "code",
   "execution_count": null,
   "metadata": {},
   "outputs": [],
   "source": [
    "'''\n",
    "import io\n",
    "\n",
    "out_v = io.open('vecs.tsv', 'w', encoding='utf-8')\n",
    "out_m = io.open('meta.tsv', 'w', encoding='utf-8')\n",
    "for word_num in range(1, vocab_size):\n",
    "  word = reverse_word_index[word_num]\n",
    "  embeddings = weights[word_num]\n",
    "  out_m.write(word + \"\\n\")\n",
    "  out_v.write('\\t'.join([str(x) for x in embeddings]) + \"\\n\")\n",
    "out_v.close()\n",
    "out_m.close()\n",
    "'''"
   ]
  },
  {
   "cell_type": "code",
   "execution_count": null,
   "metadata": {},
   "outputs": [],
   "source": [
    "# Sort of working!\n",
    "sentence = [\"stocks rise rapidly for Tesla\", \"Apple factory burns to the ground\"]\n",
    "sequences = tokenizer.texts_to_sequences(sentence)\n",
    "padded = pad_sequences(sequences, maxlen=max_length, \n",
    "                       padding=padding_type, \n",
    "                       truncating=trunc_type)\n",
    "print(model.predict(padded))"
   ]
  },
  {
   "cell_type": "markdown",
   "metadata": {},
   "source": [
    "# Further Work:"
   ]
  },
  {
   "cell_type": "markdown",
   "metadata": {},
   "source": [
    "In the future, I'd like to complete the following analysis:\n",
    "- A web application that collects and analyzes headlines from various financial news sources.\n",
    "- Other neural network architecture types.\n",
    "- New types of sentiment analysis, such as breaking news vs an opinion piece on an older issue."
   ]
  },
  {
   "cell_type": "markdown",
   "metadata": {},
   "source": [
    "# Conclusion:"
   ]
  },
  {
   "cell_type": "code",
   "execution_count": null,
   "metadata": {},
   "outputs": [],
   "source": []
  }
 ],
 "metadata": {
  "kernelspec": {
   "display_name": "Python 3",
   "language": "python",
   "name": "python3"
  },
  "language_info": {
   "codemirror_mode": {
    "name": "ipython",
    "version": 3
   },
   "file_extension": ".py",
   "mimetype": "text/x-python",
   "name": "python",
   "nbconvert_exporter": "python",
   "pygments_lexer": "ipython3",
   "version": "3.6.9"
  },
  "toc": {
   "base_numbering": 1,
   "nav_menu": {},
   "number_sections": true,
   "sideBar": true,
   "skip_h1_title": false,
   "title_cell": "Table of Contents",
   "title_sidebar": "Contents",
   "toc_cell": false,
   "toc_position": {},
   "toc_section_display": true,
   "toc_window_display": false
  }
 },
 "nbformat": 4,
 "nbformat_minor": 2
}
