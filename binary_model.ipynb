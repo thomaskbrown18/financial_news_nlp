{
 "cells": [
  {
   "cell_type": "markdown",
   "metadata": {},
   "source": [
    "__Student info:__"
   ]
  },
  {
   "cell_type": "markdown",
   "metadata": {},
   "source": [
    "- Student name: Thomas Brown\n",
    "- Student pace: Full Time\n",
    "- Scheduled project review date/time: TBD\n",
    "- Instructor name: Abhineet Kulkarni\n",
    "- Blog post URL: TBD"
   ]
  },
  {
   "cell_type": "markdown",
   "metadata": {},
   "source": [
    "__Use Case:__<br><br>\n",
    "The purpose of this project is to start building a neural network model that can determine the sentiment of financial news headlines.  The users of this model would be investment firms who want to keep track of the market sentiment of a set of various products, companies, or industries.  <br><br>\n",
    "With proper web scraping and feeding of new headlines, a firm would be able to keep track of various topics to make better informed investing decisions.  For example, one could feasibly keep track of terms that are rising rapidly in terms of positive sentiment in order to invest in them.<br><br>\n",
    "The data is collected from Kaggle through this [link](https://www.kaggle.com/ankurzing/sentiment-analysis-for-financial-news).  It's a collection of 4,837 unique news headlines from various financial news sources. "
   ]
  },
  {
   "cell_type": "markdown",
   "metadata": {},
   "source": [
    "## Importing Libraries:"
   ]
  },
  {
   "cell_type": "code",
   "execution_count": 1,
   "metadata": {},
   "outputs": [
    {
     "name": "stderr",
     "output_type": "stream",
     "text": [
      "Using TensorFlow backend.\n",
      "/Users/Thomas/opt/anaconda3/envs/learn-env/lib/python3.6/site-packages/sklearn/externals/six.py:31: DeprecationWarning: The module is deprecated in version 0.21 and will be removed in version 0.23 since we've dropped support for Python 2.7. Please rely on the official version of six (https://pypi.org/project/six/).\n",
      "  \"(https://pypi.org/project/six/).\", DeprecationWarning)\n"
     ]
    }
   ],
   "source": [
    "import pandas as pd\n",
    "import numpy as np\n",
    "\n",
    "# Scikit-Learn:\n",
    "from sklearn.preprocessing import StandardScaler\n",
    "from sklearn.neighbors import KNeighborsClassifier\n",
    "from sklearn.model_selection import train_test_split, GridSearchCV\n",
    "from sklearn.ensemble import RandomForestClassifier\n",
    "from sklearn.tree import DecisionTreeClassifier\n",
    "from sklearn.ensemble import AdaBoostClassifier, GradientBoostingClassifier\n",
    "from sklearn.pipeline import Pipeline\n",
    "from sklearn.metrics import precision_score, recall_score, confusion_matrix, classification_report, accuracy_score, f1_score\n",
    "from sklearn import svm\n",
    "from sklearn import tree\n",
    "from sklearn.preprocessing import LabelEncoder\n",
    "from sklearn.preprocessing import OneHotEncoder\n",
    "\n",
    "\n",
    "# Keras:\n",
    "import keras\n",
    "from keras.models import Sequential\n",
    "from keras.layers import Dense\n",
    "from sklearn.preprocessing import StandardScaler, LabelBinarizer\n",
    "from keras.preprocessing.text import Tokenizer\n",
    "from keras.preprocessing.sequence import pad_sequences\n",
    "from keras.layers import Dense, Conv1D, MaxPool1D, Flatten, Dropout\n",
    "from keras.utils import to_categorical\n",
    "from keras.layers import Embedding, LSTM, Dense, Dropout\n",
    "from keras.models import Sequential\n",
    "from keras.layers import Embedding, LSTM, Dense, Dropout\n",
    "from keras.initializers import Constant\n",
    "from keras.optimizers import Adam\n",
    "from keras.layers import GlobalAveragePooling1D\n",
    "\n",
    "\n",
    "# NLTK - Stopwords:\n",
    "import nltk\n",
    "from nltk.corpus import stopwords\n",
    "import string\n",
    "from nltk import word_tokenize, FreqDist\n",
    "from nltk.stem import WordNetLemmatizer\n",
    "from nltk import pos_tag\n",
    "from nltk.corpus import wordnet\n",
    "\n",
    "\n",
    "# Sampling:\n",
    "from imblearn.over_sampling import SMOTE, ADASYN\n",
    "\n",
    "# XGBoost:\n",
    "import xgboost as xgb\n",
    "\n",
    "# Plots and Graphs:\n",
    "from wordcloud import WordCloud\n",
    "import seaborn as sns\n",
    "sns.set_style('darkgrid')\n",
    "import matplotlib.pyplot as plt\n",
    "import plotly.express as px\n",
    "import scikitplot as skplt \n",
    "%matplotlib inline\n",
    "\n",
    "# Other:\n",
    "from collections import Counter\n",
    "import warnings\n",
    "warnings.filterwarnings('ignore')\n",
    "# So we can see the entire column:\n",
    "pd.set_option('display.max_colwidth', -1)"
   ]
  },
  {
   "cell_type": "markdown",
   "metadata": {},
   "source": [
    "# Importing Data:"
   ]
  },
  {
   "cell_type": "code",
   "execution_count": 2,
   "metadata": {},
   "outputs": [
    {
     "data": {
      "text/html": [
       "<div>\n",
       "<style scoped>\n",
       "    .dataframe tbody tr th:only-of-type {\n",
       "        vertical-align: middle;\n",
       "    }\n",
       "\n",
       "    .dataframe tbody tr th {\n",
       "        vertical-align: top;\n",
       "    }\n",
       "\n",
       "    .dataframe thead th {\n",
       "        text-align: right;\n",
       "    }\n",
       "</style>\n",
       "<table border=\"1\" class=\"dataframe\">\n",
       "  <thead>\n",
       "    <tr style=\"text-align: right;\">\n",
       "      <th></th>\n",
       "      <th>Sentiment</th>\n",
       "      <th>Headline</th>\n",
       "    </tr>\n",
       "  </thead>\n",
       "  <tbody>\n",
       "    <tr>\n",
       "      <td>0</td>\n",
       "      <td>neutral</td>\n",
       "      <td>Renesas Mobile Europe Ltd has approximately 470 employees in Oulu .</td>\n",
       "    </tr>\n",
       "    <tr>\n",
       "      <td>1</td>\n",
       "      <td>negative</td>\n",
       "      <td>Earnings per share ( EPS ) amounted to a loss of EUR0 .38 .</td>\n",
       "    </tr>\n",
       "    <tr>\n",
       "      <td>2</td>\n",
       "      <td>negative</td>\n",
       "      <td>11 August 2010 - Finnish measuring equipment maker Vaisala Oyj HEL : VAIAS said today that its net loss widened to EUR4 .8 m in the first half of 2010 from EUR2 .3 m in the corresponding period a year earlier .</td>\n",
       "    </tr>\n",
       "    <tr>\n",
       "      <td>3</td>\n",
       "      <td>positive</td>\n",
       "      <td>Both operating profit and net sales for the three-month period increased , respectively from EUR15 .1 m and EUR131 .5 m , as compared to the corresponding period in 2005 .</td>\n",
       "    </tr>\n",
       "    <tr>\n",
       "      <td>4</td>\n",
       "      <td>negative</td>\n",
       "      <td>Finnair 's passenger load factor , which measures the number of sold seats as a share of all available seats , dropped by 1.3 percentage points to 76.7 % in September .</td>\n",
       "    </tr>\n",
       "  </tbody>\n",
       "</table>\n",
       "</div>"
      ],
      "text/plain": [
       "  Sentiment  \\\n",
       "0  neutral    \n",
       "1  negative   \n",
       "2  negative   \n",
       "3  positive   \n",
       "4  negative   \n",
       "\n",
       "                                                                                                                                                                                                             Headline  \n",
       "0  Renesas Mobile Europe Ltd has approximately 470 employees in Oulu .                                                                                                                                                 \n",
       "1  Earnings per share ( EPS ) amounted to a loss of EUR0 .38 .                                                                                                                                                         \n",
       "2  11 August 2010 - Finnish measuring equipment maker Vaisala Oyj HEL : VAIAS said today that its net loss widened to EUR4 .8 m in the first half of 2010 from EUR2 .3 m in the corresponding period a year earlier .  \n",
       "3  Both operating profit and net sales for the three-month period increased , respectively from EUR15 .1 m and EUR131 .5 m , as compared to the corresponding period in 2005 .                                         \n",
       "4  Finnair 's passenger load factor , which measures the number of sold seats as a share of all available seats , dropped by 1.3 percentage points to 76.7 % in September .                                            "
      ]
     },
     "metadata": {},
     "output_type": "display_data"
    },
    {
     "name": "stdout",
     "output_type": "stream",
     "text": [
      "Shape: (4846, 2) \n",
      "\n",
      "\n",
      "<class 'pandas.core.frame.DataFrame'>\n",
      "RangeIndex: 4846 entries, 0 to 4845\n",
      "Data columns (total 2 columns):\n",
      "Sentiment    4846 non-null object\n",
      "Headline     4846 non-null object\n",
      "dtypes: object(2)\n",
      "memory usage: 75.8+ KB\n",
      "None\n"
     ]
    }
   ],
   "source": [
    "df = pd.read_csv('all-data.csv', names = ['Sentiment', 'Headline'], \n",
    "                 encoding='latin-1')\n",
    "df = df.sample(frac=1).reset_index(drop=True) # Shuffling the data in case there's an ordering bias\n",
    "display(df.head())\n",
    "print(\"Shape:\", df.shape, \"\\n\\n\")\n",
    "print(df.info())"
   ]
  },
  {
   "cell_type": "code",
   "execution_count": 3,
   "metadata": {},
   "outputs": [
    {
     "data": {
      "text/plain": [
       "neutral     2879\n",
       "positive    1363\n",
       "negative    604 \n",
       "Name: Sentiment, dtype: int64"
      ]
     },
     "execution_count": 3,
     "metadata": {},
     "output_type": "execute_result"
    }
   ],
   "source": [
    "# Let's take a look at the number of instances of each sentiment:\n",
    "df.Sentiment.value_counts()\n",
    "# Not too many negatives.  This may prove to be an issue later on, but for now, let's keep moving."
   ]
  },
  {
   "cell_type": "markdown",
   "metadata": {},
   "source": [
    "# Cleaning Data:"
   ]
  },
  {
   "cell_type": "markdown",
   "metadata": {},
   "source": [
    "First, the labels need to be changed to numerical values in order to go through the neural network later on. Due to a low number of negative articles compared to the rest, I'll be treating this as a binary problem: 'Positive' vs 'Not Positive'."
   ]
  },
  {
   "cell_type": "markdown",
   "metadata": {},
   "source": [
    "- 0 is Negative or Neutral\n",
    "- 1 is Positive"
   ]
  },
  {
   "cell_type": "code",
   "execution_count": 4,
   "metadata": {},
   "outputs": [
    {
     "data": {
      "text/html": [
       "<div>\n",
       "<style scoped>\n",
       "    .dataframe tbody tr th:only-of-type {\n",
       "        vertical-align: middle;\n",
       "    }\n",
       "\n",
       "    .dataframe tbody tr th {\n",
       "        vertical-align: top;\n",
       "    }\n",
       "\n",
       "    .dataframe thead th {\n",
       "        text-align: right;\n",
       "    }\n",
       "</style>\n",
       "<table border=\"1\" class=\"dataframe\">\n",
       "  <thead>\n",
       "    <tr style=\"text-align: right;\">\n",
       "      <th></th>\n",
       "      <th>Sentiment</th>\n",
       "      <th>Headline</th>\n",
       "    </tr>\n",
       "  </thead>\n",
       "  <tbody>\n",
       "    <tr>\n",
       "      <td>0</td>\n",
       "      <td>0</td>\n",
       "      <td>Renesas Mobile Europe Ltd has approximately 470 employees in Oulu .</td>\n",
       "    </tr>\n",
       "    <tr>\n",
       "      <td>1</td>\n",
       "      <td>0</td>\n",
       "      <td>Earnings per share ( EPS ) amounted to a loss of EUR0 .38 .</td>\n",
       "    </tr>\n",
       "    <tr>\n",
       "      <td>2</td>\n",
       "      <td>0</td>\n",
       "      <td>11 August 2010 - Finnish measuring equipment maker Vaisala Oyj HEL : VAIAS said today that its net loss widened to EUR4 .8 m in the first half of 2010 from EUR2 .3 m in the corresponding period a year earlier .</td>\n",
       "    </tr>\n",
       "    <tr>\n",
       "      <td>3</td>\n",
       "      <td>1</td>\n",
       "      <td>Both operating profit and net sales for the three-month period increased , respectively from EUR15 .1 m and EUR131 .5 m , as compared to the corresponding period in 2005 .</td>\n",
       "    </tr>\n",
       "    <tr>\n",
       "      <td>4</td>\n",
       "      <td>0</td>\n",
       "      <td>Finnair 's passenger load factor , which measures the number of sold seats as a share of all available seats , dropped by 1.3 percentage points to 76.7 % in September .</td>\n",
       "    </tr>\n",
       "  </tbody>\n",
       "</table>\n",
       "</div>"
      ],
      "text/plain": [
       "   Sentiment  \\\n",
       "0  0           \n",
       "1  0           \n",
       "2  0           \n",
       "3  1           \n",
       "4  0           \n",
       "\n",
       "                                                                                                                                                                                                             Headline  \n",
       "0  Renesas Mobile Europe Ltd has approximately 470 employees in Oulu .                                                                                                                                                 \n",
       "1  Earnings per share ( EPS ) amounted to a loss of EUR0 .38 .                                                                                                                                                         \n",
       "2  11 August 2010 - Finnish measuring equipment maker Vaisala Oyj HEL : VAIAS said today that its net loss widened to EUR4 .8 m in the first half of 2010 from EUR2 .3 m in the corresponding period a year earlier .  \n",
       "3  Both operating profit and net sales for the three-month period increased , respectively from EUR15 .1 m and EUR131 .5 m , as compared to the corresponding period in 2005 .                                         \n",
       "4  Finnair 's passenger load factor , which measures the number of sold seats as a share of all available seats , dropped by 1.3 percentage points to 76.7 % in September .                                            "
      ]
     },
     "execution_count": 4,
     "metadata": {},
     "output_type": "execute_result"
    }
   ],
   "source": [
    "# BINARY\n",
    "df['Sentiment'] = df['Sentiment'].map(lambda x: 1 if x == 'positive' else 0)\n",
    "df.head()"
   ]
  },
  {
   "cell_type": "markdown",
   "metadata": {},
   "source": [
    "## Stopwords:"
   ]
  },
  {
   "cell_type": "markdown",
   "metadata": {},
   "source": [
    "Next, we can remove all the 'stopwords' that can clog up the system later on.  The punctuation will get filtered out later."
   ]
  },
  {
   "cell_type": "code",
   "execution_count": 5,
   "metadata": {},
   "outputs": [],
   "source": [
    "stop = set(stopwords.words('english'))\n",
    "stop.add(\"'s\")\n",
    "def remove_stopwords(text):\n",
    "    text = [word.lower() for word in text.split() if word.lower() not in stop]\n",
    "    return \" \".join(text)\n",
    "\n",
    "df['Headline'] = df['Headline'].map(remove_stopwords)"
   ]
  },
  {
   "cell_type": "code",
   "execution_count": 6,
   "metadata": {},
   "outputs": [
    {
     "data": {
      "text/html": [
       "<div>\n",
       "<style scoped>\n",
       "    .dataframe tbody tr th:only-of-type {\n",
       "        vertical-align: middle;\n",
       "    }\n",
       "\n",
       "    .dataframe tbody tr th {\n",
       "        vertical-align: top;\n",
       "    }\n",
       "\n",
       "    .dataframe thead th {\n",
       "        text-align: right;\n",
       "    }\n",
       "</style>\n",
       "<table border=\"1\" class=\"dataframe\">\n",
       "  <thead>\n",
       "    <tr style=\"text-align: right;\">\n",
       "      <th></th>\n",
       "      <th>Sentiment</th>\n",
       "      <th>Headline</th>\n",
       "    </tr>\n",
       "  </thead>\n",
       "  <tbody>\n",
       "    <tr>\n",
       "      <td>0</td>\n",
       "      <td>0</td>\n",
       "      <td>renesas mobile europe ltd approximately 470 employees oulu .</td>\n",
       "    </tr>\n",
       "    <tr>\n",
       "      <td>1</td>\n",
       "      <td>0</td>\n",
       "      <td>earnings per share ( eps ) amounted loss eur0 .38 .</td>\n",
       "    </tr>\n",
       "    <tr>\n",
       "      <td>2</td>\n",
       "      <td>0</td>\n",
       "      <td>11 august 2010 - finnish measuring equipment maker vaisala oyj hel : vaias said today net loss widened eur4 .8 first half 2010 eur2 .3 corresponding period year earlier .</td>\n",
       "    </tr>\n",
       "    <tr>\n",
       "      <td>3</td>\n",
       "      <td>1</td>\n",
       "      <td>operating profit net sales three-month period increased , respectively eur15 .1 eur131 .5 , compared corresponding period 2005 .</td>\n",
       "    </tr>\n",
       "    <tr>\n",
       "      <td>4</td>\n",
       "      <td>0</td>\n",
       "      <td>finnair passenger load factor , measures number sold seats share available seats , dropped 1.3 percentage points 76.7 % september .</td>\n",
       "    </tr>\n",
       "  </tbody>\n",
       "</table>\n",
       "</div>"
      ],
      "text/plain": [
       "   Sentiment  \\\n",
       "0  0           \n",
       "1  0           \n",
       "2  0           \n",
       "3  1           \n",
       "4  0           \n",
       "\n",
       "                                                                                                                                                                     Headline  \n",
       "0  renesas mobile europe ltd approximately 470 employees oulu .                                                                                                                \n",
       "1  earnings per share ( eps ) amounted loss eur0 .38 .                                                                                                                         \n",
       "2  11 august 2010 - finnish measuring equipment maker vaisala oyj hel : vaias said today net loss widened eur4 .8 first half 2010 eur2 .3 corresponding period year earlier .  \n",
       "3  operating profit net sales three-month period increased , respectively eur15 .1 eur131 .5 , compared corresponding period 2005 .                                            \n",
       "4  finnair passenger load factor , measures number sold seats share available seats , dropped 1.3 percentage points 76.7 % september .                                         "
      ]
     },
     "execution_count": 6,
     "metadata": {},
     "output_type": "execute_result"
    }
   ],
   "source": [
    "df.head()"
   ]
  },
  {
   "cell_type": "markdown",
   "metadata": {},
   "source": [
    "## Lemmatization:"
   ]
  },
  {
   "cell_type": "code",
   "execution_count": 7,
   "metadata": {},
   "outputs": [],
   "source": [
    "def get_wordnet_pos(word):\n",
    "    \"\"\"Map POS tag to first character lemmatize() accepts\"\"\"\n",
    "    tag = nltk.pos_tag([word])[0][1][0].upper()\n",
    "    tag_dict = {\"J\": wordnet.ADJ,\n",
    "                \"N\": wordnet.NOUN,\n",
    "                \"V\": wordnet.VERB,\n",
    "                \"R\": wordnet.ADV}\n",
    "\n",
    "    return tag_dict.get(tag, wordnet.NOUN)"
   ]
  },
  {
   "cell_type": "code",
   "execution_count": 8,
   "metadata": {},
   "outputs": [],
   "source": [
    "wordnet_lemmatizer = WordNetLemmatizer()\n",
    "\n",
    "def lemmatize(text):\n",
    "    text = [wordnet_lemmatizer.lemmatize(word, get_wordnet_pos(word)) for word in text.split()]\n",
    "    return \" \".join(text)\n",
    "\n",
    "df['Headline'] = df['Headline'].map(lemmatize)"
   ]
  },
  {
   "cell_type": "code",
   "execution_count": 9,
   "metadata": {},
   "outputs": [
    {
     "data": {
      "text/html": [
       "<div>\n",
       "<style scoped>\n",
       "    .dataframe tbody tr th:only-of-type {\n",
       "        vertical-align: middle;\n",
       "    }\n",
       "\n",
       "    .dataframe tbody tr th {\n",
       "        vertical-align: top;\n",
       "    }\n",
       "\n",
       "    .dataframe thead th {\n",
       "        text-align: right;\n",
       "    }\n",
       "</style>\n",
       "<table border=\"1\" class=\"dataframe\">\n",
       "  <thead>\n",
       "    <tr style=\"text-align: right;\">\n",
       "      <th></th>\n",
       "      <th>Sentiment</th>\n",
       "      <th>Headline</th>\n",
       "    </tr>\n",
       "  </thead>\n",
       "  <tbody>\n",
       "    <tr>\n",
       "      <td>0</td>\n",
       "      <td>0</td>\n",
       "      <td>renesas mobile europe ltd approximately 470 employee oulu .</td>\n",
       "    </tr>\n",
       "    <tr>\n",
       "      <td>1</td>\n",
       "      <td>0</td>\n",
       "      <td>earnings per share ( eps ) amount loss eur0 .38 .</td>\n",
       "    </tr>\n",
       "    <tr>\n",
       "      <td>2</td>\n",
       "      <td>0</td>\n",
       "      <td>11 august 2010 - finnish measure equipment maker vaisala oyj hel : vaias say today net loss widen eur4 .8 first half 2010 eur2 .3 correspond period year earlier .</td>\n",
       "    </tr>\n",
       "    <tr>\n",
       "      <td>3</td>\n",
       "      <td>1</td>\n",
       "      <td>operating profit net sale three-month period increase , respectively eur15 .1 eur131 .5 , compare correspond period 2005 .</td>\n",
       "    </tr>\n",
       "    <tr>\n",
       "      <td>4</td>\n",
       "      <td>0</td>\n",
       "      <td>finnair passenger load factor , measure number sell seat share available seat , drop 1.3 percentage point 76.7 % september .</td>\n",
       "    </tr>\n",
       "  </tbody>\n",
       "</table>\n",
       "</div>"
      ],
      "text/plain": [
       "   Sentiment  \\\n",
       "0  0           \n",
       "1  0           \n",
       "2  0           \n",
       "3  1           \n",
       "4  0           \n",
       "\n",
       "                                                                                                                                                             Headline  \n",
       "0  renesas mobile europe ltd approximately 470 employee oulu .                                                                                                         \n",
       "1  earnings per share ( eps ) amount loss eur0 .38 .                                                                                                                   \n",
       "2  11 august 2010 - finnish measure equipment maker vaisala oyj hel : vaias say today net loss widen eur4 .8 first half 2010 eur2 .3 correspond period year earlier .  \n",
       "3  operating profit net sale three-month period increase , respectively eur15 .1 eur131 .5 , compare correspond period 2005 .                                          \n",
       "4  finnair passenger load factor , measure number sell seat share available seat , drop 1.3 percentage point 76.7 % september .                                        "
      ]
     },
     "execution_count": 9,
     "metadata": {},
     "output_type": "execute_result"
    }
   ],
   "source": [
    "# Still looking good\n",
    "df.head()"
   ]
  },
  {
   "cell_type": "markdown",
   "metadata": {},
   "source": [
    "# EDA:"
   ]
  },
  {
   "cell_type": "markdown",
   "metadata": {},
   "source": [
    "Let's explore some word clouds to see the most commonly occurring words for each label."
   ]
  },
  {
   "cell_type": "code",
   "execution_count": 10,
   "metadata": {},
   "outputs": [],
   "source": [
    "# Separating out the categories\n",
    "pos = df.Headline[df.Sentiment[df.Sentiment== 1].index]\n",
    "neg = df.Headline[df.Sentiment[df.Sentiment== 0].index]"
   ]
  },
  {
   "cell_type": "code",
   "execution_count": 11,
   "metadata": {},
   "outputs": [],
   "source": [
    " def wordcloud(dataset):\n",
    "    plt.figure(figsize = (18,24)) # Text Reviews with positive Ratings\n",
    "    wordcloud = WordCloud(min_font_size = 3,  max_words = 2500 , width = 1200 , height = 800).generate(\" \".join(dataset))\n",
    "    plt.imshow(wordcloud,interpolation = 'bilinear')\n",
    "    plt.axis(\"off\")\n",
    "    plt.tight_layout(pad=0)\n",
    "    plt.show();\n",
    "\n",
    "def show_wordclouds():\n",
    "    print ('Positive Sentiment Wordcloud:')\n",
    "    wordcloud(pos)\n",
    "    ###\n",
    "    print ('Negative Sentiment Wordcloud:')\n",
    "    wordcloud(neg)\n",
    "    ###\n",
    "    "
   ]
  },
  {
   "cell_type": "code",
   "execution_count": 12,
   "metadata": {
    "scrolled": true
   },
   "outputs": [],
   "source": [
    "# Showing Word Clounds\n",
    "#show_wordclouds()"
   ]
  },
  {
   "cell_type": "markdown",
   "metadata": {},
   "source": [
    "Not too much useful information here.  There are some more words we can clean, but I would like to stay on the conservative side for now."
   ]
  },
  {
   "cell_type": "markdown",
   "metadata": {},
   "source": [
    "# Additional Cleaning:"
   ]
  },
  {
   "cell_type": "markdown",
   "metadata": {},
   "source": [
    "As we saw above, there are a few words that are quite common that occur in all 3 labels.  We'll add this to these to the stop word list and run the headlines through the filter again:\n",
    "- 'finnish'\n",
    "- 'say'\n",
    "- 'company'\n",
    "I'm leaving in 'eur' for now as it doesn't appear heavily in the 'Neutral' category.  This may help later on.  Depending on how the neural network performs later, I may or may not activate the following cells."
   ]
  },
  {
   "cell_type": "code",
   "execution_count": 13,
   "metadata": {},
   "outputs": [],
   "source": [
    "# Taking out a few more stop words:\n",
    "stop.add(\"finnish\")\n",
    "stop.add(\"say\")\n",
    "stop.add(\"company\")\n",
    "\n",
    "df['Headline'] = df['Headline'].map(remove_stopwords)"
   ]
  },
  {
   "cell_type": "code",
   "execution_count": 14,
   "metadata": {},
   "outputs": [
    {
     "data": {
      "text/html": [
       "<div>\n",
       "<style scoped>\n",
       "    .dataframe tbody tr th:only-of-type {\n",
       "        vertical-align: middle;\n",
       "    }\n",
       "\n",
       "    .dataframe tbody tr th {\n",
       "        vertical-align: top;\n",
       "    }\n",
       "\n",
       "    .dataframe thead th {\n",
       "        text-align: right;\n",
       "    }\n",
       "</style>\n",
       "<table border=\"1\" class=\"dataframe\">\n",
       "  <thead>\n",
       "    <tr style=\"text-align: right;\">\n",
       "      <th></th>\n",
       "      <th>Sentiment</th>\n",
       "      <th>Headline</th>\n",
       "    </tr>\n",
       "  </thead>\n",
       "  <tbody>\n",
       "    <tr>\n",
       "      <td>0</td>\n",
       "      <td>0</td>\n",
       "      <td>renesas mobile europe ltd approximately 470 employee oulu .</td>\n",
       "    </tr>\n",
       "    <tr>\n",
       "      <td>1</td>\n",
       "      <td>0</td>\n",
       "      <td>earnings per share ( eps ) amount loss eur0 .38 .</td>\n",
       "    </tr>\n",
       "    <tr>\n",
       "      <td>2</td>\n",
       "      <td>0</td>\n",
       "      <td>11 august 2010 - measure equipment maker vaisala oyj hel : vaias today net loss widen eur4 .8 first half 2010 eur2 .3 correspond period year earlier .</td>\n",
       "    </tr>\n",
       "    <tr>\n",
       "      <td>3</td>\n",
       "      <td>1</td>\n",
       "      <td>operating profit net sale three-month period increase , respectively eur15 .1 eur131 .5 , compare correspond period 2005 .</td>\n",
       "    </tr>\n",
       "    <tr>\n",
       "      <td>4</td>\n",
       "      <td>0</td>\n",
       "      <td>finnair passenger load factor , measure number sell seat share available seat , drop 1.3 percentage point 76.7 % september .</td>\n",
       "    </tr>\n",
       "  </tbody>\n",
       "</table>\n",
       "</div>"
      ],
      "text/plain": [
       "   Sentiment  \\\n",
       "0  0           \n",
       "1  0           \n",
       "2  0           \n",
       "3  1           \n",
       "4  0           \n",
       "\n",
       "                                                                                                                                                 Headline  \n",
       "0  renesas mobile europe ltd approximately 470 employee oulu .                                                                                             \n",
       "1  earnings per share ( eps ) amount loss eur0 .38 .                                                                                                       \n",
       "2  11 august 2010 - measure equipment maker vaisala oyj hel : vaias today net loss widen eur4 .8 first half 2010 eur2 .3 correspond period year earlier .  \n",
       "3  operating profit net sale three-month period increase , respectively eur15 .1 eur131 .5 , compare correspond period 2005 .                              \n",
       "4  finnair passenger load factor , measure number sell seat share available seat , drop 1.3 percentage point 76.7 % september .                            "
      ]
     },
     "execution_count": 14,
     "metadata": {},
     "output_type": "execute_result"
    }
   ],
   "source": [
    "# Starting to feel a little like caveman speak, but hopefully this will be easier for the model to read!\n",
    "df.head()"
   ]
  },
  {
   "cell_type": "code",
   "execution_count": 15,
   "metadata": {},
   "outputs": [],
   "source": [
    "pos = df.Headline[df.Sentiment[df.Sentiment== 1].index]\n",
    "neg = df.Headline[df.Sentiment[df.Sentiment== 0].index]\n"
   ]
  },
  {
   "cell_type": "code",
   "execution_count": 16,
   "metadata": {
    "scrolled": true
   },
   "outputs": [],
   "source": [
    "# Showing Word Clounds with additional words removed\n",
    "#show_wordclouds()"
   ]
  },
  {
   "cell_type": "markdown",
   "metadata": {},
   "source": [
    "# Counter:"
   ]
  },
  {
   "cell_type": "code",
   "execution_count": 17,
   "metadata": {},
   "outputs": [],
   "source": [
    "def counter_word(text):\n",
    "    count = Counter()\n",
    "    for i in text.values:\n",
    "        for word in i.split():\n",
    "            count[word] += 1\n",
    "    return count"
   ]
  },
  {
   "cell_type": "code",
   "execution_count": 18,
   "metadata": {},
   "outputs": [],
   "source": [
    "text = df.Headline\n",
    "counter = counter_word(text)"
   ]
  },
  {
   "cell_type": "code",
   "execution_count": 19,
   "metadata": {},
   "outputs": [
    {
     "data": {
      "text/plain": [
       "10094"
      ]
     },
     "execution_count": 19,
     "metadata": {},
     "output_type": "execute_result"
    }
   ],
   "source": [
    "len(counter)"
   ]
  },
  {
   "cell_type": "code",
   "execution_count": 20,
   "metadata": {
    "scrolled": true
   },
   "outputs": [
    {
     "data": {
      "text/plain": [
       "Counter({'renesas': 2,\n",
       "         'mobile': 134,\n",
       "         'europe': 43,\n",
       "         'ltd': 46,\n",
       "         'approximately': 69,\n",
       "         '470': 2,\n",
       "         'employee': 84,\n",
       "         'oulu': 13,\n",
       "         '.': 4780,\n",
       "         'earnings': 50,\n",
       "         'per': 129,\n",
       "         'share': 438,\n",
       "         '(': 513,\n",
       "         'eps': 45,\n",
       "         ')': 515,\n",
       "         'amount': 81,\n",
       "         'loss': 160,\n",
       "         'eur0': 60,\n",
       "         '.38': 2,\n",
       "         '11': 24,\n",
       "         'august': 42,\n",
       "         '2010': 238,\n",
       "         '-': 303,\n",
       "         'measure': 41,\n",
       "         'equipment': 83,\n",
       "         'maker': 80,\n",
       "         'vaisala': 18,\n",
       "         'oyj': 241,\n",
       "         'hel': 120,\n",
       "         ':': 363,\n",
       "         'vaias': 3,\n",
       "         'today': 149,\n",
       "         'net': 413,\n",
       "         'widen': 6,\n",
       "         'eur4': 11,\n",
       "         '.8': 23,\n",
       "         'first': 193,\n",
       "         'half': 57,\n",
       "         'eur2': 19,\n",
       "         '.3': 36,\n",
       "         'correspond': 124,\n",
       "         'period': 266,\n",
       "         'year': 323,\n",
       "         'earlier': 83,\n",
       "         'operating': 299,\n",
       "         'profit': 413,\n",
       "         'sale': 501,\n",
       "         'three-month': 7,\n",
       "         'increase': 227,\n",
       "         ',': 4662,\n",
       "         'respectively': 24,\n",
       "         'eur15': 6,\n",
       "         '.1': 22,\n",
       "         'eur131': 1,\n",
       "         '.5': 26,\n",
       "         'compare': 151,\n",
       "         '2005': 104,\n",
       "         'finnair': 30,\n",
       "         'passenger': 25,\n",
       "         'load': 8,\n",
       "         'factor': 8,\n",
       "         'number': 75,\n",
       "         'sell': 91,\n",
       "         'seat': 7,\n",
       "         'available': 40,\n",
       "         'drop': 24,\n",
       "         '1.3': 13,\n",
       "         'percentage': 5,\n",
       "         'point': 29,\n",
       "         '76.7': 1,\n",
       "         '%': 445,\n",
       "         'september': 64,\n",
       "         'uponor': 16,\n",
       "         'maintains': 2,\n",
       "         'full-year': 10,\n",
       "         'guidance': 7,\n",
       "         'aim': 53,\n",
       "         'bridge': 21,\n",
       "         'solution': 172,\n",
       "         'chosen': 9,\n",
       "         'minimize': 1,\n",
       "         'construction': 109,\n",
       "         'time': 57,\n",
       "         'ensure': 13,\n",
       "         'traffic': 31,\n",
       "         'beneath': 1,\n",
       "         'saimaa': 1,\n",
       "         'canal': 2,\n",
       "         'continue': 62,\n",
       "         'undisturbed': 1,\n",
       "         'october-december': 1,\n",
       "         '302': 3,\n",
       "         'mln': 287,\n",
       "         'eur': 1015,\n",
       "         '25.3': 1,\n",
       "         'pct': 99,\n",
       "         'high': 65,\n",
       "         'growth': 65,\n",
       "         'would': 92,\n",
       "         'china': 51,\n",
       "         'weaken': 3,\n",
       "         'demand': 35,\n",
       "         'north': 34,\n",
       "         'america': 33,\n",
       "         'upm': 19,\n",
       "         'overall': 13,\n",
       "         '50': 23,\n",
       "         'percent': 123,\n",
       "         'respondent': 2,\n",
       "         'confident': 2,\n",
       "         'security': 42,\n",
       "         'banking': 15,\n",
       "         'online': 26,\n",
       "         'reduction': 28,\n",
       "         'conclude': 8,\n",
       "         'autumn': 13,\n",
       "         '``': 254,\n",
       "         'lemminkainen': 16,\n",
       "         'talo': 2,\n",
       "         'oy': 97,\n",
       "         'lahti': 4,\n",
       "         'office': 65,\n",
       "         'significant': 39,\n",
       "         'logistics': 26,\n",
       "         'business': 285,\n",
       "         'premise': 10,\n",
       "         'constructor': 2,\n",
       "         'individual': 7,\n",
       "         'promotion': 2,\n",
       "         'also': 224,\n",
       "         'generate': 29,\n",
       "         'slightly': 18,\n",
       "         'higher-than-expected': 1,\n",
       "         'revenue': 64,\n",
       "         'ponsse': 11,\n",
       "         'sign': 81,\n",
       "         'agreement': 124,\n",
       "         'babcock': 1,\n",
       "         'africa': 12,\n",
       "         'distribution': 41,\n",
       "         'support': 52,\n",
       "         'forest': 32,\n",
       "         'machine': 36,\n",
       "         'harvester': 4,\n",
       "         'head': 31,\n",
       "         'information': 59,\n",
       "         'system': 140,\n",
       "         'south': 18,\n",
       "         'alma': 33,\n",
       "         'medium': 77,\n",
       "         'corporation': 130,\n",
       "         'press': 33,\n",
       "         'release': 67,\n",
       "         '15': 37,\n",
       "         'march': 53,\n",
       "         'tyrvaan': 4,\n",
       "         'sanomat': 9,\n",
       "         'paikallissanomat': 7,\n",
       "         'bought': 20,\n",
       "         'suomen': 15,\n",
       "         'two': 85,\n",
       "         'local': 41,\n",
       "         'paper': 96,\n",
       "         'appear': 6,\n",
       "         'sastamala': 2,\n",
       "         'neighbour': 1,\n",
       "         'municipality': 7,\n",
       "         'present': 21,\n",
       "         'hold': 50,\n",
       "         'kone': 21,\n",
       "         'list': 30,\n",
       "         'nordic': 53,\n",
       "         'exchange': 70,\n",
       "         'helsinki': 163,\n",
       "         'eur13': 8,\n",
       "         'acquisition': 79,\n",
       "         '+_landsbanken': 2,\n",
       "         'sverige': 4,\n",
       "         '2009': 297,\n",
       "         'burden': 3,\n",
       "         'performance': 33,\n",
       "         '3.0': 7,\n",
       "         'mn': 515,\n",
       "         'certification': 5,\n",
       "         'voluntary': 1,\n",
       "         'promote': 5,\n",
       "         'sustainable': 11,\n",
       "         'management': 88,\n",
       "         'commercial': 27,\n",
       "         'group': 327,\n",
       "         '80': 19,\n",
       "         'million': 441,\n",
       "         'account': 27,\n",
       "         'export': 26,\n",
       "         'network': 98,\n",
       "         'test': 24,\n",
       "         'part': 99,\n",
       "         'elektrobit': 5,\n",
       "         'automation': 19,\n",
       "         'segment': 30,\n",
       "         'employ': 36,\n",
       "         '39': 4,\n",
       "         'people': 67,\n",
       "         'finland': 337,\n",
       "         '22': 23,\n",
       "         'abroad': 9,\n",
       "         'mainly': 18,\n",
       "         'u': 50,\n",
       "         'asia': 18,\n",
       "         'strong': 37,\n",
       "         'asset': 32,\n",
       "         'electronic': 22,\n",
       "         '18,500': 1,\n",
       "         '9': 23,\n",
       "         'last': 83,\n",
       "         '71': 2,\n",
       "         'paperboard': 3,\n",
       "         'reclaim': 1,\n",
       "         'total': 250,\n",
       "         '5.5': 8,\n",
       "         '-0.7': 1,\n",
       "         'deal': 79,\n",
       "         'cover': 54,\n",
       "         'stockmann': 28,\n",
       "         'auto': 2,\n",
       "         'ab': 29,\n",
       "         'after-sales': 2,\n",
       "         'service': 341,\n",
       "         'concern': 31,\n",
       "         'volkswagen': 2,\n",
       "         'audi': 2,\n",
       "         'espoo': 20,\n",
       "         'vantaa': 12,\n",
       "         'filter': 8,\n",
       "         'tip': 5,\n",
       "         'volume': 45,\n",
       "         'range': 40,\n",
       "         '0.1-1200': 1,\n",
       "         '-ðl': 2,\n",
       "         'include': 196,\n",
       "         'new': 269,\n",
       "         'size': 15,\n",
       "         '10': 71,\n",
       "         '20': 58,\n",
       "         '100-120': 1,\n",
       "         '200': 15,\n",
       "         '300': 3,\n",
       "         '1000': 1,\n",
       "         '1200': 1,\n",
       "         'capacity': 52,\n",
       "         '(thomson': 1,\n",
       "         'financial)-': 1,\n",
       "         'kemira': 29,\n",
       "         'growhow': 2,\n",
       "         'swung': 8,\n",
       "         'quarter': 242,\n",
       "         'improve': 45,\n",
       "         'especially': 13,\n",
       "         'fertilizer': 3,\n",
       "         'normally': 3,\n",
       "         'transaction': 60,\n",
       "         'subject': 9,\n",
       "         'final': 10,\n",
       "         'party': 17,\n",
       "         'approval': 17,\n",
       "         'decision-making': 4,\n",
       "         'body': 8,\n",
       "         'competition': 17,\n",
       "         'authority': 17,\n",
       "         \"'re\": 10,\n",
       "         'alone': 4,\n",
       "         'wartsila': 11,\n",
       "         'contract': 177,\n",
       "         'october': 58,\n",
       "         '2007': 243,\n",
       "         'plant': 148,\n",
       "         'instal': 9,\n",
       "         'manturovo': 1,\n",
       "         'kostroma': 2,\n",
       "         'region': 38,\n",
       "         'russia': 85,\n",
       "         '600': 4,\n",
       "         'km': 6,\n",
       "         'northeast': 1,\n",
       "         'moscow': 16,\n",
       "         'biohit': 16,\n",
       "         'develops': 8,\n",
       "         'manufacture': 36,\n",
       "         'market': 288,\n",
       "         'liquid': 14,\n",
       "         'handle': 41,\n",
       "         'product': 187,\n",
       "         'diagnostic': 5,\n",
       "         'use': 118,\n",
       "         'research': 29,\n",
       "         'healthcare': 7,\n",
       "         'industrial': 47,\n",
       "         'laboratory': 10,\n",
       "         'term': 40,\n",
       "         'remain': 49,\n",
       "         'undisclosed': 10,\n",
       "         'votorantim': 2,\n",
       "         'celulose': 1,\n",
       "         'e': 6,\n",
       "         'papel': 1,\n",
       "         'vcp': 1,\n",
       "         'major': 34,\n",
       "         'brazilian': 6,\n",
       "         'conglomerate': 1,\n",
       "         'swedish': 45,\n",
       "         'sector': 59,\n",
       "         'lindex': 5,\n",
       "         'enter': 24,\n",
       "         '30': 51,\n",
       "         'whereby': 7,\n",
       "         'wholly-owned': 2,\n",
       "         'subsidiary': 62,\n",
       "         'make': 125,\n",
       "         'public': 24,\n",
       "         'tender': 7,\n",
       "         'offer': 65,\n",
       "         'issue': 72,\n",
       "         'accord': 123,\n",
       "         'pietinalho': 1,\n",
       "         'doctor': 2,\n",
       "         'motivate': 1,\n",
       "         'patient': 9,\n",
       "         'smoke': 1,\n",
       "         'every': 9,\n",
       "         'visit': 5,\n",
       "         'outokumpu': 22,\n",
       "         'stainless': 14,\n",
       "         'steel': 56,\n",
       "         'manufacturer': 60,\n",
       "         'plan': 89,\n",
       "         'supply': 68,\n",
       "         'indian': 15,\n",
       "         'railway': 8,\n",
       "         'e7': 2,\n",
       "         'smartphone': 8,\n",
       "         'rs35': 1,\n",
       "         ',000': 19,\n",
       "         'handset': 28,\n",
       "         'across': 12,\n",
       "         'india': 22,\n",
       "         \"''\": 217,\n",
       "         'nokia': 139,\n",
       "         'vice-president': 1,\n",
       "         '&': 78,\n",
       "         'manage': 42,\n",
       "         'director': 80,\n",
       "         'shivakumar': 1,\n",
       "         'told': 17,\n",
       "         'reporter': 5,\n",
       "         'six-month': 8,\n",
       "         'eur7': 5,\n",
       "         'eur655': 1,\n",
       "         'incorporates': 1,\n",
       "         'convergent': 5,\n",
       "         'charge': 24,\n",
       "         'rating': 13,\n",
       "         'voice': 13,\n",
       "         'data': 67,\n",
       "         'internet': 30,\n",
       "         'gprs': 2,\n",
       "         'sm': 1,\n",
       "         'mm': 2,\n",
       "         'wap': 1,\n",
       "         'action': 11,\n",
       "         'cut': 45,\n",
       "         'expensive': 2,\n",
       "         'weekend': 1,\n",
       "         'shift': 5,\n",
       "         'freeze': 1,\n",
       "         'production': 130,\n",
       "         'bonus': 1,\n",
       "         'general': 37,\n",
       "         'cost-cutting': 3,\n",
       "         'program': 43,\n",
       "         'income': 26,\n",
       "         'life': 22,\n",
       "         'insurance': 33,\n",
       "         'rise': 122,\n",
       "         '16.5': 4,\n",
       "         '14.0': 2,\n",
       "         'non-life': 6,\n",
       "         '22.6': 2,\n",
       "         '15.2': 2,\n",
       "         'cost': 66,\n",
       "         'could': 10,\n",
       "         '70': 12,\n",
       "         '90': 10,\n",
       "         'euro': 226,\n",
       "         'depend': 5,\n",
       "         'financial': 133,\n",
       "         'result': 122,\n",
       "         '2008': 283,\n",
       "         'statement': 27,\n",
       "         'order': 150,\n",
       "         'high-power': 1,\n",
       "         'drive': 20,\n",
       "         'control': 44,\n",
       "         'seismic': 1,\n",
       "         'compressor': 1,\n",
       "         'pulp': 30,\n",
       "         'machinery': 46,\n",
       "         'vaahto': 19,\n",
       "         '1.1': 13,\n",
       "         '$': 215,\n",
       "         '1.4': 8,\n",
       "         'fiscal': 19,\n",
       "         '2005-06': 3,\n",
       "         'end': 91,\n",
       "         '31': 22,\n",
       "         '2006': 173,\n",
       "         '249,000': 1,\n",
       "         '319,000': 1,\n",
       "         '2004-05': 2,\n",
       "         'serve': 24,\n",
       "         'customer': 139,\n",
       "         'locally': 4,\n",
       "         'one': 93,\n",
       "         'cornerstone': 1,\n",
       "         'focus': 45,\n",
       "         'raisio': 19,\n",
       "         'site': 34,\n",
       "         'main': 27,\n",
       "         'well': 116,\n",
       "         'headquarters': 8,\n",
       "         'seller': 7,\n",
       "         'eos': 1,\n",
       "         'innovationsmanagement': 1,\n",
       "         'private': 19,\n",
       "         'ramirent': 19,\n",
       "         'lead': 62,\n",
       "         'rental': 29,\n",
       "         'industry': 104,\n",
       "         'mr': 18,\n",
       "         'walden': 1,\n",
       "         'ignatius': 1,\n",
       "         'responsible': 19,\n",
       "         'newspaper': 19,\n",
       "         \"'\": 116,\n",
       "         'lidskoe': 2,\n",
       "         'pivo': 2,\n",
       "         'investment': 134,\n",
       "         'foresees': 2,\n",
       "         'integrate': 13,\n",
       "         'modernization': 2,\n",
       "         'update': 11,\n",
       "         'transport': 15,\n",
       "         'infrastructure': 27,\n",
       "         'develop': 38,\n",
       "         'marketing': 29,\n",
       "         'instrument': 7,\n",
       "         'mikshis': 1,\n",
       "         'okmetic': 24,\n",
       "         'global': 69,\n",
       "         'base': 87,\n",
       "         'japan': 16,\n",
       "         'praise': 2,\n",
       "         'reliability': 2,\n",
       "         'finnishness': 1,\n",
       "         'understand': 9,\n",
       "         'target': 57,\n",
       "         'adjust': 8,\n",
       "         'change': 47,\n",
       "         'structure': 40,\n",
       "         'division': 45,\n",
       "         '1.7': 10,\n",
       "         'line': 83,\n",
       "         'complete': 58,\n",
       "         'hormone': 1,\n",
       "         'treatment': 17,\n",
       "         'poyry': 28,\n",
       "         '720': 1,\n",
       "         '7400': 1,\n",
       "         'expert': 8,\n",
       "         'eur5m': 4,\n",
       "         'news': 67,\n",
       "         '-_': 5,\n",
       "         '1995-2006': 1,\n",
       "         'm2': 9,\n",
       "         'communication': 56,\n",
       "         'protect': 2,\n",
       "         'user': 28,\n",
       "         'barclays': 5,\n",
       "         'bank': 144,\n",
       "         'announce': 74,\n",
       "         'recommend': 1,\n",
       "         'f-secure': 15,\n",
       "         'provider': 51,\n",
       "         'affecto': 13,\n",
       "         'frame': 8,\n",
       "         'value': 112,\n",
       "         'eur2m': 4,\n",
       "         'implement': 20,\n",
       "         'next': 35,\n",
       "         'phase': 17,\n",
       "         'application': 57,\n",
       "         'african': 2,\n",
       "         'mutual': 3,\n",
       "         'federal': 7,\n",
       "         'limited': 9,\n",
       "         'm&f': 1,\n",
       "         'race': 1,\n",
       "         'google': 7,\n",
       "         'get': 17,\n",
       "         'lot': 6,\n",
       "         'onto': 3,\n",
       "         'social': 15,\n",
       "         'networking': 8,\n",
       "         'creates': 4,\n",
       "         'model': 29,\n",
       "         'martin': 3,\n",
       "         'garner': 1,\n",
       "         'london-based': 1,\n",
       "         'analyst': 30,\n",
       "         'cc': 2,\n",
       "         'insight': 4,\n",
       "         'alexandria': 18,\n",
       "         'va.': 18,\n",
       "         'nov.': 2,\n",
       "         '5': 47,\n",
       "         '--': 64,\n",
       "         'risto': 5,\n",
       "         'kontturi': 1,\n",
       "         'rajamaki': 1,\n",
       "         'jari': 2,\n",
       "         'ylinen': 1,\n",
       "         'hyvinkaa': 1,\n",
       "         'developed': 41,\n",
       "         'automate': 3,\n",
       "         'transportation': 15,\n",
       "         'user-controlled': 1,\n",
       "         'selection': 8,\n",
       "         'follow': 50,\n",
       "         'move': 32,\n",
       "         'stora': 42,\n",
       "         'enso': 39,\n",
       "         'newpage': 4,\n",
       "         'unchanged': 6,\n",
       "         'launch': 45,\n",
       "         'june': 36,\n",
       "         'go': 47,\n",
       "         'produce': 41,\n",
       "         'advanced': 9,\n",
       "         'fuel': 17,\n",
       "         'couple': 6,\n",
       "         'week': 31,\n",
       "         'addition': 40,\n",
       "         '29': 21,\n",
       "         'laid': 10,\n",
       "         'notice': 8,\n",
       "         'whole': 28,\n",
       "         'workforce': 4,\n",
       "         'short': 8,\n",
       "         'need': 30,\n",
       "         'raute': 18,\n",
       "         'precision': 4,\n",
       "         'weigh': 1,\n",
       "         'dose': 3,\n",
       "         'name': 28,\n",
       "         'stood': 14,\n",
       "         '150': 11,\n",
       "         'set': 36,\n",
       "         'facility': 70,\n",
       "         'manufacturing': 58,\n",
       "         'high-density': 1,\n",
       "         'interconnection': 2,\n",
       "         'print': 12,\n",
       "         'circuit': 12,\n",
       "         'board': 97,\n",
       "         'pcbs': 3,\n",
       "         'special': 13,\n",
       "         'economic': 15,\n",
       "         'zone': 7,\n",
       "         'sriperumbudur': 3,\n",
       "         'near': 16,\n",
       "         'chennai': 4,\n",
       "         'government': 23,\n",
       "         'wednesday': 26,\n",
       "         '32': 6,\n",
       "         'stake': 62,\n",
       "         'chemical': 23,\n",
       "         'x20ac': 20,\n",
       "         '655.6': 1,\n",
       "         '890us': 1,\n",
       "         'send': 10,\n",
       "         'price': 111,\n",
       "         '6': 28,\n",
       "         'negative': 18,\n",
       "         'territory': 6,\n",
       "         'r': 5,\n",
       "         'shed': 3,\n",
       "         '1.62': 1,\n",
       "         '12.73': 2,\n",
       "         'upm-kymmene': 20,\n",
       "         '0.80': 1,\n",
       "         '18.64': 1,\n",
       "         'm-real': 30,\n",
       "         'b': 17,\n",
       "         '0.18': 1,\n",
       "         'low': 59,\n",
       "         '5.57': 1,\n",
       "         'eur58m': 1,\n",
       "         'eur29m': 1,\n",
       "         'cargotec': 28,\n",
       "         'area': 96,\n",
       "         'container': 11,\n",
       "         'kalmar': 8,\n",
       "         'marine': 9,\n",
       "         'cargo': 20,\n",
       "         'offshore': 8,\n",
       "         'macgregor': 7,\n",
       "         'class': 6,\n",
       "         'remains': 3,\n",
       "         '9,526,089': 1,\n",
       "         '39.9': 1,\n",
       "         '18.0': 1,\n",
       "         'eur12': 4,\n",
       "         'u.s.': 28,\n",
       "         'district': 11,\n",
       "         'judge': 2,\n",
       "         'douglas': 2,\n",
       "         'p.': 2,\n",
       "         'woodlock': 1,\n",
       "         'yesterday': 25,\n",
       "         'extend': 12,\n",
       "         'jan.': 8,\n",
       "         '17': 22,\n",
       "         'temporary': 20,\n",
       "         'restrain': 1,\n",
       "         '7': 29,\n",
       "         'takoma': 1,\n",
       "         'carry': 31,\n",
       "         'acquire': 73,\n",
       "         'entire': 20,\n",
       "         'capital': 111,\n",
       "         'moventas': 1,\n",
       "         'parkano': 2,\n",
       "         'run': 15,\n",
       "         'factory': 21,\n",
       "         'southern': 13,\n",
       "         'pleased': 14,\n",
       "         'work': 69,\n",
       "         'fujitsu': 4,\n",
       "         'ntt': 2,\n",
       "         'docomo': 1,\n",
       "         'advance': 2,\n",
       "         'progress': 4,\n",
       "         'lte': 6,\n",
       "         'juergen': 1,\n",
       "         'walter': 2,\n",
       "         'converge': 1,\n",
       "         'core': 16,\n",
       "         'siemens': 19,\n",
       "         'however': 58,\n",
       "         'decline': 21,\n",
       "         '803.6': 1,\n",
       "         '1.2': 16,\n",
       "         'billion': 65,\n",
       "         'mw': 10,\n",
       "         'power': 47,\n",
       "         'project': 124,\n",
       "         'papua': 2,\n",
       "         'guinea': 1,\n",
       "         '12': 28,\n",
       "         'engine': 11,\n",
       "         'type': 16,\n",
       "         'lihir': 2,\n",
       "         'gold': 3,\n",
       "         'kershaw': 1,\n",
       "         'take': 62,\n",
       "         'position': 46,\n",
       "         'immediate': 6,\n",
       "         'effect': 23,\n",
       "         'previous': 28,\n",
       "         'role': 9,\n",
       "         'manager': 26,\n",
       "         'sankey': 1,\n",
       "         'home': 25,\n",
       "         'garden': 8,\n",
       "         'sanoma': 28,\n",
       "         'magazine': 24,\n",
       "         'estimate': 84,\n",
       "         'grow': 63,\n",
       "         'solid': 5,\n",
       "         'heat': 10,\n",
       "         'sludge': 2,\n",
       "         'mixed': 6,\n",
       "         'therein': 1,\n",
       "         'remote': 4,\n",
       "         'radio': 10,\n",
       "         'module': 7,\n",
       "         '4w': 1,\n",
       "         '2.5': 12,\n",
       "         'ghz': 2,\n",
       "         '3.5': 15,\n",
       "         'tdd': 1,\n",
       "         'frequency': 6,\n",
       "         'band': 5,\n",
       "         '1': 64,\n",
       "         'block': 9,\n",
       "         'lamp': 1,\n",
       "         'harri': 4,\n",
       "         'koskinen': 2,\n",
       "         'light': 13,\n",
       "         'introduce': 14,\n",
       "         '1996': 2,\n",
       "         'bestseller': 2,\n",
       "         'ever': 3,\n",
       "         'since': 38,\n",
       "         'pretax': 30,\n",
       "         '36': 10,\n",
       "         '27': 21,\n",
       "         'delight': 2,\n",
       "         'suitable': 6,\n",
       "         'wide': 10,\n",
       "         'food': 46,\n",
       "         'cosmetic': 3,\n",
       "         'decoration': 4,\n",
       "         'leisure': 3,\n",
       "         '2.9': 3,\n",
       "         '10.5': 2,\n",
       "         'maintain': 5,\n",
       "         'trend': 11,\n",
       "         'profitability': 11,\n",
       "         'current': 32,\n",
       "         'annual': 69,\n",
       "         '134': 2,\n",
       "         'nationwide': 3,\n",
       "         '83': 1,\n",
       "         'outlet': 6,\n",
       "         '612': 1,\n",
       "         'addus': 1,\n",
       "         'personal': 12,\n",
       "         'care': 6,\n",
       "         'assistance': 1,\n",
       "         'activity': 36,\n",
       "         'daily': 16,\n",
       "         'living': 2,\n",
       "         'skilled': 1,\n",
       "         'nursing': 1,\n",
       "         'rehabilitative': 1,\n",
       "         'therapy': 3,\n",
       "         'adult': 1,\n",
       "         'day': 37,\n",
       "         'ideally': 1,\n",
       "         'place': 41,\n",
       "         'tap': 4,\n",
       "         'potential': 14,\n",
       "         'clean': 5,\n",
       "         'technology': 145,\n",
       "         'proposal': 12,\n",
       "         'issuance': 2,\n",
       "         'option': 60,\n",
       "         'right': 68,\n",
       "         'otherwise': 5,\n",
       "         'meeting': 36,\n",
       "         'expect': 133,\n",
       "         '950mn-1': 1,\n",
       "         'publishing': 5,\n",
       "         'printing': 19,\n",
       "         'ilkka-yhtym+æ': 1,\n",
       "         'staff': 32,\n",
       "         'smoking': 4,\n",
       "         'ban': 3,\n",
       "         'begin': 30,\n",
       "         'three': 37,\n",
       "         'heikkil+æ': 1,\n",
       "         'refreshment': 1,\n",
       "         'energy': 51,\n",
       "         'soon': 7,\n",
       "         'found': 21,\n",
       "         'soft': 5,\n",
       "         'drink': 10,\n",
       "         'headquarter': 33,\n",
       "         'sievi': 4,\n",
       "         'q1': 12,\n",
       "         '18': 28,\n",
       "         'may': 61,\n",
       "         'electrical': 11,\n",
       "         'component': 20,\n",
       "         'salcomp': 14,\n",
       "         'sal1v': 4,\n",
       "         'turn': 19,\n",
       "         'eur1': 28,\n",
       "         '.6': 27,\n",
       "         'versus': 21,\n",
       "         'currently': 36,\n",
       "         'us': 8,\n",
       "         'eight': 8,\n",
       "         'similar': 11,\n",
       "         'reach': 27,\n",
       "         'stacker': 3,\n",
       "         'four': 29,\n",
       "         'empty': 1,\n",
       "         'handler': 2,\n",
       "         'konecranes': 22,\n",
       "         'master': 5,\n",
       "         'mayawas': 1,\n",
       "         'jointly': 5,\n",
       "         'ufa': 1,\n",
       "         'fremantlemedia': 1,\n",
       "         'actively': 3,\n",
       "         'advertised': 1,\n",
       "         'maxi': 2,\n",
       "         'partnership': 13,\n",
       "         'paulig': 1,\n",
       "         'danish': 10,\n",
       "         'oscar': 1,\n",
       "         'puljonki': 1,\n",
       "         'organization': 20,\n",
       "         'european': 28,\n",
       "         'signing': 6,\n",
       "         'aspo': 30,\n",
       "         'revolve': 4,\n",
       "         'credit': 33,\n",
       "         'replaces': 1,\n",
       "         'formerly': 2,\n",
       "         'valid': 2,\n",
       "         'cohen': 2,\n",
       "         'steer': 2,\n",
       "         'inc.': 29,\n",
       "         '534': 2,\n",
       "         '626': 1,\n",
       "         'represent': 32,\n",
       "         '4.985': 2,\n",
       "         'voting': 31,\n",
       "         'january-november': 1,\n",
       "         '7,801.7': 1,\n",
       "         '12.6': 2,\n",
       "         'privacy': 4,\n",
       "         'software': 75,\n",
       "         'developer': 34,\n",
       "         'stonesoft': 10,\n",
       "         'january': 55,\n",
       "         'preliminary': 11,\n",
       "         'stonegate': 5,\n",
       "         '59': 4,\n",
       "         'year-on-year': 34,\n",
       "         '3.6': 8,\n",
       "         '5.3': 5,\n",
       "         'fourth': 31,\n",
       "         'adpnews': 12,\n",
       "         'dec': 6,\n",
       "         'cutlery': 3,\n",
       "         'hand': 11,\n",
       "         'tool': 24,\n",
       "         'fiskars': 34,\n",
       "         'abp': 10,\n",
       "         'fisa': 3,\n",
       "         'redundant': 6,\n",
       "         'member': 42,\n",
       "         'iittala': 3,\n",
       "         'ltd.': 17,\n",
       "         'headboxes': 3,\n",
       "         'equip': 8,\n",
       "         'modern': 10,\n",
       "         'consistency': 3,\n",
       "         'cross': 6,\n",
       "         'profile': 17,\n",
       "         'plasterboard': 2,\n",
       "         'receive': 39,\n",
       "         'lesprom': 2,\n",
       "         '2003': 10,\n",
       "         'emphasis': 2,\n",
       "         'kyro': 7,\n",
       "         'strategy': 38,\n",
       "         'glaston': 24,\n",
       "         'subscription': 33,\n",
       "         'expire': 3,\n",
       "         '120': 6,\n",
       "         'building': 96,\n",
       "         'technical': 16,\n",
       "         'ethanol': 3,\n",
       "         'operate': 14,\n",
       "         'correlation': 2,\n",
       "         'waste': 12,\n",
       "         'unit': 135,\n",
       "         'mill': 47,\n",
       "         'jussi': 5,\n",
       "         'pesonen': 2,\n",
       "         'sampo': 29,\n",
       "         'renounce': 1,\n",
       "         'operational': 18,\n",
       "         'enable': 31,\n",
       "         'additional': 16,\n",
       "         'optimisation': 1,\n",
       "         'hour': 6,\n",
       "         'thereby': 2,\n",
       "         'saving': 29,\n",
       "         '-9': 1,\n",
       "         'equity': 18,\n",
       "         'investor': 43,\n",
       "         'capman': 38,\n",
       "         'owner': 26,\n",
       "         'lumene': 2,\n",
       "         'planning': 22,\n",
       "         'among': 14,\n",
       "         'trade': 44,\n",
       "         'close': 46,\n",
       "         '0.33': 5,\n",
       "         '12.11': 1,\n",
       "         '0.28': 2,\n",
       "         '18.10': 1,\n",
       "         'metso': 30,\n",
       "         '0.13': 1,\n",
       "         '31.06': 1,\n",
       "         'decision': 24,\n",
       "         'exist': 25,\n",
       "         'treasury': 2,\n",
       "         'ya': 1,\n",
       "         'yet': 7,\n",
       "         'a-rehu': 1,\n",
       "         'jouko': 2,\n",
       "         'lahtinen': 2,\n",
       "         'stabilise': 3,\n",
       "         '4': 39,\n",
       "         'fully': 15,\n",
       "         'underground': 8,\n",
       "         'comprise': 16,\n",
       "         'station': 18,\n",
       "         'execute': 5,\n",
       "         'implementation': 10,\n",
       "         'stage': 11,\n",
       "         'h+_kan': 1,\n",
       "         'dahlstr+¦m': 1,\n",
       "         'mobility': 8,\n",
       "         'teliasonera': 29,\n",
       "         'forecast': 22,\n",
       "         'sweden': 45,\n",
       "         'eight-fold': 1,\n",
       "         '200,000': 5,\n",
       "         'tb': 2,\n",
       "         '2014': 2,\n",
       "         'guess': 1,\n",
       "         'push': 6,\n",
       "         'back': 17,\n",
       "         'maybe': 1,\n",
       "         'crazy': 1,\n",
       "         'feel': 4,\n",
       "         'like': 13,\n",
       "         \"n't\": 8,\n",
       "         'leak': 2,\n",
       "         'enough': 6,\n",
       "         'meet': 9,\n",
       "         'date': 20,\n",
       "         'record': 30,\n",
       "         'e658': 1,\n",
       "         'december': 31,\n",
       "         '23': 22,\n",
       "         'metsaliitto': 7,\n",
       "         'due': 39,\n",
       "         'second-quarter': 6,\n",
       "         'report': 143,\n",
       "         'around': 39,\n",
       "         '12:00': 2,\n",
       "         'eet': 9,\n",
       "         'technopolis': 17,\n",
       "         '130': 6,\n",
       "         'jyvaskyla': 12,\n",
       "         'lehdentekijat': 2,\n",
       "         'start': 99,\n",
       "         'membership': 2,\n",
       "         'viisas': 1,\n",
       "         'raha': 1,\n",
       "         'wise': 1,\n",
       "         'money': 10,\n",
       "         'association': 12,\n",
       "         'july-september': 6,\n",
       "         'yit': 37,\n",
       "         '970.8': 1,\n",
       "         '906.8': 1,\n",
       "         'five': 18,\n",
       "         'ten': 14,\n",
       "         'thank': 1,\n",
       "         'jarmo': 7,\n",
       "         'ukonaho': 2,\n",
       "         'warmly': 4,\n",
       "         'contribution': 4,\n",
       "         'wish': 3,\n",
       "         'best': 17,\n",
       "         'future': 30,\n",
       "         'challenge': 11,\n",
       "         'welcome': 12,\n",
       "         'tieto': 10,\n",
       "         '64,046,460': 1,\n",
       "         '.29': 1,\n",
       "         '.40': 1,\n",
       "         'ago': 23,\n",
       "         'layoff': 9,\n",
       "         'per-share': 2,\n",
       "         'subscribed': 19,\n",
       "         '1.35': 5,\n",
       "         '879.7': 1,\n",
       "         '673.4': 1,\n",
       "         'april': 44,\n",
       "         '28': 19,\n",
       "         ...})"
      ]
     },
     "execution_count": 20,
     "metadata": {},
     "output_type": "execute_result"
    }
   ],
   "source": [
    "counter"
   ]
  },
  {
   "cell_type": "code",
   "execution_count": 21,
   "metadata": {},
   "outputs": [],
   "source": [
    "num_words = len(counter)"
   ]
  },
  {
   "cell_type": "markdown",
   "metadata": {},
   "source": [
    "# Train/Test Split:"
   ]
  },
  {
   "cell_type": "code",
   "execution_count": 22,
   "metadata": {},
   "outputs": [],
   "source": [
    "# Generating the lists of headlines and labels\n",
    "headlines = []\n",
    "labels = []\n",
    "\n",
    "for row in range(len(df)):\n",
    "    headlines.append(df['Headline'][row])\n",
    "    labels.append(df['Sentiment'][row])"
   ]
  },
  {
   "cell_type": "code",
   "execution_count": 23,
   "metadata": {},
   "outputs": [],
   "source": [
    "# Setting the training ratio\n",
    "training_size = int(df.shape[0] * .8) # Out of 4846"
   ]
  },
  {
   "cell_type": "code",
   "execution_count": 24,
   "metadata": {},
   "outputs": [],
   "source": [
    "# Train Test Split:\n",
    "training_headlines = headlines[0:training_size]\n",
    "testing_headlines = headlines[training_size:]\n",
    "training_labels = labels[0:training_size]\n",
    "testing_labels = labels[training_size:]"
   ]
  },
  {
   "cell_type": "code",
   "execution_count": 25,
   "metadata": {},
   "outputs": [
    {
     "data": {
      "text/plain": [
       "['renesas mobile europe ltd approximately 470 employee oulu .',\n",
       " 'earnings per share ( eps ) amount loss eur0 .38 .',\n",
       " '11 august 2010 - measure equipment maker vaisala oyj hel : vaias today net loss widen eur4 .8 first half 2010 eur2 .3 correspond period year earlier .']"
      ]
     },
     "metadata": {},
     "output_type": "display_data"
    },
    {
     "data": {
      "text/plain": [
       "[0, 0, 0]"
      ]
     },
     "metadata": {},
     "output_type": "display_data"
    }
   ],
   "source": [
    "# Looks good\n",
    "display(training_headlines[:3])\n",
    "display(training_labels[:3])"
   ]
  },
  {
   "cell_type": "markdown",
   "metadata": {},
   "source": [
    "# Tokenization:"
   ]
  },
  {
   "cell_type": "code",
   "execution_count": 26,
   "metadata": {},
   "outputs": [],
   "source": [
    "vocab_size = len(counter) # approx 1/5 of the words \n",
    "embedding_dim = 32\n",
    "max_length = 50\n",
    "trunc_type='post'\n",
    "padding_type='post'\n",
    "oov_tok = \"<OOV>\""
   ]
  },
  {
   "cell_type": "code",
   "execution_count": 27,
   "metadata": {},
   "outputs": [],
   "source": [
    "\n",
    "# Initializing the fitting the tokenizer:\n",
    "tokenizer = Tokenizer(num_words = vocab_size, oov_token = oov_tok)\n",
    "tokenizer.fit_on_texts(training_headlines)\n",
    "# Initializing the Word Index:\n",
    "word_index = tokenizer.word_index\n",
    "# Padding and Sequencing the Training Set:\n",
    "training_sequences = tokenizer.texts_to_sequences(training_headlines)\n",
    "training_padded = pad_sequences(training_sequences, maxlen = max_length,\n",
    "                               padding = padding_type, \n",
    "                               truncating = trunc_type)\n",
    "# Padding and Sequencing the Testing Set:\n",
    "testing_sequences = tokenizer.texts_to_sequences(testing_headlines)\n",
    "testing_padded = pad_sequences(testing_sequences, maxlen = max_length, \n",
    "                               padding = padding_type, \n",
    "                               truncating = trunc_type)\n"
   ]
  },
  {
   "cell_type": "code",
   "execution_count": 28,
   "metadata": {},
   "outputs": [],
   "source": [
    "# Switch to Numpy Array\n",
    "training_padded = np.array(training_padded)\n",
    "training_labels = np.array(training_labels)\n",
    "testing_padded = np.array(testing_padded)\n",
    "testing_labels = np.array(testing_labels)"
   ]
  },
  {
   "cell_type": "code",
   "execution_count": 29,
   "metadata": {},
   "outputs": [
    {
     "name": "stdout",
     "output_type": "stream",
     "text": [
      "Padded and Tokenized Headline:\n",
      " [  18   10    9    4  210   83   26   33  583 1213    5 3734   12   53\n",
      "   71   26   90    0    0    0    0    0    0    0    0    0    0    0\n",
      "    0    0    0    0    0    0    0    0    0    0    0    0    0    0\n",
      "    0    0    0    0    0    0    0    0]\n",
      "\n",
      "The actual headline:\n",
      " operating profit net sale three-month period increase , respectively eur15 .1 eur131 .5 , compare correspond period 2005 .\n",
      "\n",
      "Label:\n",
      " 1\n"
     ]
    }
   ],
   "source": [
    "# Example of what's happening under the hood:\n",
    "print ('Padded and Tokenized Headline:\\n', training_padded[3])\n",
    "print ('\\nThe actual headline:\\n', df.Headline[3])\n",
    "print ('\\nLabel:\\n', training_labels[3])"
   ]
  },
  {
   "cell_type": "markdown",
   "metadata": {},
   "source": [
    "## Taking a Look at Inputs:"
   ]
  },
  {
   "cell_type": "code",
   "execution_count": 30,
   "metadata": {},
   "outputs": [
    {
     "data": {
      "text/plain": [
       "'renesas mobile europe ltd approximately 470 employee oulu .'"
      ]
     },
     "metadata": {},
     "output_type": "display_data"
    },
    {
     "name": "stdout",
     "output_type": "stream",
     "text": [
      "-----------------\n"
     ]
    },
    {
     "data": {
      "text/plain": [
       "array([2608,   65,  266,  166,  149, 1759,  122,  866,    0,    0,    0,\n",
       "          0,    0,    0,    0,    0,    0,    0,    0,    0,    0,    0,\n",
       "          0,    0,    0,    0,    0,    0,    0,    0,    0,    0,    0,\n",
       "          0,    0,    0,    0,    0,    0,    0,    0,    0,    0,    0,\n",
       "          0,    0,    0,    0,    0,    0], dtype=int32)"
      ]
     },
     "metadata": {},
     "output_type": "display_data"
    },
    {
     "name": "stdout",
     "output_type": "stream",
     "text": [
      "-----------------\n"
     ]
    },
    {
     "data": {
      "text/plain": [
       "0"
      ]
     },
     "metadata": {},
     "output_type": "display_data"
    },
    {
     "name": "stdout",
     "output_type": "stream",
     "text": [
      "-----------------\n"
     ]
    },
    {
     "data": {
      "text/plain": [
       "'construction yit oyj november 13 , 2007 70 mln euro $ 102.8 mln contract construct new office building local property tapiola real estate oy .'"
      ]
     },
     "metadata": {},
     "output_type": "display_data"
    },
    {
     "name": "stdout",
     "output_type": "stream",
     "text": [
      "-----------------\n"
     ]
    },
    {
     "data": {
      "text/plain": [
       "array([  85,  330,   32,  327,  220,   31,  538,   23,   37, 5894,   38,\n",
       "         23,   48, 1969,   25,  174,   91,  362,  283, 7215,  175,  390,\n",
       "        117,    0,    0,    0,    0,    0,    0,    0,    0,    0,    0,\n",
       "          0,    0,    0,    0,    0,    0,    0,    0,    0,    0,    0,\n",
       "          0,    0,    0,    0,    0,    0], dtype=int32)"
      ]
     },
     "metadata": {},
     "output_type": "display_data"
    },
    {
     "name": "stdout",
     "output_type": "stream",
     "text": [
      "-----------------\n"
     ]
    },
    {
     "data": {
      "text/plain": [
       "1"
      ]
     },
     "metadata": {},
     "output_type": "display_data"
    },
    {
     "name": "stdout",
     "output_type": "stream",
     "text": [
      "-----------------\n"
     ]
    }
   ],
   "source": [
    "# So far looks good:\n",
    "n = 0\n",
    "\n",
    "display(training_headlines[n])\n",
    "print('-----------------')\n",
    "display(training_padded[n])\n",
    "print('-----------------')\n",
    "display(training_labels[n])\n",
    "print('-----------------')\n",
    "\n",
    "display(testing_headlines[n])\n",
    "print('-----------------')\n",
    "display(testing_padded[n])\n",
    "print('-----------------')\n",
    "display(testing_labels[n])\n",
    "print('-----------------')\n"
   ]
  },
  {
   "cell_type": "code",
   "execution_count": 102,
   "metadata": {},
   "outputs": [
    {
     "name": "stdout",
     "output_type": "stream",
     "text": [
      "earnings per share eps amount loss eur0 38 - - - - - - - - - - - - - - - - - - - - - - - - - - - - - - - - - - - - - - - - - -\n",
      "earnings per share ( eps ) amount loss eur0 .38 .\n",
      "0\n"
     ]
    }
   ],
   "source": [
    "# Making sure all our data works. . . \n",
    "reverse_word_index = dict([(value, key) for (key, value) in word_index.items()])\n",
    "\n",
    "def decode_sentence(text):\n",
    "    return ' '.join([reverse_word_index.get(i, '-') for i in text])\n",
    "\n",
    "print(decode_sentence(training_padded[1]))\n",
    "print(training_headlines[1])\n",
    "print(labels[1])"
   ]
  },
  {
   "cell_type": "markdown",
   "metadata": {},
   "source": [
    "# Neural Network:"
   ]
  },
  {
   "cell_type": "code",
   "execution_count": 31,
   "metadata": {},
   "outputs": [],
   "source": [
    "# First let's define the functions for model evaluation\n",
    "def model_eval(history):\n",
    "    pd.DataFrame(history.history).plot(figsize = (8,5))\n",
    "    plt.grid(True)\n",
    "    plt.gca().set_ylim(0, 1)\n",
    "    plt.show\n",
    "def plot_graphs(history, string):\n",
    "  plt.plot(history.history[string])\n",
    "  plt.plot(history.history['val_'+string])\n",
    "  plt.xlabel(\"Epochs\")\n",
    "  plt.ylabel(string)\n",
    "  plt.legend([string, 'val_'+string])\n",
    "  plt.show()\n",
    "  "
   ]
  },
  {
   "cell_type": "markdown",
   "metadata": {},
   "source": [
    "Now it's time to build a baseline neural network:"
   ]
  },
  {
   "cell_type": "markdown",
   "metadata": {},
   "source": [
    "## TEST ZONE"
   ]
  },
  {
   "cell_type": "code",
   "execution_count": 68,
   "metadata": {},
   "outputs": [],
   "source": [
    "model = Sequential()\n",
    "model.add(Embedding(vocab_size, embedding_dim, input_length=max_length))\n",
    "model.add(GlobalAveragePooling1D())\n",
    "model.add(Dense(100, activation='relu'))\n",
    "model.add(Dropout(0.2)) # Optional Regularization\n",
    "model.add(Dense(75, activation='relu')) # Optional second hidden layer\n",
    "model.add(Dropout(0.2)) # Optional Regularization\n",
    "model.add(Dense(1, activation='sigmoid'))\n",
    "\n",
    "#model.compile(loss='binary_crossentropy',optimizer='Adam',metrics=['accuracy']) # Orig code\n",
    "\n",
    "#Messing with learning rate\n",
    "opt = keras.optimizers.Adam(lr=0.0001)\n",
    "model.compile(loss='binary_crossentropy',optimizer= opt, \n",
    "              metrics=['accuracy']) # Orig code\n"
   ]
  },
  {
   "cell_type": "code",
   "execution_count": 69,
   "metadata": {
    "scrolled": true
   },
   "outputs": [
    {
     "name": "stdout",
     "output_type": "stream",
     "text": [
      "Train on 3876 samples, validate on 970 samples\n",
      "Epoch 1/20\n",
      "3876/3876 [==============================] - 2s 639us/step - loss: 0.6303 - acc: 0.7196 - val_loss: 0.5921 - val_acc: 0.7155\n",
      "Epoch 2/20\n",
      "3876/3876 [==============================] - 2s 462us/step - loss: 0.5887 - acc: 0.7196 - val_loss: 0.5891 - val_acc: 0.7155\n",
      "Epoch 3/20\n",
      "3876/3876 [==============================] - 2s 456us/step - loss: 0.5830 - acc: 0.7196 - val_loss: 0.5866 - val_acc: 0.7155\n",
      "Epoch 4/20\n",
      "3876/3876 [==============================] - 2s 460us/step - loss: 0.5789 - acc: 0.7196 - val_loss: 0.5835 - val_acc: 0.7155\n",
      "Epoch 5/20\n",
      "3876/3876 [==============================] - 2s 454us/step - loss: 0.5721 - acc: 0.7196 - val_loss: 0.5775 - val_acc: 0.7155\n",
      "Epoch 6/20\n",
      "3876/3876 [==============================] - 2s 461us/step - loss: 0.5570 - acc: 0.7196 - val_loss: 0.5642 - val_acc: 0.7155\n",
      "Epoch 7/20\n",
      "3876/3876 [==============================] - 2s 470us/step - loss: 0.5279 - acc: 0.7327 - val_loss: 0.5451 - val_acc: 0.7299\n",
      "Epoch 8/20\n",
      "3876/3876 [==============================] - 2s 452us/step - loss: 0.4885 - acc: 0.7557 - val_loss: 0.5232 - val_acc: 0.7454\n",
      "Epoch 9/20\n",
      "3876/3876 [==============================] - 2s 457us/step - loss: 0.4336 - acc: 0.7897 - val_loss: 0.4982 - val_acc: 0.7629\n",
      "Epoch 10/20\n",
      "3876/3876 [==============================] - 2s 446us/step - loss: 0.3640 - acc: 0.8382 - val_loss: 0.4814 - val_acc: 0.7794\n",
      "Epoch 11/20\n",
      "3876/3876 [==============================] - 2s 458us/step - loss: 0.3022 - acc: 0.8746 - val_loss: 0.4776 - val_acc: 0.7938\n",
      "Epoch 12/20\n",
      "3876/3876 [==============================] - 2s 492us/step - loss: 0.2564 - acc: 0.8996 - val_loss: 0.4795 - val_acc: 0.7835\n",
      "Epoch 13/20\n",
      "3876/3876 [==============================] - 2s 483us/step - loss: 0.2208 - acc: 0.9205 - val_loss: 0.5002 - val_acc: 0.7876\n",
      "Epoch 14/20\n",
      "3876/3876 [==============================] - 2s 457us/step - loss: 0.1945 - acc: 0.9278 - val_loss: 0.5175 - val_acc: 0.7794\n",
      "Epoch 15/20\n",
      "3876/3876 [==============================] - 2s 465us/step - loss: 0.1698 - acc: 0.9391 - val_loss: 0.5477 - val_acc: 0.7794\n",
      "Epoch 16/20\n",
      "3876/3876 [==============================] - 2s 484us/step - loss: 0.1528 - acc: 0.9471 - val_loss: 0.5907 - val_acc: 0.7814\n",
      "Epoch 17/20\n",
      "3876/3876 [==============================] - 2s 477us/step - loss: 0.1401 - acc: 0.9525 - val_loss: 0.5805 - val_acc: 0.7814\n",
      "Epoch 18/20\n",
      "3876/3876 [==============================] - 2s 459us/step - loss: 0.1233 - acc: 0.9569 - val_loss: 0.6205 - val_acc: 0.7804\n",
      "Epoch 19/20\n",
      "3876/3876 [==============================] - 2s 459us/step - loss: 0.1149 - acc: 0.9603 - val_loss: 0.6367 - val_acc: 0.7773\n",
      "Epoch 20/20\n",
      "3876/3876 [==============================] - 2s 460us/step - loss: 0.1066 - acc: 0.9623 - val_loss: 0.6635 - val_acc: 0.7794\n"
     ]
    }
   ],
   "source": [
    "num_epochs = 20\n",
    "history = model.fit(training_padded, training_labels, \n",
    "                    epochs=num_epochs,\n",
    "                    batch_size = 10,\n",
    "                    validation_data=(testing_padded, testing_labels), \n",
    "                    verbose= 1)"
   ]
  },
  {
   "cell_type": "code",
   "execution_count": 70,
   "metadata": {},
   "outputs": [
    {
     "data": {
      "image/png": "[encoded data removed]",
      "text/plain": [
       "<Figure size 432x288 with 1 Axes>"
      ]
     },
     "metadata": {
      "needs_background": "light"
     },
     "output_type": "display_data"
    },
    {
     "data": {
      "image/png": "[encoded data removed]",
      "text/plain": [
       "<Figure size 432x288 with 1 Axes>"
      ]
     },
     "metadata": {
      "needs_background": "light"
     },
     "output_type": "display_data"
    }
   ],
   "source": [
    "model_eval(history)\n",
    "plot_graphs(history, \"acc\")\n",
    "plot_graphs(history, \"loss\")"
   ]
  },
  {
   "cell_type": "code",
   "execution_count": 75,
   "metadata": {},
   "outputs": [
    {
     "name": "stdout",
     "output_type": "stream",
     "text": [
      "[[0.953247  ]\n",
      " [0.00303712]\n",
      " [0.30974004]]\n"
     ]
    }
   ],
   "source": [
    "sentence = [\"Stock rise rapid for Tesla\", \n",
    "            \"Apple factory shut down, lay off hundred employee\",\n",
    "           \"Average day of return for Microsoft\"]\n",
    "sequences = tokenizer.texts_to_sequences(sentence)\n",
    "padded = pad_sequences(sequences, maxlen=max_length, \n",
    "                       padding=padding_type, \n",
    "                       truncating=trunc_type)\n",
    "print(model.predict(padded))"
   ]
  },
  {
   "cell_type": "code",
   "execution_count": 36,
   "metadata": {},
   "outputs": [
    {
     "ename": "SyntaxError",
     "evalue": "Missing parentheses in call to 'print'. Did you mean print(break_)? (<ipython-input-36-8dc0057c2caf>, line 1)",
     "output_type": "error",
     "traceback": [
      "\u001b[0;36m  File \u001b[0;32m\"<ipython-input-36-8dc0057c2caf>\"\u001b[0;36m, line \u001b[0;32m1\u001b[0m\n\u001b[0;31m    print break_\u001b[0m\n\u001b[0m               ^\u001b[0m\n\u001b[0;31mSyntaxError\u001b[0m\u001b[0;31m:\u001b[0m Missing parentheses in call to 'print'. Did you mean print(break_)?\n"
     ]
    }
   ],
   "source": [
    "print break_"
   ]
  },
  {
   "cell_type": "markdown",
   "metadata": {},
   "source": [
    "### LSTM Test:"
   ]
  },
  {
   "cell_type": "code",
   "execution_count": 52,
   "metadata": {},
   "outputs": [],
   "source": [
    "model = Sequential()\n",
    "model.add(Embedding(vocab_size, embedding_dim, input_length=max_length))\n",
    "model.add(LSTM(64, dropout = 0.1))\n",
    "model.add(Dense(35, activation='relu'))\n",
    "model.add(Dense(1, activation='sigmoid'))\n",
    "\n",
    "model.compile(loss='binary_crossentropy',optimizer='Adam',metrics=['accuracy']) # Orig code"
   ]
  },
  {
   "cell_type": "code",
   "execution_count": 53,
   "metadata": {},
   "outputs": [
    {
     "name": "stdout",
     "output_type": "stream",
     "text": [
      "Train on 3876 samples, validate on 970 samples\n",
      "Epoch 1/15\n",
      "3876/3876 [==============================] - 11s 3ms/step - loss: 0.6015 - acc: 0.7185 - val_loss: 0.5972 - val_acc: 0.7155\n",
      "Epoch 2/15\n",
      "3876/3876 [==============================] - 10s 3ms/step - loss: 0.5948 - acc: 0.7196 - val_loss: 0.6065 - val_acc: 0.7155\n",
      "Epoch 3/15\n",
      "3876/3876 [==============================] - 10s 3ms/step - loss: 0.5908 - acc: 0.7193 - val_loss: 0.6444 - val_acc: 0.7155\n",
      "Epoch 4/15\n",
      "3876/3876 [==============================] - 11s 3ms/step - loss: 0.5808 - acc: 0.7232 - val_loss: 0.5642 - val_acc: 0.7155\n",
      "Epoch 5/15\n",
      "3876/3876 [==============================] - 11s 3ms/step - loss: 0.5551 - acc: 0.7500 - val_loss: 0.5679 - val_acc: 0.7433\n",
      "Epoch 6/15\n",
      "3876/3876 [==============================] - 11s 3ms/step - loss: 0.5620 - acc: 0.7510 - val_loss: 0.5741 - val_acc: 0.7381\n",
      "Epoch 7/15\n",
      "3876/3876 [==============================] - 11s 3ms/step - loss: 0.5551 - acc: 0.7570 - val_loss: 0.5656 - val_acc: 0.7454\n",
      "Epoch 8/15\n",
      "3876/3876 [==============================] - 12s 3ms/step - loss: 0.5489 - acc: 0.7624 - val_loss: 0.5721 - val_acc: 0.7433\n",
      "Epoch 9/15\n",
      "3876/3876 [==============================] - 12s 3ms/step - loss: 0.5491 - acc: 0.7611 - val_loss: 0.5667 - val_acc: 0.7423\n",
      "Epoch 10/15\n",
      "3876/3876 [==============================] - 11s 3ms/step - loss: 0.5447 - acc: 0.7660 - val_loss: 0.5632 - val_acc: 0.7464\n",
      "Epoch 11/15\n",
      "3876/3876 [==============================] - 11s 3ms/step - loss: 0.5423 - acc: 0.7681 - val_loss: 0.5671 - val_acc: 0.7443\n",
      "Epoch 12/15\n",
      "3876/3876 [==============================] - 12s 3ms/step - loss: 0.5398 - acc: 0.7693 - val_loss: 0.5669 - val_acc: 0.7443\n",
      "Epoch 13/15\n",
      "3876/3876 [==============================] - 11s 3ms/step - loss: 0.5483 - acc: 0.7634 - val_loss: 0.5745 - val_acc: 0.7433\n",
      "Epoch 14/15\n",
      "3876/3876 [==============================] - 11s 3ms/step - loss: 0.5347 - acc: 0.7660 - val_loss: 0.5705 - val_acc: 0.7227\n",
      "Epoch 15/15\n",
      "3876/3876 [==============================] - 11s 3ms/step - loss: 0.5269 - acc: 0.7688 - val_loss: 0.5736 - val_acc: 0.7206\n"
     ]
    }
   ],
   "source": [
    "num_epochs = 15\n",
    "history = model.fit(training_padded, training_labels, \n",
    "                    epochs=num_epochs,\n",
    "                    batch_size = 24,\n",
    "                    validation_data=(testing_padded, testing_labels), \n",
    "                    verbose= 1)"
   ]
  },
  {
   "cell_type": "code",
   "execution_count": 54,
   "metadata": {},
   "outputs": [
    {
     "data": {
      "image/png": "[encoded data removed]",
      "text/plain": [
       "<Figure size 432x288 with 1 Axes>"
      ]
     },
     "metadata": {
      "needs_background": "light"
     },
     "output_type": "display_data"
    },
    {
     "data": {
      "image/png": "[encoded data removed]",
      "text/plain": [
       "<Figure size 432x288 with 1 Axes>"
      ]
     },
     "metadata": {
      "needs_background": "light"
     },
     "output_type": "display_data"
    }
   ],
   "source": [
    "plot_graphs(history, \"acc\")\n",
    "plot_graphs(history, \"loss\")"
   ]
  },
  {
   "cell_type": "code",
   "execution_count": 72,
   "metadata": {},
   "outputs": [
    {
     "name": "stdout",
     "output_type": "stream",
     "text": [
      "[[0.8410685 ]\n",
      " [0.07090827]\n",
      " [0.07887366]]\n"
     ]
    }
   ],
   "source": [
    "sentence = [\"Stocks rise rapidly for Tesla\", \n",
    "            \"Apple factory shuts down\",\n",
    "           \"Average day of returns for Microsoft\"]\n",
    "sequences = tokenizer.texts_to_sequences(sentence)\n",
    "padded = pad_sequences(sequences, maxlen=max_length, \n",
    "                       padding=padding_type, \n",
    "                       truncating=trunc_type)\n",
    "print(model.predict(padded))"
   ]
  },
  {
   "cell_type": "code",
   "execution_count": 56,
   "metadata": {},
   "outputs": [
    {
     "name": "stdout",
     "output_type": "stream",
     "text": [
      "[[0.17934008]\n",
      " [0.17934011]\n",
      " [0.17934008]]\n"
     ]
    }
   ],
   "source": [
    "sentence = [\"Former Nissan Executive Greg Kelly Pleads Not Guilty at Tokyo Trial\", \n",
    "            \"Amazon to Hire 100,000 in U.S. and Canada\",\n",
    "           \"Disney’s ‘Mulan’ Tops China Box Office Amid Controversy\"]\n",
    "sequences = tokenizer.texts_to_sequences(sentence)\n",
    "padded = pad_sequences(sequences, maxlen=max_length, \n",
    "                       padding=padding_type, \n",
    "                       truncating=trunc_type)\n",
    "print(model.predict(padded))"
   ]
  },
  {
   "cell_type": "markdown",
   "metadata": {},
   "source": [
    "## End TEST ZONE:"
   ]
  },
  {
   "cell_type": "markdown",
   "metadata": {},
   "source": [
    "## Baseline Model:"
   ]
  },
  {
   "cell_type": "code",
   "execution_count": 87,
   "metadata": {},
   "outputs": [],
   "source": [
    "model = keras.Sequential([\n",
    "    keras.layers.Embedding(vocab_size, embedding_dim, input_length=max_length),\n",
    "    keras.layers.GlobalAveragePooling1D(),\n",
    "    keras.layers.Dense(50, activation='relu'),\n",
    "    keras.layers.Dropout(0.2), # Optional Regularization\n",
    "    keras.layers.Dense(50, activation='relu'), # Optional second hidden layer\n",
    "    keras.layers.Dropout(0.2), # Optional Regularization\n",
    "    keras.layers.Dense(1, activation='sigmoid')])\n",
    "\n",
    "opt = keras.optimizers.Adam(lr=0.0001)\n",
    "model.compile(loss='binary_crossentropy',optimizer = opt, metrics=['accuracy']) # Orig code\n"
   ]
  },
  {
   "cell_type": "code",
   "execution_count": 88,
   "metadata": {},
   "outputs": [],
   "source": [
    "#model.summary()"
   ]
  },
  {
   "cell_type": "code",
   "execution_count": 89,
   "metadata": {
    "scrolled": true
   },
   "outputs": [
    {
     "name": "stdout",
     "output_type": "stream",
     "text": [
      "Train on 3876 samples, validate on 970 samples\n",
      "Epoch 1/50\n",
      " - 1s - loss: 0.6750 - acc: 0.7165 - val_loss: 0.6581 - val_acc: 0.7155\n",
      "Epoch 2/50\n",
      " - 1s - loss: 0.6390 - acc: 0.7196 - val_loss: 0.6185 - val_acc: 0.7155\n",
      "Epoch 3/50\n",
      " - 1s - loss: 0.6030 - acc: 0.7196 - val_loss: 0.5940 - val_acc: 0.7155\n",
      "Epoch 4/50\n",
      " - 1s - loss: 0.5898 - acc: 0.7196 - val_loss: 0.5898 - val_acc: 0.7155\n",
      "Epoch 5/50\n",
      " - 1s - loss: 0.5863 - acc: 0.7196 - val_loss: 0.5884 - val_acc: 0.7155\n",
      "Epoch 6/50\n",
      " - 1s - loss: 0.5834 - acc: 0.7196 - val_loss: 0.5871 - val_acc: 0.7155\n",
      "Epoch 7/50\n",
      " - 1s - loss: 0.5814 - acc: 0.7196 - val_loss: 0.5857 - val_acc: 0.7155\n",
      "Epoch 8/50\n",
      " - 1s - loss: 0.5784 - acc: 0.7196 - val_loss: 0.5841 - val_acc: 0.7155\n",
      "Epoch 9/50\n",
      " - 1s - loss: 0.5785 - acc: 0.7196 - val_loss: 0.5820 - val_acc: 0.7155\n",
      "Epoch 10/50\n",
      " - 1s - loss: 0.5703 - acc: 0.7196 - val_loss: 0.5796 - val_acc: 0.7155\n",
      "Epoch 11/50\n",
      " - 1s - loss: 0.5662 - acc: 0.7196 - val_loss: 0.5761 - val_acc: 0.7155\n",
      "Epoch 12/50\n",
      " - 1s - loss: 0.5603 - acc: 0.7198 - val_loss: 0.5717 - val_acc: 0.7155\n",
      "Epoch 13/50\n",
      " - 1s - loss: 0.5527 - acc: 0.7206 - val_loss: 0.5658 - val_acc: 0.7144\n",
      "Epoch 14/50\n",
      " - 1s - loss: 0.5389 - acc: 0.7250 - val_loss: 0.5591 - val_acc: 0.7165\n",
      "Epoch 15/50\n",
      " - 1s - loss: 0.5253 - acc: 0.7337 - val_loss: 0.5510 - val_acc: 0.7175\n",
      "Epoch 16/50\n",
      " - 1s - loss: 0.5064 - acc: 0.7451 - val_loss: 0.5393 - val_acc: 0.7361\n",
      "Epoch 17/50\n",
      " - 1s - loss: 0.4842 - acc: 0.7575 - val_loss: 0.5282 - val_acc: 0.7392\n",
      "Epoch 18/50\n",
      " - 1s - loss: 0.4608 - acc: 0.7714 - val_loss: 0.5172 - val_acc: 0.7485\n",
      "Epoch 19/50\n",
      " - 1s - loss: 0.4342 - acc: 0.7913 - val_loss: 0.5055 - val_acc: 0.7567\n",
      "Epoch 20/50\n",
      " - 1s - loss: 0.4032 - acc: 0.8171 - val_loss: 0.4937 - val_acc: 0.7701\n",
      "Epoch 21/50\n",
      " - 1s - loss: 0.3713 - acc: 0.8388 - val_loss: 0.4834 - val_acc: 0.7753\n",
      "Epoch 22/50\n",
      " - 1s - loss: 0.3411 - acc: 0.8622 - val_loss: 0.4760 - val_acc: 0.7794\n",
      "Epoch 23/50\n",
      " - 1s - loss: 0.3078 - acc: 0.8821 - val_loss: 0.4710 - val_acc: 0.7876\n",
      "Epoch 24/50\n",
      " - 1s - loss: 0.2829 - acc: 0.8919 - val_loss: 0.4725 - val_acc: 0.7887\n",
      "Epoch 25/50\n",
      " - 1s - loss: 0.2606 - acc: 0.9035 - val_loss: 0.4754 - val_acc: 0.7866\n",
      "Epoch 26/50\n",
      " - 1s - loss: 0.2430 - acc: 0.9084 - val_loss: 0.4775 - val_acc: 0.7856\n",
      "Epoch 27/50\n",
      " - 1s - loss: 0.2224 - acc: 0.9211 - val_loss: 0.4831 - val_acc: 0.7825\n",
      "Epoch 28/50\n",
      " - 1s - loss: 0.2084 - acc: 0.9254 - val_loss: 0.4883 - val_acc: 0.7794\n",
      "Epoch 29/50\n",
      " - 1s - loss: 0.1945 - acc: 0.9347 - val_loss: 0.4980 - val_acc: 0.7825\n",
      "Epoch 30/50\n",
      " - 1s - loss: 0.1803 - acc: 0.9404 - val_loss: 0.5002 - val_acc: 0.7753\n",
      "Epoch 31/50\n",
      " - 1s - loss: 0.1723 - acc: 0.9430 - val_loss: 0.5159 - val_acc: 0.7825\n",
      "Epoch 32/50\n",
      " - 1s - loss: 0.1585 - acc: 0.9481 - val_loss: 0.5223 - val_acc: 0.7825\n",
      "Epoch 33/50\n",
      " - 1s - loss: 0.1519 - acc: 0.9492 - val_loss: 0.5256 - val_acc: 0.7825\n",
      "Epoch 34/50\n",
      " - 1s - loss: 0.1418 - acc: 0.9538 - val_loss: 0.5374 - val_acc: 0.7804\n",
      "Epoch 35/50\n",
      " - 1s - loss: 0.1331 - acc: 0.9585 - val_loss: 0.5593 - val_acc: 0.7814\n",
      "Epoch 36/50\n",
      " - 1s - loss: 0.1301 - acc: 0.9556 - val_loss: 0.5597 - val_acc: 0.7784\n",
      "Epoch 37/50\n",
      " - 1s - loss: 0.1227 - acc: 0.9590 - val_loss: 0.5743 - val_acc: 0.7804\n",
      "Epoch 38/50\n",
      " - 1s - loss: 0.1140 - acc: 0.9613 - val_loss: 0.5878 - val_acc: 0.7825\n",
      "Epoch 39/50\n",
      " - 1s - loss: 0.1090 - acc: 0.9652 - val_loss: 0.5901 - val_acc: 0.7794\n",
      "Epoch 40/50\n",
      " - 1s - loss: 0.1066 - acc: 0.9603 - val_loss: 0.6108 - val_acc: 0.7835\n",
      "Epoch 41/50\n",
      " - 1s - loss: 0.0986 - acc: 0.9670 - val_loss: 0.6230 - val_acc: 0.7825\n",
      "Epoch 42/50\n",
      " - 1s - loss: 0.0939 - acc: 0.9693 - val_loss: 0.6310 - val_acc: 0.7845\n",
      "Epoch 43/50\n",
      " - 1s - loss: 0.0915 - acc: 0.9719 - val_loss: 0.6431 - val_acc: 0.7835\n",
      "Epoch 44/50\n",
      " - 1s - loss: 0.0884 - acc: 0.9708 - val_loss: 0.6495 - val_acc: 0.7835\n",
      "Epoch 45/50\n",
      " - 1s - loss: 0.0798 - acc: 0.9763 - val_loss: 0.6614 - val_acc: 0.7835\n",
      "Epoch 46/50\n",
      " - 1s - loss: 0.0796 - acc: 0.9745 - val_loss: 0.6678 - val_acc: 0.7804\n",
      "Epoch 47/50\n",
      " - 1s - loss: 0.0752 - acc: 0.9773 - val_loss: 0.6728 - val_acc: 0.7753\n",
      "Epoch 48/50\n",
      " - 1s - loss: 0.0747 - acc: 0.9750 - val_loss: 0.6988 - val_acc: 0.7835\n",
      "Epoch 49/50\n",
      " - 1s - loss: 0.0702 - acc: 0.9776 - val_loss: 0.7093 - val_acc: 0.7835\n",
      "Epoch 50/50\n",
      " - 1s - loss: 0.0662 - acc: 0.9796 - val_loss: 0.7091 - val_acc: 0.7794\n"
     ]
    }
   ],
   "source": [
    "num_epochs = 50\n",
    "history = model.fit(training_padded, training_labels, \n",
    "                    epochs=num_epochs, \n",
    "                    validation_data=(testing_padded, testing_labels), \n",
    "                    verbose= 2)"
   ]
  },
  {
   "cell_type": "markdown",
   "metadata": {},
   "source": [
    "### Model Evaluation:"
   ]
  },
  {
   "cell_type": "code",
   "execution_count": 90,
   "metadata": {
    "scrolled": true
   },
   "outputs": [
    {
     "data": {
      "image/png": "[encoded data removed]",
      "text/plain": [
       "<Figure size 576x360 with 1 Axes>"
      ]
     },
     "metadata": {
      "needs_background": "light"
     },
     "output_type": "display_data"
    }
   ],
   "source": [
    "model_eval(history)"
   ]
  },
  {
   "cell_type": "code",
   "execution_count": 91,
   "metadata": {},
   "outputs": [
    {
     "data": {
      "image/png": "[encoded data removed]",
      "text/plain": [
       "<Figure size 432x288 with 1 Axes>"
      ]
     },
     "metadata": {
      "needs_background": "light"
     },
     "output_type": "display_data"
    },
    {
     "data": {
      "image/png": "[encoded data removed]",
      "text/plain": [
       "<Figure size 432x288 with 1 Axes>"
      ]
     },
     "metadata": {
      "needs_background": "light"
     },
     "output_type": "display_data"
    }
   ],
   "source": [
    "plot_graphs(history, \"acc\")\n",
    "plot_graphs(history, \"loss\")"
   ]
  },
  {
   "cell_type": "code",
   "execution_count": 92,
   "metadata": {},
   "outputs": [
    {
     "name": "stdout",
     "output_type": "stream",
     "text": [
      "[[0.9763974]\n",
      " [0.0281518]\n",
      " [0.4114216]]\n"
     ]
    }
   ],
   "source": [
    "# Testing Made Up Headlines:\n",
    "sentence = [\"Stock rise rapid for Tesla\", \n",
    "            \"Apple factory shut down\",\n",
    "           \"Average day of return for Microsoft\"]\n",
    "sequences = tokenizer.texts_to_sequences(sentence)\n",
    "padded = pad_sequences(sequences, maxlen=max_length, \n",
    "                       padding=padding_type, \n",
    "                       truncating=trunc_type)\n",
    "print(model.predict(padded))"
   ]
  },
  {
   "cell_type": "markdown",
   "metadata": {},
   "source": [
    "## Neural Network with Transfer Learning:"
   ]
  },
  {
   "cell_type": "code",
   "execution_count": null,
   "metadata": {},
   "outputs": [],
   "source": [
    "#nltk.download('vader_lexicon')\n",
    "#from nltk.sentiment.vader import SentimentIntensityAnalyzer\n",
    "sid = SentimentIntensityAnalyzer()\n",
    "sid.polarity_scores('The international electronic industry company Elcoteq has laid off tens of employees from its Tallinn facility ; contrary to earlier layoffs the company contracted the ranks of its office workers , the daily Postimees reported .')"
   ]
  },
  {
   "cell_type": "code",
   "execution_count": null,
   "metadata": {},
   "outputs": [],
   "source": [
    "sid.polarity_scores('tesla stocks rise rapidly')"
   ]
  },
  {
   "cell_type": "code",
   "execution_count": null,
   "metadata": {},
   "outputs": [],
   "source": [
    "#from textblob import TextBlob\n",
    "headline1 = \"tesla lays off all employees\"\n",
    "headline2 = 'the food at Radison was very good'\n",
    "blob1 = TextBlob(headline1)\n",
    "blob2 = TextBlob(headline2)\n",
    "print(blob1.polarity)\n",
    "print(blob2.polarity)"
   ]
  },
  {
   "cell_type": "code",
   "execution_count": null,
   "metadata": {},
   "outputs": [],
   "source": [
    "df2 = df"
   ]
  },
  {
   "cell_type": "code",
   "execution_count": null,
   "metadata": {},
   "outputs": [],
   "source": [
    "threshold = .1\n",
    "\n",
    "for headline in df2['Headline']:\n",
    "#    df2['tb_sent'] = (TextBlob(headline).polarity)\n",
    "    df2['tb_sent'][headline] = (TextBlob(headline).polarity)\n",
    "    \n",
    "#for item in df['tb_sent']:\n",
    "#    if item > threshold:\n",
    "#        item = 1\n",
    "#    else:\n",
    "#        item = 0"
   ]
  },
  {
   "cell_type": "code",
   "execution_count": null,
   "metadata": {},
   "outputs": [],
   "source": [
    "df2.tail()"
   ]
  },
  {
   "cell_type": "markdown",
   "metadata": {},
   "source": [
    "### Model Evaluation:"
   ]
  },
  {
   "cell_type": "markdown",
   "metadata": {},
   "source": [
    "# Other:"
   ]
  },
  {
   "cell_type": "code",
   "execution_count": null,
   "metadata": {},
   "outputs": [],
   "source": [
    "print break_"
   ]
  },
  {
   "cell_type": "code",
   "execution_count": 93,
   "metadata": {},
   "outputs": [
    {
     "name": "stdout",
     "output_type": "stream",
     "text": [
      "(10094, 32)\n"
     ]
    }
   ],
   "source": [
    "e = model.layers[0]\n",
    "weights = e.get_weights()[0]\n",
    "print(weights.shape) # shape: (vocab_size, embedding_dim)"
   ]
  },
  {
   "cell_type": "code",
   "execution_count": 96,
   "metadata": {},
   "outputs": [
    {
     "data": {
      "text/plain": [
       "'\\nimport io\\n\\nout_v = io.open(\\'vecs.tsv\\', \\'w\\', encoding=\\'utf-8\\')\\nout_m = io.open(\\'meta.tsv\\', \\'w\\', encoding=\\'utf-8\\')\\nfor word_num in range(1, vocab_size):\\n  word = reverse_word_index[word_num]\\n  embeddings = weights[word_num]\\n  out_m.write(word + \"\\n\")\\n  out_v.write(\\'\\t\\'.join([str(x) for x in embeddings]) + \"\\n\")\\nout_v.close()\\nout_m.close()\\n'"
      ]
     },
     "execution_count": 96,
     "metadata": {},
     "output_type": "execute_result"
    }
   ],
   "source": [
    "'''\n",
    "import io\n",
    "\n",
    "out_v = io.open('vecs.tsv', 'w', encoding='utf-8')\n",
    "out_m = io.open('meta.tsv', 'w', encoding='utf-8')\n",
    "for word_num in range(1, vocab_size):\n",
    "  word = reverse_word_index[word_num]\n",
    "  embeddings = weights[word_num]\n",
    "  out_m.write(word + \"\\n\")\n",
    "  out_v.write('\\t'.join([str(x) for x in embeddings]) + \"\\n\")\n",
    "out_v.close()\n",
    "out_m.close()\n",
    "'''"
   ]
  },
  {
   "cell_type": "code",
   "execution_count": 97,
   "metadata": {},
   "outputs": [
    {
     "name": "stdout",
     "output_type": "stream",
     "text": [
      "[[0.9763974]\n",
      " [0.0281518]\n",
      " [0.4114216]]\n"
     ]
    }
   ],
   "source": [
    "# Testing Made Up Headlines:\n",
    "sentence = [\"Stock rise rapid for Tesla\", \n",
    "            \"Apple factory shut down\",\n",
    "           \"Average day of return for Microsoft\"]\n",
    "sequences = tokenizer.texts_to_sequences(sentence)\n",
    "padded = pad_sequences(sequences, maxlen=max_length, \n",
    "                       padding=padding_type, \n",
    "                       truncating=trunc_type)\n",
    "print(model.predict(padded))"
   ]
  },
  {
   "cell_type": "code",
   "execution_count": 99,
   "metadata": {},
   "outputs": [
    {
     "name": "stdout",
     "output_type": "stream",
     "text": [
      "[[0.00054475]\n",
      " [0.01653454]\n",
      " [0.37644133]]\n"
     ]
    }
   ],
   "source": [
    "# Testing Real Headlines - Source - Bloomberg:\n",
    "sentence = [\"Ray Dalio Warn of Threat to Dollar as Reserve Currency\", \n",
    "            \"FTC Prepare Possible Antitrust Lawsuit Against Facebook\",\n",
    "           \"Trump Say He Want a 4 Hour Debate Moderate by Joe Rogan\"]\n",
    "sequences = tokenizer.texts_to_sequences(sentence)\n",
    "padded = pad_sequences(sequences, maxlen=max_length, \n",
    "                       padding=padding_type, \n",
    "                       truncating=trunc_type)\n",
    "print(model.predict(padded))"
   ]
  },
  {
   "cell_type": "markdown",
   "metadata": {},
   "source": [
    "# Further Work:"
   ]
  },
  {
   "cell_type": "markdown",
   "metadata": {},
   "source": [
    "In the future, I'd like to complete the following analysis:\n",
    "- A web application that collects and analyzes headlines from various financial news sources.\n",
    "- Other neural network architecture types.\n",
    "- New types of sentiment analysis, such as breaking news vs an opinion piece on an older issue.\n",
    "- Rate different newspapers by sentiment value."
   ]
  },
  {
   "cell_type": "markdown",
   "metadata": {},
   "source": [
    "# Conclusion:"
   ]
  },
  {
   "cell_type": "code",
   "execution_count": null,
   "metadata": {},
   "outputs": [],
   "source": []
  }
 ],
 "metadata": {
  "kernelspec": {
   "display_name": "Python 3",
   "language": "python",
   "name": "python3"
  },
  "language_info": {
   "codemirror_mode": {
    "name": "ipython",
    "version": 3
   },
   "file_extension": ".py",
   "mimetype": "text/x-python",
   "name": "python",
   "nbconvert_exporter": "python",
   "pygments_lexer": "ipython3",
   "version": "3.6.9"
  },
  "toc": {
   "base_numbering": 1,
   "nav_menu": {},
   "number_sections": true,
   "sideBar": true,
   "skip_h1_title": false,
   "title_cell": "Table of Contents",
   "title_sidebar": "Contents",
   "toc_cell": false,
   "toc_position": {},
   "toc_section_display": true,
   "toc_window_display": true
  }
 },
 "nbformat": 4,
 "nbformat_minor": 2
}
