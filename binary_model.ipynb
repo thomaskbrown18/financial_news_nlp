{
 "cells": [
  {
   "cell_type": "markdown",
   "metadata": {},
   "source": [
    "__Student info:__"
   ]
  },
  {
   "cell_type": "markdown",
   "metadata": {},
   "source": [
    "- Student name: Thomas Brown\n",
    "- Student pace: Full Time\n",
    "- Scheduled project review date/time: TBD\n",
    "- Instructor name: Abhineet Kulkarni\n",
    "- Blog post URL: TBD"
   ]
  },
  {
   "cell_type": "markdown",
   "metadata": {},
   "source": [
    "__Use Case:__<br><br>\n",
    "The purpose of this project is to start building a neural network model that can determine the sentiment of financial news headlines.  The users of this model would be investment firms who want to keep track of the market sentiment of a set of various products, companies, or industries.  <br><br>\n",
    "With proper web scraping and feeding of new headlines, a firm would be able to keep track of various topics to make better informed investing decisions.  For example, one could feasibly keep track of terms that are rising rapidly in terms of positive sentiment in order to invest in them.<br><br>\n",
    "The data is collected from Kaggle through this [link](https://www.kaggle.com/ankurzing/sentiment-analysis-for-financial-news).  It's a collection of 4,837 unique news headlines from various financial news sources. "
   ]
  },
  {
   "cell_type": "markdown",
   "metadata": {},
   "source": [
    "## Importing Libraries:"
   ]
  },
  {
   "cell_type": "code",
   "execution_count": 1,
   "metadata": {},
   "outputs": [
    {
     "name": "stderr",
     "output_type": "stream",
     "text": [
      "Using TensorFlow backend.\n",
      "/Users/Thomas/opt/anaconda3/envs/learn-env/lib/python3.6/site-packages/sklearn/externals/six.py:31: DeprecationWarning: The module is deprecated in version 0.21 and will be removed in version 0.23 since we've dropped support for Python 2.7. Please rely on the official version of six (https://pypi.org/project/six/).\n",
      "  \"(https://pypi.org/project/six/).\", DeprecationWarning)\n"
     ]
    }
   ],
   "source": [
    "import pandas as pd\n",
    "import numpy as np\n",
    "\n",
    "# Scikit-Learn:\n",
    "from sklearn.preprocessing import StandardScaler\n",
    "from sklearn.neighbors import KNeighborsClassifier\n",
    "from sklearn.model_selection import train_test_split, GridSearchCV\n",
    "from sklearn.ensemble import RandomForestClassifier\n",
    "from sklearn.tree import DecisionTreeClassifier\n",
    "from sklearn.ensemble import AdaBoostClassifier, GradientBoostingClassifier\n",
    "from sklearn.pipeline import Pipeline\n",
    "from sklearn.metrics import precision_score, recall_score, confusion_matrix, classification_report, accuracy_score, f1_score\n",
    "from sklearn import svm\n",
    "from sklearn import tree\n",
    "from sklearn.preprocessing import LabelEncoder\n",
    "from sklearn.preprocessing import OneHotEncoder\n",
    "\n",
    "\n",
    "# Keras:\n",
    "import keras\n",
    "from keras.models import Sequential\n",
    "from keras.layers import Dense\n",
    "from sklearn.preprocessing import StandardScaler, LabelBinarizer\n",
    "from keras.preprocessing.text import Tokenizer\n",
    "from keras.preprocessing.sequence import pad_sequences\n",
    "from keras.layers import Dense, Conv1D, MaxPool1D, Flatten, Dropout\n",
    "from keras.utils import to_categorical\n",
    "from keras.layers import Embedding, LSTM, Dense, Dropout\n",
    "from keras.models import Sequential\n",
    "from keras.layers import Embedding, LSTM, Dense, Dropout\n",
    "from keras.initializers import Constant\n",
    "from keras.optimizers import Adam\n",
    "from keras.layers import GlobalAveragePooling1D\n",
    "\n",
    "\n",
    "# NLTK - Stopwords:\n",
    "import nltk\n",
    "from nltk.corpus import stopwords\n",
    "import string\n",
    "from nltk import word_tokenize, FreqDist\n",
    "from nltk.stem import WordNetLemmatizer\n",
    "from nltk import pos_tag\n",
    "from nltk.corpus import wordnet\n",
    "\n",
    "\n",
    "# Sampling:\n",
    "from imblearn.over_sampling import SMOTE, ADASYN\n",
    "\n",
    "# XGBoost:\n",
    "import xgboost as xgb\n",
    "\n",
    "# Plots and Graphs:\n",
    "from wordcloud import WordCloud\n",
    "import seaborn as sns\n",
    "sns.set_style('darkgrid')\n",
    "import matplotlib.pyplot as plt\n",
    "import plotly.express as px\n",
    "import scikitplot as skplt \n",
    "%matplotlib inline\n",
    "\n",
    "# Other:\n",
    "from collections import Counter\n",
    "import warnings\n",
    "warnings.filterwarnings('ignore')\n",
    "# So we can see the entire column:\n",
    "pd.set_option('display.max_colwidth', -1)"
   ]
  },
  {
   "cell_type": "markdown",
   "metadata": {},
   "source": [
    "# Importing Data:"
   ]
  },
  {
   "cell_type": "code",
   "execution_count": 2,
   "metadata": {},
   "outputs": [
    {
     "data": {
      "text/html": [
       "<div>\n",
       "<style scoped>\n",
       "    .dataframe tbody tr th:only-of-type {\n",
       "        vertical-align: middle;\n",
       "    }\n",
       "\n",
       "    .dataframe tbody tr th {\n",
       "        vertical-align: top;\n",
       "    }\n",
       "\n",
       "    .dataframe thead th {\n",
       "        text-align: right;\n",
       "    }\n",
       "</style>\n",
       "<table border=\"1\" class=\"dataframe\">\n",
       "  <thead>\n",
       "    <tr style=\"text-align: right;\">\n",
       "      <th></th>\n",
       "      <th>Sentiment</th>\n",
       "      <th>Headline</th>\n",
       "    </tr>\n",
       "  </thead>\n",
       "  <tbody>\n",
       "    <tr>\n",
       "      <td>0</td>\n",
       "      <td>negative</td>\n",
       "      <td>Finnish technology company Raute Corporation ( OMX Helsinki : RUTAV ) issued on Tuesday ( 23 September ) a profit warning for the financial year 2008 .</td>\n",
       "    </tr>\n",
       "    <tr>\n",
       "      <td>1</td>\n",
       "      <td>negative</td>\n",
       "      <td>Finnish meat company Atria can no longer promise a sufficient amount of domestic beef to its customers .</td>\n",
       "    </tr>\n",
       "    <tr>\n",
       "      <td>2</td>\n",
       "      <td>negative</td>\n",
       "      <td>Profit for the period was EUR 10.9 mn , down from EUR 14.3 mn in 2009 .</td>\n",
       "    </tr>\n",
       "    <tr>\n",
       "      <td>3</td>\n",
       "      <td>neutral</td>\n",
       "      <td>The contracts between Raute Corporation and Muling Kemian Wood Products Co. , Ltd. , which were announced on 3 November 2010 , have taken effect .</td>\n",
       "    </tr>\n",
       "    <tr>\n",
       "      <td>4</td>\n",
       "      <td>positive</td>\n",
       "      <td>Significance : Teleste has emphasised that with its large size and growing economy , as well as the rapid development of its TV services distribution industry , Poland is viewed as an attractive market .</td>\n",
       "    </tr>\n",
       "  </tbody>\n",
       "</table>\n",
       "</div>"
      ],
      "text/plain": [
       "  Sentiment  \\\n",
       "0  negative   \n",
       "1  negative   \n",
       "2  negative   \n",
       "3  neutral    \n",
       "4  positive   \n",
       "\n",
       "                                                                                                                                                                                                      Headline  \n",
       "0  Finnish technology company Raute Corporation ( OMX Helsinki : RUTAV ) issued on Tuesday ( 23 September ) a profit warning for the financial year 2008 .                                                      \n",
       "1  Finnish meat company Atria can no longer promise a sufficient amount of domestic beef to its customers .                                                                                                     \n",
       "2  Profit for the period was EUR 10.9 mn , down from EUR 14.3 mn in 2009 .                                                                                                                                      \n",
       "3  The contracts between Raute Corporation and Muling Kemian Wood Products Co. , Ltd. , which were announced on 3 November 2010 , have taken effect .                                                           \n",
       "4  Significance : Teleste has emphasised that with its large size and growing economy , as well as the rapid development of its TV services distribution industry , Poland is viewed as an attractive market .  "
      ]
     },
     "metadata": {},
     "output_type": "display_data"
    },
    {
     "name": "stdout",
     "output_type": "stream",
     "text": [
      "Shape: (4846, 2) \n",
      "\n",
      "\n",
      "<class 'pandas.core.frame.DataFrame'>\n",
      "RangeIndex: 4846 entries, 0 to 4845\n",
      "Data columns (total 2 columns):\n",
      "Sentiment    4846 non-null object\n",
      "Headline     4846 non-null object\n",
      "dtypes: object(2)\n",
      "memory usage: 75.8+ KB\n",
      "None\n"
     ]
    }
   ],
   "source": [
    "df = pd.read_csv('all-data.csv', names = ['Sentiment', 'Headline'], \n",
    "                 encoding='latin-1')\n",
    "df = df.sample(frac=1).reset_index(drop=True) # Shuffling the data in case there's an ordering bias\n",
    "display(df.head())\n",
    "print(\"Shape:\", df.shape, \"\\n\\n\")\n",
    "print(df.info())"
   ]
  },
  {
   "cell_type": "code",
   "execution_count": 3,
   "metadata": {},
   "outputs": [
    {
     "data": {
      "text/plain": [
       "neutral     2879\n",
       "positive    1363\n",
       "negative    604 \n",
       "Name: Sentiment, dtype: int64"
      ]
     },
     "execution_count": 3,
     "metadata": {},
     "output_type": "execute_result"
    }
   ],
   "source": [
    "# Let's take a look at the number of instances of each sentiment:\n",
    "df.Sentiment.value_counts()\n",
    "# Not too many negatives.  This may prove to be an issue later on, but for now, let's keep moving."
   ]
  },
  {
   "cell_type": "markdown",
   "metadata": {},
   "source": [
    "# Cleaning Data:"
   ]
  },
  {
   "cell_type": "markdown",
   "metadata": {},
   "source": [
    "First, the labels need to be changed to numerical values in order to go through the neural network later on. Due to a low number of negative articles compared to the rest, I'll be treating this as a binary problem: 'Positive' vs 'Not Positive'."
   ]
  },
  {
   "cell_type": "markdown",
   "metadata": {},
   "source": [
    "- 0 is Negative or Neutral\n",
    "- 1 is Positive"
   ]
  },
  {
   "cell_type": "code",
   "execution_count": 4,
   "metadata": {},
   "outputs": [
    {
     "data": {
      "text/html": [
       "<div>\n",
       "<style scoped>\n",
       "    .dataframe tbody tr th:only-of-type {\n",
       "        vertical-align: middle;\n",
       "    }\n",
       "\n",
       "    .dataframe tbody tr th {\n",
       "        vertical-align: top;\n",
       "    }\n",
       "\n",
       "    .dataframe thead th {\n",
       "        text-align: right;\n",
       "    }\n",
       "</style>\n",
       "<table border=\"1\" class=\"dataframe\">\n",
       "  <thead>\n",
       "    <tr style=\"text-align: right;\">\n",
       "      <th></th>\n",
       "      <th>Sentiment</th>\n",
       "      <th>Headline</th>\n",
       "    </tr>\n",
       "  </thead>\n",
       "  <tbody>\n",
       "    <tr>\n",
       "      <td>0</td>\n",
       "      <td>0</td>\n",
       "      <td>Finnish technology company Raute Corporation ( OMX Helsinki : RUTAV ) issued on Tuesday ( 23 September ) a profit warning for the financial year 2008 .</td>\n",
       "    </tr>\n",
       "    <tr>\n",
       "      <td>1</td>\n",
       "      <td>0</td>\n",
       "      <td>Finnish meat company Atria can no longer promise a sufficient amount of domestic beef to its customers .</td>\n",
       "    </tr>\n",
       "    <tr>\n",
       "      <td>2</td>\n",
       "      <td>0</td>\n",
       "      <td>Profit for the period was EUR 10.9 mn , down from EUR 14.3 mn in 2009 .</td>\n",
       "    </tr>\n",
       "    <tr>\n",
       "      <td>3</td>\n",
       "      <td>0</td>\n",
       "      <td>The contracts between Raute Corporation and Muling Kemian Wood Products Co. , Ltd. , which were announced on 3 November 2010 , have taken effect .</td>\n",
       "    </tr>\n",
       "    <tr>\n",
       "      <td>4</td>\n",
       "      <td>1</td>\n",
       "      <td>Significance : Teleste has emphasised that with its large size and growing economy , as well as the rapid development of its TV services distribution industry , Poland is viewed as an attractive market .</td>\n",
       "    </tr>\n",
       "  </tbody>\n",
       "</table>\n",
       "</div>"
      ],
      "text/plain": [
       "   Sentiment  \\\n",
       "0  0           \n",
       "1  0           \n",
       "2  0           \n",
       "3  0           \n",
       "4  1           \n",
       "\n",
       "                                                                                                                                                                                                      Headline  \n",
       "0  Finnish technology company Raute Corporation ( OMX Helsinki : RUTAV ) issued on Tuesday ( 23 September ) a profit warning for the financial year 2008 .                                                      \n",
       "1  Finnish meat company Atria can no longer promise a sufficient amount of domestic beef to its customers .                                                                                                     \n",
       "2  Profit for the period was EUR 10.9 mn , down from EUR 14.3 mn in 2009 .                                                                                                                                      \n",
       "3  The contracts between Raute Corporation and Muling Kemian Wood Products Co. , Ltd. , which were announced on 3 November 2010 , have taken effect .                                                           \n",
       "4  Significance : Teleste has emphasised that with its large size and growing economy , as well as the rapid development of its TV services distribution industry , Poland is viewed as an attractive market .  "
      ]
     },
     "execution_count": 4,
     "metadata": {},
     "output_type": "execute_result"
    }
   ],
   "source": [
    "# BINARY\n",
    "df['Sentiment'] = df['Sentiment'].map(lambda x: 1 if x == 'positive' else 0)\n",
    "df.head()"
   ]
  },
  {
   "cell_type": "markdown",
   "metadata": {},
   "source": [
    "## Stopwords:"
   ]
  },
  {
   "cell_type": "markdown",
   "metadata": {},
   "source": [
    "Next, we can remove all the 'stopwords' that can clog up the system later on.  The punctuation will get filtered out later."
   ]
  },
  {
   "cell_type": "code",
   "execution_count": 5,
   "metadata": {},
   "outputs": [],
   "source": [
    "stop = set(stopwords.words('english'))\n",
    "stop.add(\"'s\")\n",
    "def remove_stopwords(text):\n",
    "    text = [word.lower() for word in text.split() if word.lower() not in stop]\n",
    "    return \" \".join(text)\n",
    "\n",
    "df['Headline'] = df['Headline'].map(remove_stopwords)"
   ]
  },
  {
   "cell_type": "code",
   "execution_count": 6,
   "metadata": {},
   "outputs": [
    {
     "data": {
      "text/html": [
       "<div>\n",
       "<style scoped>\n",
       "    .dataframe tbody tr th:only-of-type {\n",
       "        vertical-align: middle;\n",
       "    }\n",
       "\n",
       "    .dataframe tbody tr th {\n",
       "        vertical-align: top;\n",
       "    }\n",
       "\n",
       "    .dataframe thead th {\n",
       "        text-align: right;\n",
       "    }\n",
       "</style>\n",
       "<table border=\"1\" class=\"dataframe\">\n",
       "  <thead>\n",
       "    <tr style=\"text-align: right;\">\n",
       "      <th></th>\n",
       "      <th>Sentiment</th>\n",
       "      <th>Headline</th>\n",
       "    </tr>\n",
       "  </thead>\n",
       "  <tbody>\n",
       "    <tr>\n",
       "      <td>0</td>\n",
       "      <td>0</td>\n",
       "      <td>finnish technology company raute corporation ( omx helsinki : rutav ) issued tuesday ( 23 september ) profit warning financial year 2008 .</td>\n",
       "    </tr>\n",
       "    <tr>\n",
       "      <td>1</td>\n",
       "      <td>0</td>\n",
       "      <td>finnish meat company atria longer promise sufficient amount domestic beef customers .</td>\n",
       "    </tr>\n",
       "    <tr>\n",
       "      <td>2</td>\n",
       "      <td>0</td>\n",
       "      <td>profit period eur 10.9 mn , eur 14.3 mn 2009 .</td>\n",
       "    </tr>\n",
       "    <tr>\n",
       "      <td>3</td>\n",
       "      <td>0</td>\n",
       "      <td>contracts raute corporation muling kemian wood products co. , ltd. , announced 3 november 2010 , taken effect .</td>\n",
       "    </tr>\n",
       "    <tr>\n",
       "      <td>4</td>\n",
       "      <td>1</td>\n",
       "      <td>significance : teleste emphasised large size growing economy , well rapid development tv services distribution industry , poland viewed attractive market .</td>\n",
       "    </tr>\n",
       "  </tbody>\n",
       "</table>\n",
       "</div>"
      ],
      "text/plain": [
       "   Sentiment  \\\n",
       "0  0           \n",
       "1  0           \n",
       "2  0           \n",
       "3  0           \n",
       "4  1           \n",
       "\n",
       "                                                                                                                                                      Headline  \n",
       "0  finnish technology company raute corporation ( omx helsinki : rutav ) issued tuesday ( 23 september ) profit warning financial year 2008 .                   \n",
       "1  finnish meat company atria longer promise sufficient amount domestic beef customers .                                                                        \n",
       "2  profit period eur 10.9 mn , eur 14.3 mn 2009 .                                                                                                               \n",
       "3  contracts raute corporation muling kemian wood products co. , ltd. , announced 3 november 2010 , taken effect .                                              \n",
       "4  significance : teleste emphasised large size growing economy , well rapid development tv services distribution industry , poland viewed attractive market .  "
      ]
     },
     "execution_count": 6,
     "metadata": {},
     "output_type": "execute_result"
    }
   ],
   "source": [
    "df.head()"
   ]
  },
  {
   "cell_type": "markdown",
   "metadata": {},
   "source": [
    "## Lemmatization:"
   ]
  },
  {
   "cell_type": "code",
   "execution_count": 7,
   "metadata": {},
   "outputs": [],
   "source": [
    "def get_wordnet_pos(word):\n",
    "    \"\"\"Map POS tag to first character lemmatize() accepts\"\"\"\n",
    "    tag = nltk.pos_tag([word])[0][1][0].upper()\n",
    "    tag_dict = {\"J\": wordnet.ADJ,\n",
    "                \"N\": wordnet.NOUN,\n",
    "                \"V\": wordnet.VERB,\n",
    "                \"R\": wordnet.ADV}\n",
    "\n",
    "    return tag_dict.get(tag, wordnet.NOUN)"
   ]
  },
  {
   "cell_type": "code",
   "execution_count": 8,
   "metadata": {},
   "outputs": [],
   "source": [
    "wordnet_lemmatizer = WordNetLemmatizer()\n",
    "\n",
    "def lemmatize(text):\n",
    "    text = [wordnet_lemmatizer.lemmatize(word, get_wordnet_pos(word)) for word in text.split()]\n",
    "    return \" \".join(text)\n",
    "\n",
    "df['Headline'] = df['Headline'].map(lemmatize)"
   ]
  },
  {
   "cell_type": "code",
   "execution_count": 9,
   "metadata": {},
   "outputs": [
    {
     "data": {
      "text/html": [
       "<div>\n",
       "<style scoped>\n",
       "    .dataframe tbody tr th:only-of-type {\n",
       "        vertical-align: middle;\n",
       "    }\n",
       "\n",
       "    .dataframe tbody tr th {\n",
       "        vertical-align: top;\n",
       "    }\n",
       "\n",
       "    .dataframe thead th {\n",
       "        text-align: right;\n",
       "    }\n",
       "</style>\n",
       "<table border=\"1\" class=\"dataframe\">\n",
       "  <thead>\n",
       "    <tr style=\"text-align: right;\">\n",
       "      <th></th>\n",
       "      <th>Sentiment</th>\n",
       "      <th>Headline</th>\n",
       "    </tr>\n",
       "  </thead>\n",
       "  <tbody>\n",
       "    <tr>\n",
       "      <td>0</td>\n",
       "      <td>0</td>\n",
       "      <td>finnish technology company raute corporation ( omx helsinki : rutav ) issue tuesday ( 23 september ) profit warn financial year 2008 .</td>\n",
       "    </tr>\n",
       "    <tr>\n",
       "      <td>1</td>\n",
       "      <td>0</td>\n",
       "      <td>finnish meat company atrium longer promise sufficient amount domestic beef customer .</td>\n",
       "    </tr>\n",
       "    <tr>\n",
       "      <td>2</td>\n",
       "      <td>0</td>\n",
       "      <td>profit period eur 10.9 mn , eur 14.3 mn 2009 .</td>\n",
       "    </tr>\n",
       "    <tr>\n",
       "      <td>3</td>\n",
       "      <td>0</td>\n",
       "      <td>contract raute corporation muling kemian wood product co. , ltd. , announce 3 november 2010 , take effect .</td>\n",
       "    </tr>\n",
       "    <tr>\n",
       "      <td>4</td>\n",
       "      <td>1</td>\n",
       "      <td>significance : teleste emphasise large size grow economy , well rapid development tv service distribution industry , poland view attractive market .</td>\n",
       "    </tr>\n",
       "  </tbody>\n",
       "</table>\n",
       "</div>"
      ],
      "text/plain": [
       "   Sentiment  \\\n",
       "0  0           \n",
       "1  0           \n",
       "2  0           \n",
       "3  0           \n",
       "4  1           \n",
       "\n",
       "                                                                                                                                               Headline  \n",
       "0  finnish technology company raute corporation ( omx helsinki : rutav ) issue tuesday ( 23 september ) profit warn financial year 2008 .                \n",
       "1  finnish meat company atrium longer promise sufficient amount domestic beef customer .                                                                 \n",
       "2  profit period eur 10.9 mn , eur 14.3 mn 2009 .                                                                                                        \n",
       "3  contract raute corporation muling kemian wood product co. , ltd. , announce 3 november 2010 , take effect .                                           \n",
       "4  significance : teleste emphasise large size grow economy , well rapid development tv service distribution industry , poland view attractive market .  "
      ]
     },
     "execution_count": 9,
     "metadata": {},
     "output_type": "execute_result"
    }
   ],
   "source": [
    "# Still looking good\n",
    "df.head()"
   ]
  },
  {
   "cell_type": "markdown",
   "metadata": {},
   "source": [
    "# EDA:"
   ]
  },
  {
   "cell_type": "markdown",
   "metadata": {},
   "source": [
    "Let's explore some word clouds to see the most commonly occurring words for each label."
   ]
  },
  {
   "cell_type": "code",
   "execution_count": 10,
   "metadata": {},
   "outputs": [],
   "source": [
    "# Separating out the categories\n",
    "pos = df.Headline[df.Sentiment[df.Sentiment== 1].index]\n",
    "neg = df.Headline[df.Sentiment[df.Sentiment== 0].index]"
   ]
  },
  {
   "cell_type": "code",
   "execution_count": 11,
   "metadata": {},
   "outputs": [],
   "source": [
    " def wordcloud(dataset):\n",
    "    plt.figure(figsize = (18,24)) # Text Reviews with positive Ratings\n",
    "    wordcloud = WordCloud(min_font_size = 3,  max_words = 2500 , width = 1200 , height = 800).generate(\" \".join(dataset))\n",
    "    plt.imshow(wordcloud,interpolation = 'bilinear')\n",
    "    plt.axis(\"off\")\n",
    "    plt.tight_layout(pad=0)\n",
    "    plt.show();\n",
    "\n",
    "def show_wordclouds():\n",
    "    print ('Positive Sentiment Wordcloud:')\n",
    "    wordcloud(pos)\n",
    "    ###\n",
    "    print ('Negative Sentiment Wordcloud:')\n",
    "    wordcloud(neg)\n",
    "    ###\n",
    "    "
   ]
  },
  {
   "cell_type": "code",
   "execution_count": 12,
   "metadata": {
    "scrolled": true
   },
   "outputs": [],
   "source": [
    "# Showing Word Clounds\n",
    "#show_wordclouds()"
   ]
  },
  {
   "cell_type": "markdown",
   "metadata": {},
   "source": [
    "Not too much useful information here.  There are some more words we can clean, but I would like to stay on the conservative side for now."
   ]
  },
  {
   "cell_type": "markdown",
   "metadata": {},
   "source": [
    "# Additional Cleaning:"
   ]
  },
  {
   "cell_type": "markdown",
   "metadata": {},
   "source": [
    "As we saw above, there are a few words that are quite common that occur in all 3 labels.  We'll add this to these to the stop word list and run the headlines through the filter again:\n",
    "- 'finnish'\n",
    "- 'say'\n",
    "- 'company'\n",
    "I'm leaving in 'eur' for now as it doesn't appear heavily in the 'Neutral' category.  This may help later on.  Depending on how the neural network performs later, I may or may not activate the following cells."
   ]
  },
  {
   "cell_type": "code",
   "execution_count": 13,
   "metadata": {},
   "outputs": [],
   "source": [
    "# Taking out a few more stop words:\n",
    "stop.add(\"finnish\")\n",
    "stop.add(\"say\")\n",
    "stop.add(\"company\")\n",
    "\n",
    "df['Headline'] = df['Headline'].map(remove_stopwords)"
   ]
  },
  {
   "cell_type": "code",
   "execution_count": 14,
   "metadata": {},
   "outputs": [
    {
     "data": {
      "text/html": [
       "<div>\n",
       "<style scoped>\n",
       "    .dataframe tbody tr th:only-of-type {\n",
       "        vertical-align: middle;\n",
       "    }\n",
       "\n",
       "    .dataframe tbody tr th {\n",
       "        vertical-align: top;\n",
       "    }\n",
       "\n",
       "    .dataframe thead th {\n",
       "        text-align: right;\n",
       "    }\n",
       "</style>\n",
       "<table border=\"1\" class=\"dataframe\">\n",
       "  <thead>\n",
       "    <tr style=\"text-align: right;\">\n",
       "      <th></th>\n",
       "      <th>Sentiment</th>\n",
       "      <th>Headline</th>\n",
       "    </tr>\n",
       "  </thead>\n",
       "  <tbody>\n",
       "    <tr>\n",
       "      <td>0</td>\n",
       "      <td>0</td>\n",
       "      <td>technology raute corporation ( omx helsinki : rutav ) issue tuesday ( 23 september ) profit warn financial year 2008 .</td>\n",
       "    </tr>\n",
       "    <tr>\n",
       "      <td>1</td>\n",
       "      <td>0</td>\n",
       "      <td>meat atrium longer promise sufficient amount domestic beef customer .</td>\n",
       "    </tr>\n",
       "    <tr>\n",
       "      <td>2</td>\n",
       "      <td>0</td>\n",
       "      <td>profit period eur 10.9 mn , eur 14.3 mn 2009 .</td>\n",
       "    </tr>\n",
       "    <tr>\n",
       "      <td>3</td>\n",
       "      <td>0</td>\n",
       "      <td>contract raute corporation muling kemian wood product co. , ltd. , announce 3 november 2010 , take effect .</td>\n",
       "    </tr>\n",
       "    <tr>\n",
       "      <td>4</td>\n",
       "      <td>1</td>\n",
       "      <td>significance : teleste emphasise large size grow economy , well rapid development tv service distribution industry , poland view attractive market .</td>\n",
       "    </tr>\n",
       "  </tbody>\n",
       "</table>\n",
       "</div>"
      ],
      "text/plain": [
       "   Sentiment  \\\n",
       "0  0           \n",
       "1  0           \n",
       "2  0           \n",
       "3  0           \n",
       "4  1           \n",
       "\n",
       "                                                                                                                                               Headline  \n",
       "0  technology raute corporation ( omx helsinki : rutav ) issue tuesday ( 23 september ) profit warn financial year 2008 .                                \n",
       "1  meat atrium longer promise sufficient amount domestic beef customer .                                                                                 \n",
       "2  profit period eur 10.9 mn , eur 14.3 mn 2009 .                                                                                                        \n",
       "3  contract raute corporation muling kemian wood product co. , ltd. , announce 3 november 2010 , take effect .                                           \n",
       "4  significance : teleste emphasise large size grow economy , well rapid development tv service distribution industry , poland view attractive market .  "
      ]
     },
     "execution_count": 14,
     "metadata": {},
     "output_type": "execute_result"
    }
   ],
   "source": [
    "# Starting to feel a little like caveman speak, but hopefully this will be easier for the model to read!\n",
    "df.head()"
   ]
  },
  {
   "cell_type": "code",
   "execution_count": 15,
   "metadata": {},
   "outputs": [],
   "source": [
    "pos = df.Headline[df.Sentiment[df.Sentiment== 1].index]\n",
    "neg = df.Headline[df.Sentiment[df.Sentiment== 0].index]\n"
   ]
  },
  {
   "cell_type": "code",
   "execution_count": 16,
   "metadata": {
    "scrolled": true
   },
   "outputs": [],
   "source": [
    "# Showing Word Clounds with additional words removed\n",
    "#show_wordclouds()"
   ]
  },
  {
   "cell_type": "markdown",
   "metadata": {},
   "source": [
    "# Counter:"
   ]
  },
  {
   "cell_type": "code",
   "execution_count": 17,
   "metadata": {},
   "outputs": [],
   "source": [
    "def counter_word(text):\n",
    "    count = Counter()\n",
    "    for i in text.values:\n",
    "        for word in i.split():\n",
    "            count[word] += 1\n",
    "    return count"
   ]
  },
  {
   "cell_type": "code",
   "execution_count": 18,
   "metadata": {},
   "outputs": [],
   "source": [
    "text = df.Headline\n",
    "counter = counter_word(text)"
   ]
  },
  {
   "cell_type": "code",
   "execution_count": 19,
   "metadata": {},
   "outputs": [
    {
     "data": {
      "text/plain": [
       "10094"
      ]
     },
     "execution_count": 19,
     "metadata": {},
     "output_type": "execute_result"
    }
   ],
   "source": [
    "len(counter)"
   ]
  },
  {
   "cell_type": "code",
   "execution_count": 20,
   "metadata": {
    "scrolled": true
   },
   "outputs": [
    {
     "data": {
      "text/plain": [
       "Counter({'technology': 145,\n",
       "         'raute': 18,\n",
       "         'corporation': 130,\n",
       "         '(': 513,\n",
       "         'omx': 91,\n",
       "         'helsinki': 163,\n",
       "         ':': 363,\n",
       "         'rutav': 4,\n",
       "         ')': 515,\n",
       "         'issue': 72,\n",
       "         'tuesday': 22,\n",
       "         '23': 22,\n",
       "         'september': 64,\n",
       "         'profit': 413,\n",
       "         'warn': 12,\n",
       "         'financial': 133,\n",
       "         'year': 323,\n",
       "         '2008': 283,\n",
       "         '.': 4780,\n",
       "         'meat': 21,\n",
       "         'atrium': 23,\n",
       "         'longer': 6,\n",
       "         'promise': 4,\n",
       "         'sufficient': 3,\n",
       "         'amount': 81,\n",
       "         'domestic': 16,\n",
       "         'beef': 3,\n",
       "         'customer': 139,\n",
       "         'period': 266,\n",
       "         'eur': 1015,\n",
       "         '10.9': 2,\n",
       "         'mn': 515,\n",
       "         ',': 4662,\n",
       "         '14.3': 3,\n",
       "         '2009': 297,\n",
       "         'contract': 177,\n",
       "         'muling': 1,\n",
       "         'kemian': 1,\n",
       "         'wood': 18,\n",
       "         'product': 187,\n",
       "         'co.': 9,\n",
       "         'ltd.': 17,\n",
       "         'announce': 74,\n",
       "         '3': 37,\n",
       "         'november': 38,\n",
       "         '2010': 238,\n",
       "         'take': 62,\n",
       "         'effect': 23,\n",
       "         'significance': 1,\n",
       "         'teleste': 28,\n",
       "         'emphasise': 1,\n",
       "         'large': 84,\n",
       "         'size': 15,\n",
       "         'grow': 63,\n",
       "         'economy': 7,\n",
       "         'well': 116,\n",
       "         'rapid': 5,\n",
       "         'development': 91,\n",
       "         'tv': 9,\n",
       "         'service': 341,\n",
       "         'distribution': 41,\n",
       "         'industry': 104,\n",
       "         'poland': 22,\n",
       "         'view': 11,\n",
       "         'attractive': 3,\n",
       "         'market': 288,\n",
       "         'scanfil': 26,\n",
       "         'holding': 18,\n",
       "         'include': 196,\n",
       "         '100': 33,\n",
       "         '%': 445,\n",
       "         'electronics': 50,\n",
       "         'manufacturer': 60,\n",
       "         'em': 6,\n",
       "         'group': 327,\n",
       "         'need': 30,\n",
       "         'ready': 8,\n",
       "         'window': 10,\n",
       "         'open': 25,\n",
       "         'rosberg': 1,\n",
       "         'value': 112,\n",
       "         'eur1': 28,\n",
       "         '.0': 14,\n",
       "         'm.': 26,\n",
       "         'poyry': 28,\n",
       "         'headquarter': 33,\n",
       "         'vantaa': 12,\n",
       "         'finland': 337,\n",
       "         'provide': 113,\n",
       "         'consult': 12,\n",
       "         'engineering': 55,\n",
       "         'energy': 51,\n",
       "         'forestry': 10,\n",
       "         'infrastructure': 27,\n",
       "         '&': 78,\n",
       "         'environment': 18,\n",
       "         'sector': 59,\n",
       "         'operating': 299,\n",
       "         'loss': 160,\n",
       "         'non-recurring': 28,\n",
       "         'item': 33,\n",
       "         '0.9': 7,\n",
       "         'compare': 151,\n",
       "         '11.5': 2,\n",
       "         'stora': 42,\n",
       "         'enso': 39,\n",
       "         'record': 30,\n",
       "         'capital': 111,\n",
       "         'gain': 19,\n",
       "         '33': 13,\n",
       "         'million': 441,\n",
       "         'fourth': 31,\n",
       "         'quarter': 242,\n",
       "         '2006': 173,\n",
       "         'result': 122,\n",
       "         'keep': 5,\n",
       "         'commercial': 27,\n",
       "         'independence': 1,\n",
       "         'continue': 62,\n",
       "         'traditional': 4,\n",
       "         'individually': 1,\n",
       "         'ceo': 78,\n",
       "         'erkki': 4,\n",
       "         'j+ærvinen': 1,\n",
       "         'happy': 6,\n",
       "         'performance': 33,\n",
       "         'rl-nordic': 1,\n",
       "         'part': 99,\n",
       "         'raiffeisen-banking-group': 1,\n",
       "         'austria': 8,\n",
       "         'subsidiary': 62,\n",
       "         'raiffeisen-leasing': 1,\n",
       "         'gmbh': 8,\n",
       "         '-': 303,\n",
       "         'beijing': 4,\n",
       "         'xfn-asia': 1,\n",
       "         'hong': 9,\n",
       "         'kong-listed': 2,\n",
       "         'standard': 16,\n",
       "         'charter': 7,\n",
       "         'bank': 144,\n",
       "         'sign': 81,\n",
       "         'china': 51,\n",
       "         'mobile': 134,\n",
       "         'phone': 63,\n",
       "         'dealer': 8,\n",
       "         'financing': 17,\n",
       "         'agreement': 124,\n",
       "         'nokia': 139,\n",
       "         'make': 125,\n",
       "         'first': 193,\n",
       "         'foreign': 9,\n",
       "         'offer': 65,\n",
       "         'country': 75,\n",
       "         'small': 30,\n",
       "         'medium': 77,\n",
       "         'enterprise': 16,\n",
       "         '-lr': 1,\n",
       "         '2001': 9,\n",
       "         'expire': 3,\n",
       "         'earlier': 83,\n",
       "         'month': 76,\n",
       "         'pioneer': 4,\n",
       "         'library': 5,\n",
       "         'system': 140,\n",
       "         'one': 93,\n",
       "         '127': 1,\n",
       "         'municipality': 7,\n",
       "         'art': 12,\n",
       "         'culture': 4,\n",
       "         'high': 65,\n",
       "         'education': 1,\n",
       "         'science': 13,\n",
       "         'organization': 20,\n",
       "         'award': 41,\n",
       "         'grant': 11,\n",
       "         'participate': 14,\n",
       "         'big': 23,\n",
       "         'read': 5,\n",
       "         'federal': 7,\n",
       "         'reading': 3,\n",
       "         'program': 43,\n",
       "         'u.s.': 28,\n",
       "         'history': 7,\n",
       "         'eqt': 4,\n",
       "         'complete': 58,\n",
       "         'exit': 2,\n",
       "         'salcomp': 14,\n",
       "         'charger': 13,\n",
       "         'sell': 91,\n",
       "         'remain': 49,\n",
       "         'stake': 62,\n",
       "         'swedish': 45,\n",
       "         'investment': 134,\n",
       "         'nordstjernan': 6,\n",
       "         'euro': 226,\n",
       "         '35': 12,\n",
       "         '$': 215,\n",
       "         '47': 5,\n",
       "         'change': 47,\n",
       "         'situation': 33,\n",
       "         'tougher': 1,\n",
       "         'price': 111,\n",
       "         'competition': 17,\n",
       "         'substantially': 1,\n",
       "         'reduce': 22,\n",
       "         'demand': 35,\n",
       "         'bread': 1,\n",
       "         'packaging': 27,\n",
       "         'manufacture': 36,\n",
       "         'kauhava': 1,\n",
       "         'plant': 148,\n",
       "         'accord': 123,\n",
       "         'relation': 5,\n",
       "         'city': 37,\n",
       "         'damage': 4,\n",
       "         'comment': 18,\n",
       "         'mr': 18,\n",
       "         'ashley': 2,\n",
       "         'criticise': 2,\n",
       "         'investor': 43,\n",
       "         'analyst': 30,\n",
       "         '``': 254,\n",
       "         'cry': 1,\n",
       "         'baby': 2,\n",
       "         \"''\": 217,\n",
       "         'kershaw': 1,\n",
       "         'position': 46,\n",
       "         'immediate': 6,\n",
       "         'previous': 28,\n",
       "         'role': 9,\n",
       "         'marketing': 29,\n",
       "         'manager': 26,\n",
       "         'sankey': 1,\n",
       "         'home': 25,\n",
       "         'garden': 8,\n",
       "         'comply': 2,\n",
       "         'european': 28,\n",
       "         'water': 27,\n",
       "         'framework': 6,\n",
       "         'directive': 1,\n",
       "         'requirement': 8,\n",
       "         'pre-treatment': 1,\n",
       "         'unit': 135,\n",
       "         'fully': 15,\n",
       "         'renovate': 3,\n",
       "         'hydraulics': 2,\n",
       "         'waste': 12,\n",
       "         'inception': 2,\n",
       "         'degridding': 1,\n",
       "         'sand': 1,\n",
       "         'grease': 1,\n",
       "         'removal': 4,\n",
       "         'treatment': 17,\n",
       "         'deodorization': 1,\n",
       "         'video': 23,\n",
       "         'broadband': 20,\n",
       "         'solution': 172,\n",
       "         'business': 285,\n",
       "         'area': 96,\n",
       "         'economic': 15,\n",
       "         'place': 41,\n",
       "         'east': 12,\n",
       "         'coast': 8,\n",
       "         'shanghai': 7,\n",
       "         'vauramo': 2,\n",
       "         'serf': 6,\n",
       "         'various': 16,\n",
       "         'process': 56,\n",
       "         'resource': 25,\n",
       "         'industrial': 47,\n",
       "         'machinery': 46,\n",
       "         'architecture': 2,\n",
       "         'building': 96,\n",
       "         'construction': 109,\n",
       "         'electrical': 11,\n",
       "         'transportation': 15,\n",
       "         'chemical': 23,\n",
       "         'petrochemical': 2,\n",
       "         'information': 59,\n",
       "         'catering': 2,\n",
       "         'household': 4,\n",
       "         'uncertainty': 4,\n",
       "         'still': 13,\n",
       "         'exist': 25,\n",
       "         'however': 58,\n",
       "         'cosmetic': 3,\n",
       "         'collection': 6,\n",
       "         'eye': 4,\n",
       "         'shadow': 1,\n",
       "         'face': 6,\n",
       "         'powder': 5,\n",
       "         'lip': 1,\n",
       "         'gloss': 1,\n",
       "         'mascara': 1,\n",
       "         'accessory': 10,\n",
       "         'tool': 24,\n",
       "         'scissors': 6,\n",
       "         'consumer': 45,\n",
       "         'good': 40,\n",
       "         'earnings': 50,\n",
       "         'boost': 7,\n",
       "         '6.9': 4,\n",
       "         'mln': 287,\n",
       "         'income': 26,\n",
       "         'receive': 39,\n",
       "         '16.7': 3,\n",
       "         'pct': 99,\n",
       "         'shareholding': 5,\n",
       "         'wartsila': 11,\n",
       "         'stood': 14,\n",
       "         '39.6': 2,\n",
       "         '57.9': 1,\n",
       "         'improve': 45,\n",
       "         '7.7': 5,\n",
       "         'together': 13,\n",
       "         'latvia': 13,\n",
       "         'cramo': 25,\n",
       "         'operate': 14,\n",
       "         '54': 2,\n",
       "         'rental': 29,\n",
       "         'outlet': 6,\n",
       "         'baltic': 47,\n",
       "         'state': 45,\n",
       "         'loan': 24,\n",
       "         'use': 118,\n",
       "         'finance': 15,\n",
       "         'strategic': 25,\n",
       "         'shopping': 18,\n",
       "         'center': 40,\n",
       "         'redevelopment': 1,\n",
       "         'project': 124,\n",
       "         'refinance': 4,\n",
       "         'mature': 5,\n",
       "         'debt': 10,\n",
       "         'maximum': 23,\n",
       "         'eur30m': 3,\n",
       "         'minimum': 1,\n",
       "         'subscription': 33,\n",
       "         '--': 64,\n",
       "         'eur10': 7,\n",
       "         ',000': 19,\n",
       "         'net': 413,\n",
       "         'sale': 501,\n",
       "         'expect': 133,\n",
       "         'level': 41,\n",
       "         '2007': 243,\n",
       "         'purchase': 43,\n",
       "         'become': 34,\n",
       "         'second': 83,\n",
       "         'provider': 51,\n",
       "         'latvian': 5,\n",
       "         '+_land': 11,\n",
       "         'report': 143,\n",
       "         'fell': 56,\n",
       "         '4.9': 5,\n",
       "         'third': 77,\n",
       "         '5.6': 2,\n",
       "         'absolut': 1,\n",
       "         'explore': 3,\n",
       "         'possibility': 2,\n",
       "         'borrowing': 1,\n",
       "         'final': 10,\n",
       "         'specify': 4,\n",
       "         '14': 24,\n",
       "         'may': 61,\n",
       "         'acquire': 73,\n",
       "         'full': 23,\n",
       "         'midnighttrader': 4,\n",
       "         'extended-hours': 2,\n",
       "         'trading': 19,\n",
       "         'analysis': 31,\n",
       "         'news': 67,\n",
       "         'available': 40,\n",
       "         'real-time': 3,\n",
       "         'comtex': 1,\n",
       "         'cost': 66,\n",
       "         'saving': 29,\n",
       "         'rise': 122,\n",
       "         '20': 58,\n",
       "         'oko': 6,\n",
       "         'new': 269,\n",
       "         'delhi': 3,\n",
       "         'july': 32,\n",
       "         '17': 22,\n",
       "         'sahlberg': 1,\n",
       "         'teppo': 1,\n",
       "         'kallio': 2,\n",
       "         'timo': 6,\n",
       "         'mustonen': 1,\n",
       "         'tuomas': 2,\n",
       "         'real': 34,\n",
       "         'oyj': 241,\n",
       "         'espoo': 20,\n",
       "         'developed': 41,\n",
       "         'novel': 7,\n",
       "         'marking': 1,\n",
       "         'method': 20,\n",
       "         'produce': 41,\n",
       "         'america': 33,\n",
       "         'represent': 32,\n",
       "         '25': 30,\n",
       "         'gemalto': 1,\n",
       "         'billing': 7,\n",
       "         'latin': 9,\n",
       "         'fast': 7,\n",
       "         'region': 38,\n",
       "         'biohit': 16,\n",
       "         'vwr': 3,\n",
       "         'close': 46,\n",
       "         'cooperation': 31,\n",
       "         'number': 75,\n",
       "         'u': 50,\n",
       "         'focus': 45,\n",
       "         'supplier': 44,\n",
       "         'c': 10,\n",
       "         'cabot': 2,\n",
       "         'export': 26,\n",
       "         '55': 8,\n",
       "         'production': 130,\n",
       "         'mainly': 18,\n",
       "         'goodyear': 2,\n",
       "         'bridgestone': 2,\n",
       "         'michelin': 2,\n",
       "         'germany': 24,\n",
       "         'italy': 12,\n",
       "         'pirelli': 1,\n",
       "         'logistics': 26,\n",
       "         'paris': 3,\n",
       "         'stefan': 2,\n",
       "         'cover': 54,\n",
       "         'turnkey': 4,\n",
       "         'delivery': 52,\n",
       "         'five': 18,\n",
       "         'airport': 7,\n",
       "         'authority': 17,\n",
       "         'john': 5,\n",
       "         'f': 2,\n",
       "         'kennedy': 1,\n",
       "         'laguardia': 1,\n",
       "         'newark': 1,\n",
       "         'teterboro': 1,\n",
       "         'stewart': 1,\n",
       "         'international': 45,\n",
       "         'world': 53,\n",
       "         'leader': 16,\n",
       "         'develop': 38,\n",
       "         'uv': 2,\n",
       "         'municipal': 3,\n",
       "         'wastewater': 2,\n",
       "         'drinking': 1,\n",
       "         'trojan': 3,\n",
       "         'logical': 2,\n",
       "         'partner': 42,\n",
       "         'w+ærtsil+æ': 4,\n",
       "         'ballast': 1,\n",
       "         'swot': 1,\n",
       "         'categorization': 1,\n",
       "         'weakness': 5,\n",
       "         'bond': 21,\n",
       "         'eur150m': 3,\n",
       "         'maturity': 4,\n",
       "         '4': 39,\n",
       "         'maritim': 2,\n",
       "         'food': 46,\n",
       "         'determine': 7,\n",
       "         'approximately': 69,\n",
       "         'eur15m': 2,\n",
       "         'within': 21,\n",
       "         'forecast': 22,\n",
       "         '2012': 9,\n",
       "         '3.3': 6,\n",
       "         'line': 83,\n",
       "         'hormone': 1,\n",
       "         'i&h': 1,\n",
       "         'move': 32,\n",
       "         'enhance': 8,\n",
       "         'growth': 65,\n",
       "         'difference': 1,\n",
       "         'explain': 5,\n",
       "         'fact': 4,\n",
       "         'two': 85,\n",
       "         'shipping': 23,\n",
       "         'stop': 6,\n",
       "         'gulf': 4,\n",
       "         'dopplr': 3,\n",
       "         'smart': 2,\n",
       "         'traveller': 1,\n",
       "         'cdp': 2,\n",
       "         'establish': 37,\n",
       "         'initiative': 8,\n",
       "         'institutional': 5,\n",
       "         ';': 30,\n",
       "         'annually': 8,\n",
       "         'publish': 36,\n",
       "         'also': 224,\n",
       "         'interest': 33,\n",
       "         'increase': 227,\n",
       "         'reporting': 18,\n",
       "         'deal': 79,\n",
       "         'ten-year': 1,\n",
       "         'maintenance': 33,\n",
       "         'sepp+ænen': 2,\n",
       "         'umts900': 1,\n",
       "         'network': 98,\n",
       "         'one-third': 1,\n",
       "         'low': 59,\n",
       "         '3.5': 15,\n",
       "         'g': 2,\n",
       "         '2,100': 1,\n",
       "         'mhz': 7,\n",
       "         'frequency': 6,\n",
       "         'follow': 50,\n",
       "         'strategy': 38,\n",
       "         'tikkurila': 24,\n",
       "         'fully-owned': 3,\n",
       "         'almaty': 1,\n",
       "         'kazakhstan': 9,\n",
       "         'decorative': 2,\n",
       "         'paint': 12,\n",
       "         'brand': 54,\n",
       "         'russian': 39,\n",
       "         'teks': 2,\n",
       "         'aim': 53,\n",
       "         'convert': 5,\n",
       "         'flexible': 12,\n",
       "         'technologically': 2,\n",
       "         'eur11m': 1,\n",
       "         'add': 48,\n",
       "         'joint': 28,\n",
       "         'venture': 23,\n",
       "         'invest': 35,\n",
       "         '500,000': 5,\n",
       "         'straight': 1,\n",
       "         'away': 5,\n",
       "         'outokumpu': 22,\n",
       "         'chief': 25,\n",
       "         'executive': 28,\n",
       "         'juha': 8,\n",
       "         'rantanen': 3,\n",
       "         'express': 4,\n",
       "         'confidence': 2,\n",
       "         'completion': 14,\n",
       "         'recycle': 14,\n",
       "         'important': 16,\n",
       "         'link': 11,\n",
       "         'chain': 34,\n",
       "         'create': 24,\n",
       "         'management': 88,\n",
       "         'dubna': 2,\n",
       "         'meet': 9,\n",
       "         'eu': 11,\n",
       "         'closing': 8,\n",
       "         'transaction': 60,\n",
       "         'today': 149,\n",
       "         'nasdaq': 19,\n",
       "         'geo1v': 1,\n",
       "         'gypsii': 10,\n",
       "         'developer': 34,\n",
       "         'award-winning': 2,\n",
       "         'social': 15,\n",
       "         'networking': 8,\n",
       "         'application': 57,\n",
       "         'availability': 2,\n",
       "         'free': 10,\n",
       "         'download': 2,\n",
       "         'via': 31,\n",
       "         'samsung': 7,\n",
       "         'store': 51,\n",
       "         'yit': 37,\n",
       "         'acquisition': 79,\n",
       "         'expansion': 19,\n",
       "         'central': 29,\n",
       "         'eastern': 16,\n",
       "         'electricity': 16,\n",
       "         'consumption': 13,\n",
       "         'grows': 1,\n",
       "         'past': 10,\n",
       "         '10': 71,\n",
       "         'factory': 21,\n",
       "         'many': 14,\n",
       "         'popular': 8,\n",
       "         'model': 29,\n",
       "         '2760': 1,\n",
       "         '6300': 1,\n",
       "         'late': 27,\n",
       "         'music': 16,\n",
       "         'device': 56,\n",
       "         '5800': 2,\n",
       "         'finnair': 30,\n",
       "         'believe': 4,\n",
       "         'strike': 7,\n",
       "         'cause': 8,\n",
       "         'daily': 16,\n",
       "         'excess': 7,\n",
       "         '2mn': 3,\n",
       "         'due': 39,\n",
       "         'cancel': 5,\n",
       "         'reservation': 2,\n",
       "         'passenger': 25,\n",
       "         're-routing': 1,\n",
       "         'technopolis': 17,\n",
       "         'europe': 43,\n",
       "         'lead': 62,\n",
       "         'operator': 48,\n",
       "         'technoparks': 2,\n",
       "         'thanks': 9,\n",
       "         'wide': 10,\n",
       "         'contact': 10,\n",
       "         'knowledge': 4,\n",
       "         'give': 61,\n",
       "         'great': 10,\n",
       "         'contribution': 4,\n",
       "         'indian': 15,\n",
       "         'operation': 165,\n",
       "         'tell': 2,\n",
       "         'incap': 25,\n",
       "         'president': 45,\n",
       "         'juhani': 4,\n",
       "         'hanninen': 1,\n",
       "         'post': 36,\n",
       "         '298': 1,\n",
       "         '2005': 104,\n",
       "         '19.5': 1,\n",
       "         'percent': 123,\n",
       "         'year-on-year': 34,\n",
       "         'output': 10,\n",
       "         'total': 250,\n",
       "         '72': 2,\n",
       "         'mwe': 1,\n",
       "         'suominen': 14,\n",
       "         'ltd': 46,\n",
       "         'local': 41,\n",
       "         'textile': 11,\n",
       "         'hel': 120,\n",
       "         'suy1v': 2,\n",
       "         'would': 92,\n",
       "         'start': 99,\n",
       "         'employee': 84,\n",
       "         'negotiation': 48,\n",
       "         'concern': 31,\n",
       "         'entire': 20,\n",
       "         'personnel': 38,\n",
       "         'previously': 35,\n",
       "         'anticipate': 5,\n",
       "         '179mn': 1,\n",
       "         '188mn': 1,\n",
       "         '2.4': 6,\n",
       "         'allow': 10,\n",
       "         'campofrio': 1,\n",
       "         'recently': 19,\n",
       "         'takeover': 9,\n",
       "         'groupe': 1,\n",
       "         'smithfield': 2,\n",
       "         'inc.': 29,\n",
       "         'sfd': 1,\n",
       "         'facility': 70,\n",
       "         'know': 19,\n",
       "         'pulkovo': 3,\n",
       "         'introduce': 14,\n",
       "         'entirely': 2,\n",
       "         'concept': 8,\n",
       "         'commercially-funded': 1,\n",
       "         'park': 22,\n",
       "         'support': 52,\n",
       "         'knowledge-intensive': 1,\n",
       "         'finnlines': 11,\n",
       "         'week': 31,\n",
       "         'measure': 41,\n",
       "         'tackle': 5,\n",
       "         'espoon': 1,\n",
       "         'kaupunki': 1,\n",
       "         'personal': 12,\n",
       "         'care': 6,\n",
       "         'cargotec': 28,\n",
       "         'stadtverwaltung': 1,\n",
       "         'mainz': 1,\n",
       "         'chassis': 1,\n",
       "         'body': 8,\n",
       "         'procedure': 4,\n",
       "         'employment': 13,\n",
       "         'end': 91,\n",
       "         'march': 53,\n",
       "         'employer-employee': 6,\n",
       "         'talk': 15,\n",
       "         'stockmann': 28,\n",
       "         'department': 16,\n",
       "         'floor': 10,\n",
       "         'space': 19,\n",
       "         '8,000': 2,\n",
       "         'square': 21,\n",
       "         'metre': 18,\n",
       "         'tag': 1,\n",
       "         '12': 28,\n",
       "         'divestment': 9,\n",
       "         'fiskars': 34,\n",
       "         'outdoor': 3,\n",
       "         'comprise': 16,\n",
       "         'gerber': 2,\n",
       "         'silva': 3,\n",
       "         'buster': 2,\n",
       "         'multi-tools': 1,\n",
       "         'knife': 1,\n",
       "         'compass': 1,\n",
       "         'light': 13,\n",
       "         'pedometer': 1,\n",
       "         'aluminium': 9,\n",
       "         'boat': 8,\n",
       "         'consolidated': 18,\n",
       "         '4.8': 4,\n",
       "         '6.4': 4,\n",
       "         '28': 19,\n",
       "         'october': 58,\n",
       "         'swung': 8,\n",
       "         'eur3m': 4,\n",
       "         'nine': 44,\n",
       "         'versus': 21,\n",
       "         'eur5': 12,\n",
       "         '.2': 22,\n",
       "         'pay': 21,\n",
       "         'sek90m': 1,\n",
       "         'usd12': 3,\n",
       "         '.8': 23,\n",
       "         'm-eur8': 1,\n",
       "         '.6': 27,\n",
       "         'cash': 47,\n",
       "         'stock': 102,\n",
       "         'p+¦yry': 1,\n",
       "         'cfr': 1,\n",
       "         'national': 17,\n",
       "         'railway': 8,\n",
       "         'romania': 6,\n",
       "         'q2': 7,\n",
       "         'tax': 32,\n",
       "         '13.6': 5,\n",
       "         '26.8': 1,\n",
       "         'adp': 28,\n",
       "         'feb': 11,\n",
       "         '6': 28,\n",
       "         'fishing': 12,\n",
       "         'rapala': 25,\n",
       "         'vmc': 10,\n",
       "         'corp': 17,\n",
       "         'rap1v': 2,\n",
       "         '19.2': 3,\n",
       "         'usd': 72,\n",
       "         '24.6': 2,\n",
       "         '17.5': 4,\n",
       "         'kveyt': 1,\n",
       "         'variety': 7,\n",
       "         'suomalainen': 1,\n",
       "         'pekoni': 1,\n",
       "         'name': 28,\n",
       "         'panostaja': 18,\n",
       "         'financially': 3,\n",
       "         'secure': 18,\n",
       "         'multi-field': 1,\n",
       "         'creates': 4,\n",
       "         'healthy': 3,\n",
       "         'entity': 5,\n",
       "         'among': 14,\n",
       "         'metso': 30,\n",
       "         '0.53': 1,\n",
       "         '40.04': 1,\n",
       "         'b': 17,\n",
       "         '0.77': 1,\n",
       "         '47.87': 1,\n",
       "         'rautaruukki': 22,\n",
       "         'k': 4,\n",
       "         '1.08': 1,\n",
       "         '37.56': 1,\n",
       "         'permanent': 7,\n",
       "         'layoff': 9,\n",
       "         'plywood': 8,\n",
       "         'sawn': 2,\n",
       "         'timber': 2,\n",
       "         'several': 30,\n",
       "         'mill': 47,\n",
       "         'temporarily': 14,\n",
       "         'laid': 10,\n",
       "         '1,200': 2,\n",
       "         'worker': 15,\n",
       "         'save': 8,\n",
       "         'france': 17,\n",
       "         't+_l+_com': 1,\n",
       "         'spent': 2,\n",
       "         'time': 57,\n",
       "         'study': 16,\n",
       "         'teliasonera': 29,\n",
       "         'potential': 14,\n",
       "         'target': 57,\n",
       "         'shareholder': 55,\n",
       "         'want': 15,\n",
       "         'pellissier': 1,\n",
       "         'share': 438,\n",
       "         'subscribed': 19,\n",
       "         'option': 60,\n",
       "         'register': 28,\n",
       "         'trade': 44,\n",
       "         'january': 55,\n",
       "         '2011': 74,\n",
       "         'date': 20,\n",
       "         'right': 68,\n",
       "         'westpac': 2,\n",
       "         'benchmark': 8,\n",
       "         '18': 28,\n",
       "         'frn': 2,\n",
       "         'huge': 5,\n",
       "         'bridge': 21,\n",
       "         'girder': 1,\n",
       "         'deliver': 62,\n",
       "         'site': 34,\n",
       "         'ylivieska': 1,\n",
       "         '6.7': 2,\n",
       "         '7.2': 4,\n",
       "         'correspond': 124,\n",
       "         'nyrstar': 2,\n",
       "         'agree': 39,\n",
       "         'supply': 68,\n",
       "         'talvivaara': 19,\n",
       "         '150,000': 2,\n",
       "         'tonne': 27,\n",
       "         'sulphuric': 2,\n",
       "         'acid': 2,\n",
       "         'per': 129,\n",
       "         'annum': 3,\n",
       "         'leach': 1,\n",
       "         'zinc': 7,\n",
       "         'concentrate': 10,\n",
       "         'firm': 35,\n",
       "         'copying': 3,\n",
       "         'printing': 19,\n",
       "         'cad-modelling': 1,\n",
       "         'digital': 23,\n",
       "         'scan': 6,\n",
       "         'sokopro': 1,\n",
       "         'courier': 1,\n",
       "         'meur': 7,\n",
       "         '307.8': 2,\n",
       "         'margin': 29,\n",
       "         '13.5': 5,\n",
       "         'cent': 38,\n",
       "         'eb': 12,\n",
       "         'tough': 4,\n",
       "         'voip': 2,\n",
       "         'field': 14,\n",
       "         'equip': 8,\n",
       "         'integrate': 13,\n",
       "         'speaker': 1,\n",
       "         'ethernet': 3,\n",
       "         'shdsl': 1,\n",
       "         'connectivity': 8,\n",
       "         'enables': 20,\n",
       "         'innovative': 10,\n",
       "         'geneva': 1,\n",
       "         'feb.': 4,\n",
       "         'tero': 1,\n",
       "         'aaltonen': 1,\n",
       "         'radio': 10,\n",
       "         'control': 44,\n",
       "         'alexandria': 18,\n",
       "         'va.': 18,\n",
       "         '11': 24,\n",
       "         'hannu': 7,\n",
       "         'kahonen': 1,\n",
       "         'juuka': 1,\n",
       "         'ornamental': 4,\n",
       "         'design': 80,\n",
       "         'handle': 41,\n",
       "         'fire': 3,\n",
       "         'pit': 1,\n",
       "         'door': 4,\n",
       "         'patent': 19,\n",
       "         'trademark': 9,\n",
       "         'office': 65,\n",
       "         '6mn': 2,\n",
       "         'kaupthing': 11,\n",
       "         'significant': 39,\n",
       "         'paper': 96,\n",
       "         'tietoenator': 11,\n",
       "         'research': 29,\n",
       "         'r&d': 12,\n",
       "         'software': 75,\n",
       "         'fortuna': 1,\n",
       "         'pvt.': 2,\n",
       "         '21': 17,\n",
       "         '30.3': 1,\n",
       "         'saw': 8,\n",
       "         '1.4': 8,\n",
       "         '1.5': 27,\n",
       "         '57.7': 1,\n",
       "         '11.1': 2,\n",
       "         'original': 5,\n",
       "         'last': 83,\n",
       "         'summer': 20,\n",
       "         'advanced': 9,\n",
       "         'composite': 11,\n",
       "         'cross-country': 4,\n",
       "         'alpine': 1,\n",
       "         'nordic': 53,\n",
       "         'walk': 3,\n",
       "         'pole': 3,\n",
       "         'floorball': 1,\n",
       "         'stick': 1,\n",
       "         'antenna': 5,\n",
       "         'radome': 1,\n",
       "         'stonesoft': 10,\n",
       "         'see': 34,\n",
       "         'future': 30,\n",
       "         'ipv6': 1,\n",
       "         'energy-efficient': 2,\n",
       "         'ac': 12,\n",
       "         'drive': 20,\n",
       "         'officer': 12,\n",
       "         'olli-pekka': 4,\n",
       "         'kallasvuo': 4,\n",
       "         'mark': 8,\n",
       "         'reshuffle': 1,\n",
       "         'loses': 1,\n",
       "         'ground': 12,\n",
       "         'apple': 4,\n",
       "         'iphone': 4,\n",
       "         'rim': 2,\n",
       "         'blackberry': 2,\n",
       "         'connect': 4,\n",
       "         'people': 67,\n",
       "         'different': 24,\n",
       "         'way': 21,\n",
       "         'fuse': 1,\n",
       "         'personalize': 1,\n",
       "         'enable': 31,\n",
       "         'stay': 4,\n",
       "         'matter': 7,\n",
       "         'kemira': 29,\n",
       "         'comprises': 7,\n",
       "         '750': 4,\n",
       "         'tweeple': 1,\n",
       "         'check': 5,\n",
       "         'cautious': 2,\n",
       "         'click': 3,\n",
       "         'url': 2,\n",
       "         'tinyurls': 1,\n",
       "         'sweden': 45,\n",
       "         'gallerix': 3,\n",
       "         'accumulate': 2,\n",
       "         'sek': 15,\n",
       "         'denominate': 2,\n",
       "         '1': 64,\n",
       "         '720': 1,\n",
       "         'employ': 36,\n",
       "         '7400': 1,\n",
       "         'expert': 8,\n",
       "         'm-real': 30,\n",
       "         'exchange': 70,\n",
       "         'release': 67,\n",
       "         '27': 21,\n",
       "         'august': 42,\n",
       "         '3.15': 1,\n",
       "         'pm': 8,\n",
       "         '190': 1,\n",
       "         'payment': 13,\n",
       "         'sappi': 6,\n",
       "         'mets+æliitto': 1,\n",
       "         'divest': 9,\n",
       "         'graphic': 4,\n",
       "         'limited': 9,\n",
       "         'advantage': 6,\n",
       "         'dct': 1,\n",
       "         '200': 15,\n",
       "         'tissue': 1,\n",
       "         'machine': 36,\n",
       "         'quality': 24,\n",
       "         'distribute': 10,\n",
       "         'qcs-dcs': 1,\n",
       "         'affecto': 13,\n",
       "         'frame': 8,\n",
       "         'eur2m': 4,\n",
       "         'implement': 20,\n",
       "         'next': 35,\n",
       "         'phase': 17,\n",
       "         'insurance': 33,\n",
       "         'south': 18,\n",
       "         'african': 2,\n",
       "         'mutual': 3,\n",
       "         'm&f': 1,\n",
       "         'dividend': 38,\n",
       "         'fund': 46,\n",
       "         'tomorrow': 4,\n",
       "         'handelsbanken': 4,\n",
       "         'ranked': 1,\n",
       "         'cooperative': 5,\n",
       "         'aktia': 11,\n",
       "         'loyalty': 1,\n",
       "         'meeting': 36,\n",
       "         'held': 26,\n",
       "         'day': 37,\n",
       "         '10:30': 2,\n",
       "         'a.m.': 12,\n",
       "         'headquarters': 8,\n",
       "         'italahdenkatu': 1,\n",
       "         ...})"
      ]
     },
     "execution_count": 20,
     "metadata": {},
     "output_type": "execute_result"
    }
   ],
   "source": [
    "counter"
   ]
  },
  {
   "cell_type": "code",
   "execution_count": 21,
   "metadata": {},
   "outputs": [],
   "source": [
    "num_words = len(counter)"
   ]
  },
  {
   "cell_type": "markdown",
   "metadata": {},
   "source": [
    "# Train/Test Split:"
   ]
  },
  {
   "cell_type": "code",
   "execution_count": 22,
   "metadata": {},
   "outputs": [],
   "source": [
    "# Generating the lists of headlines and labels\n",
    "headlines = []\n",
    "labels = []\n",
    "\n",
    "for row in range(len(df)):\n",
    "    headlines.append(df['Headline'][row])\n",
    "    labels.append(df['Sentiment'][row])"
   ]
  },
  {
   "cell_type": "code",
   "execution_count": 23,
   "metadata": {},
   "outputs": [],
   "source": [
    "# Setting the training ratio\n",
    "training_size = int(df.shape[0] * .8) # Out of 4846"
   ]
  },
  {
   "cell_type": "code",
   "execution_count": 24,
   "metadata": {},
   "outputs": [],
   "source": [
    "# Train Test Split:\n",
    "training_headlines = headlines[0:training_size]\n",
    "testing_headlines = headlines[training_size:]\n",
    "training_labels = labels[0:training_size]\n",
    "testing_labels = labels[training_size:]"
   ]
  },
  {
   "cell_type": "code",
   "execution_count": 25,
   "metadata": {},
   "outputs": [
    {
     "data": {
      "text/plain": [
       "['technology raute corporation ( omx helsinki : rutav ) issue tuesday ( 23 september ) profit warn financial year 2008 .',\n",
       " 'meat atrium longer promise sufficient amount domestic beef customer .',\n",
       " 'profit period eur 10.9 mn , eur 14.3 mn 2009 .']"
      ]
     },
     "metadata": {},
     "output_type": "display_data"
    },
    {
     "data": {
      "text/plain": [
       "[0, 0, 0]"
      ]
     },
     "metadata": {},
     "output_type": "display_data"
    }
   ],
   "source": [
    "# Looks good\n",
    "display(training_headlines[:3])\n",
    "display(training_labels[:3])"
   ]
  },
  {
   "cell_type": "markdown",
   "metadata": {},
   "source": [
    "# Tokenization:"
   ]
  },
  {
   "cell_type": "code",
   "execution_count": 26,
   "metadata": {},
   "outputs": [],
   "source": [
    "vocab_size = len(counter) # approx 1/5 of the words \n",
    "embedding_dim = 32\n",
    "max_length = 50\n",
    "trunc_type='post'\n",
    "padding_type='post'\n",
    "oov_tok = \"<OOV>\""
   ]
  },
  {
   "cell_type": "code",
   "execution_count": 27,
   "metadata": {},
   "outputs": [],
   "source": [
    "\n",
    "# Initializing the fitting the tokenizer:\n",
    "tokenizer = Tokenizer(num_words = vocab_size, oov_token = oov_tok)\n",
    "tokenizer.fit_on_texts(training_headlines)\n",
    "# Initializing the Word Index:\n",
    "word_index = tokenizer.word_index\n",
    "# Padding and Sequencing the Training Set:\n",
    "training_sequences = tokenizer.texts_to_sequences(training_headlines)\n",
    "training_padded = pad_sequences(training_sequences, maxlen = max_length,\n",
    "                               padding = padding_type, \n",
    "                               truncating = trunc_type)\n",
    "# Padding and Sequencing the Testing Set:\n",
    "testing_sequences = tokenizer.texts_to_sequences(testing_headlines)\n",
    "testing_padded = pad_sequences(testing_sequences, maxlen = max_length, \n",
    "                               padding = padding_type, \n",
    "                               truncating = trunc_type)\n"
   ]
  },
  {
   "cell_type": "code",
   "execution_count": 28,
   "metadata": {},
   "outputs": [],
   "source": [
    "# Switch to Numpy Array\n",
    "training_padded = np.array(training_padded)\n",
    "training_labels = np.array(training_labels)\n",
    "testing_padded = np.array(testing_padded)\n",
    "testing_labels = np.array(testing_labels)"
   ]
  },
  {
   "cell_type": "code",
   "execution_count": 29,
   "metadata": {},
   "outputs": [
    {
     "name": "stdout",
     "output_type": "stream",
     "text": [
      "Padded and Tokenized Headline:\n",
      " [  44  722   76 3734 3735  775   43  441  138  132   16  277   29  160\n",
      "  607    0    0    0    0    0    0    0    0    0    0    0    0    0\n",
      "    0    0    0    0    0    0    0    0    0    0    0    0    0    0\n",
      "    0    0    0    0    0    0    0    0]\n",
      "\n",
      "The actual headline:\n",
      " contract raute corporation muling kemian wood product co. , ltd. , announce 3 november 2010 , take effect .\n",
      "\n",
      "Label:\n",
      " 0\n"
     ]
    }
   ],
   "source": [
    "# Example of what's happening under the hood:\n",
    "print ('Padded and Tokenized Headline:\\n', training_padded[3])\n",
    "print ('\\nThe actual headline:\\n', df.Headline[3])\n",
    "print ('\\nLabel:\\n', training_labels[3])"
   ]
  },
  {
   "cell_type": "markdown",
   "metadata": {},
   "source": [
    "## Taking a Look at Inputs:"
   ]
  },
  {
   "cell_type": "code",
   "execution_count": 30,
   "metadata": {},
   "outputs": [
    {
     "data": {
      "text/plain": [
       "'technology raute corporation ( omx helsinki : rutav ) issue tuesday ( 23 september ) profit warn financial year 2008 .'"
      ]
     },
     "metadata": {},
     "output_type": "display_data"
    },
    {
     "name": "stdout",
     "output_type": "stream",
     "text": [
      "-----------------\n"
     ]
    },
    {
     "data": {
      "text/plain": [
       "array([  49,  722,   76,  106,   45, 1766,  153,  604,  237,  125,    9,\n",
       "        939,   71,    8,   19,    0,    0,    0,    0,    0,    0,    0,\n",
       "          0,    0,    0,    0,    0,    0,    0,    0,    0,    0,    0,\n",
       "          0,    0,    0,    0,    0,    0,    0,    0,    0,    0,    0,\n",
       "          0,    0,    0,    0,    0,    0], dtype=int32)"
      ]
     },
     "metadata": {},
     "output_type": "display_data"
    },
    {
     "name": "stdout",
     "output_type": "stream",
     "text": [
      "-----------------\n"
     ]
    },
    {
     "data": {
      "text/plain": [
       "0"
      ]
     },
     "metadata": {},
     "output_type": "display_data"
    },
    {
     "name": "stdout",
     "output_type": "stream",
     "text": [
      "-----------------\n"
     ]
    },
    {
     "data": {
      "text/plain": [
       "'operating profit operation finland period review total eur 11.3 mn , remain 2005 level .'"
      ]
     },
     "metadata": {},
     "output_type": "display_data"
    },
    {
     "name": "stdout",
     "output_type": "stream",
     "text": [
      "-----------------\n"
     ]
    },
    {
     "data": {
      "text/plain": [
       "array([  18,    9,   47,   11,   26, 1641,   27,    2,  129,   16,    3,\n",
       "        254,   90,  304,    0,    0,    0,    0,    0,    0,    0,    0,\n",
       "          0,    0,    0,    0,    0,    0,    0,    0,    0,    0,    0,\n",
       "          0,    0,    0,    0,    0,    0,    0,    0,    0,    0,    0,\n",
       "          0,    0,    0,    0,    0,    0], dtype=int32)"
      ]
     },
     "metadata": {},
     "output_type": "display_data"
    },
    {
     "name": "stdout",
     "output_type": "stream",
     "text": [
      "-----------------\n"
     ]
    },
    {
     "data": {
      "text/plain": [
       "0"
      ]
     },
     "metadata": {},
     "output_type": "display_data"
    },
    {
     "name": "stdout",
     "output_type": "stream",
     "text": [
      "-----------------\n"
     ]
    }
   ],
   "source": [
    "# So far looks good:\n",
    "n = 0\n",
    "\n",
    "display(training_headlines[n])\n",
    "print('-----------------')\n",
    "display(training_padded[n])\n",
    "print('-----------------')\n",
    "display(training_labels[n])\n",
    "print('-----------------')\n",
    "\n",
    "display(testing_headlines[n])\n",
    "print('-----------------')\n",
    "display(testing_padded[n])\n",
    "print('-----------------')\n",
    "display(testing_labels[n])\n",
    "print('-----------------')\n"
   ]
  },
  {
   "cell_type": "code",
   "execution_count": 31,
   "metadata": {},
   "outputs": [
    {
     "name": "stdout",
     "output_type": "stream",
     "text": [
      "meat atrium longer promise sufficient amount domestic beef customer - - - - - - - - - - - - - - - - - - - - - - - - - - - - - - - - - - - - - - - - -\n",
      "meat atrium longer promise sufficient amount domestic beef customer .\n",
      "0\n"
     ]
    }
   ],
   "source": [
    "# Making sure all our data works. . . \n",
    "reverse_word_index = dict([(value, key) for (key, value) in word_index.items()])\n",
    "\n",
    "def decode_sentence(text):\n",
    "    return ' '.join([reverse_word_index.get(i, '-') for i in text])\n",
    "\n",
    "print(decode_sentence(training_padded[1]))\n",
    "print(training_headlines[1])\n",
    "print(labels[1])"
   ]
  },
  {
   "cell_type": "markdown",
   "metadata": {},
   "source": [
    "# Modeling:"
   ]
  },
  {
   "cell_type": "markdown",
   "metadata": {},
   "source": [
    "## Baseline with TextBlob:"
   ]
  },
  {
   "cell_type": "markdown",
   "metadata": {},
   "source": [
    "TextBlob is a common library used for NLP.  It may not be optimized for news headlines, though.  Let's see how accurate it is on this dataset, then see if we can improve the results with an artificial neural network."
   ]
  },
  {
   "cell_type": "code",
   "execution_count": 33,
   "metadata": {},
   "outputs": [
    {
     "name": "stdout",
     "output_type": "stream",
     "text": [
      "0.0\n",
      "0.9099999999999999\n"
     ]
    }
   ],
   "source": [
    "from textblob import TextBlob\n",
    "df2 = df # Setting up test environment\n",
    "# Testing out some headlines\n",
    "headline1 = \"tesla lays off all employees\" # News headline\n",
    "headline2 = 'the food was very good'  # Basic easy statement\n",
    "blob1 = TextBlob(headline1)\n",
    "blob2 = TextBlob(headline2)\n",
    "print(blob1.polarity)\n",
    "print(blob2.polarity)"
   ]
  },
  {
   "cell_type": "code",
   "execution_count": 34,
   "metadata": {},
   "outputs": [
    {
     "ename": "KeyError",
     "evalue": "'tb_sent'",
     "output_type": "error",
     "traceback": [
      "\u001b[0;31m---------------------------------------------------------------------------\u001b[0m",
      "\u001b[0;31mKeyError\u001b[0m                                  Traceback (most recent call last)",
      "\u001b[0;32m~/opt/anaconda3/envs/learn-env/lib/python3.6/site-packages/pandas/core/indexes/base.py\u001b[0m in \u001b[0;36mget_loc\u001b[0;34m(self, key, method, tolerance)\u001b[0m\n\u001b[1;32m   2896\u001b[0m             \u001b[0;32mtry\u001b[0m\u001b[0;34m:\u001b[0m\u001b[0;34m\u001b[0m\u001b[0;34m\u001b[0m\u001b[0m\n\u001b[0;32m-> 2897\u001b[0;31m                 \u001b[0;32mreturn\u001b[0m \u001b[0mself\u001b[0m\u001b[0;34m.\u001b[0m\u001b[0m_engine\u001b[0m\u001b[0;34m.\u001b[0m\u001b[0mget_loc\u001b[0m\u001b[0;34m(\u001b[0m\u001b[0mkey\u001b[0m\u001b[0;34m)\u001b[0m\u001b[0;34m\u001b[0m\u001b[0;34m\u001b[0m\u001b[0m\n\u001b[0m\u001b[1;32m   2898\u001b[0m             \u001b[0;32mexcept\u001b[0m \u001b[0mKeyError\u001b[0m\u001b[0;34m:\u001b[0m\u001b[0;34m\u001b[0m\u001b[0;34m\u001b[0m\u001b[0m\n",
      "\u001b[0;32mpandas/_libs/index.pyx\u001b[0m in \u001b[0;36mpandas._libs.index.IndexEngine.get_loc\u001b[0;34m()\u001b[0m\n",
      "\u001b[0;32mpandas/_libs/index.pyx\u001b[0m in \u001b[0;36mpandas._libs.index.IndexEngine.get_loc\u001b[0;34m()\u001b[0m\n",
      "\u001b[0;32mpandas/_libs/hashtable_class_helper.pxi\u001b[0m in \u001b[0;36mpandas._libs.hashtable.PyObjectHashTable.get_item\u001b[0;34m()\u001b[0m\n",
      "\u001b[0;32mpandas/_libs/hashtable_class_helper.pxi\u001b[0m in \u001b[0;36mpandas._libs.hashtable.PyObjectHashTable.get_item\u001b[0;34m()\u001b[0m\n",
      "\u001b[0;31mKeyError\u001b[0m: 'tb_sent'",
      "\nDuring handling of the above exception, another exception occurred:\n",
      "\u001b[0;31mKeyError\u001b[0m                                  Traceback (most recent call last)",
      "\u001b[0;32m<ipython-input-34-472f075f9c49>\u001b[0m in \u001b[0;36m<module>\u001b[0;34m\u001b[0m\n\u001b[1;32m      3\u001b[0m \u001b[0;32mfor\u001b[0m \u001b[0mheadline\u001b[0m \u001b[0;32min\u001b[0m \u001b[0mdf2\u001b[0m\u001b[0;34m[\u001b[0m\u001b[0;34m'Headline'\u001b[0m\u001b[0;34m]\u001b[0m\u001b[0;34m:\u001b[0m\u001b[0;34m\u001b[0m\u001b[0;34m\u001b[0m\u001b[0m\n\u001b[1;32m      4\u001b[0m \u001b[0;31m#    df2['tb_sent'] = (TextBlob(headline).polarity)\u001b[0m\u001b[0;34m\u001b[0m\u001b[0;34m\u001b[0m\u001b[0;34m\u001b[0m\u001b[0m\n\u001b[0;32m----> 5\u001b[0;31m     \u001b[0mdf2\u001b[0m\u001b[0;34m[\u001b[0m\u001b[0;34m'tb_sent'\u001b[0m\u001b[0;34m]\u001b[0m\u001b[0;34m[\u001b[0m\u001b[0mheadline\u001b[0m\u001b[0;34m]\u001b[0m \u001b[0;34m=\u001b[0m \u001b[0;34m(\u001b[0m\u001b[0mTextBlob\u001b[0m\u001b[0;34m(\u001b[0m\u001b[0mheadline\u001b[0m\u001b[0;34m)\u001b[0m\u001b[0;34m.\u001b[0m\u001b[0mpolarity\u001b[0m\u001b[0;34m)\u001b[0m\u001b[0;34m\u001b[0m\u001b[0;34m\u001b[0m\u001b[0m\n\u001b[0m\u001b[1;32m      6\u001b[0m \u001b[0;34m\u001b[0m\u001b[0m\n\u001b[1;32m      7\u001b[0m \u001b[0;31m#for item in df['tb_sent']:\u001b[0m\u001b[0;34m\u001b[0m\u001b[0;34m\u001b[0m\u001b[0;34m\u001b[0m\u001b[0m\n",
      "\u001b[0;32m~/opt/anaconda3/envs/learn-env/lib/python3.6/site-packages/pandas/core/frame.py\u001b[0m in \u001b[0;36m__getitem__\u001b[0;34m(self, key)\u001b[0m\n\u001b[1;32m   2978\u001b[0m             \u001b[0;32mif\u001b[0m \u001b[0mself\u001b[0m\u001b[0;34m.\u001b[0m\u001b[0mcolumns\u001b[0m\u001b[0;34m.\u001b[0m\u001b[0mnlevels\u001b[0m \u001b[0;34m>\u001b[0m \u001b[0;36m1\u001b[0m\u001b[0;34m:\u001b[0m\u001b[0;34m\u001b[0m\u001b[0;34m\u001b[0m\u001b[0m\n\u001b[1;32m   2979\u001b[0m                 \u001b[0;32mreturn\u001b[0m \u001b[0mself\u001b[0m\u001b[0;34m.\u001b[0m\u001b[0m_getitem_multilevel\u001b[0m\u001b[0;34m(\u001b[0m\u001b[0mkey\u001b[0m\u001b[0;34m)\u001b[0m\u001b[0;34m\u001b[0m\u001b[0;34m\u001b[0m\u001b[0m\n\u001b[0;32m-> 2980\u001b[0;31m             \u001b[0mindexer\u001b[0m \u001b[0;34m=\u001b[0m \u001b[0mself\u001b[0m\u001b[0;34m.\u001b[0m\u001b[0mcolumns\u001b[0m\u001b[0;34m.\u001b[0m\u001b[0mget_loc\u001b[0m\u001b[0;34m(\u001b[0m\u001b[0mkey\u001b[0m\u001b[0;34m)\u001b[0m\u001b[0;34m\u001b[0m\u001b[0;34m\u001b[0m\u001b[0m\n\u001b[0m\u001b[1;32m   2981\u001b[0m             \u001b[0;32mif\u001b[0m \u001b[0mis_integer\u001b[0m\u001b[0;34m(\u001b[0m\u001b[0mindexer\u001b[0m\u001b[0;34m)\u001b[0m\u001b[0;34m:\u001b[0m\u001b[0;34m\u001b[0m\u001b[0;34m\u001b[0m\u001b[0m\n\u001b[1;32m   2982\u001b[0m                 \u001b[0mindexer\u001b[0m \u001b[0;34m=\u001b[0m \u001b[0;34m[\u001b[0m\u001b[0mindexer\u001b[0m\u001b[0;34m]\u001b[0m\u001b[0;34m\u001b[0m\u001b[0;34m\u001b[0m\u001b[0m\n",
      "\u001b[0;32m~/opt/anaconda3/envs/learn-env/lib/python3.6/site-packages/pandas/core/indexes/base.py\u001b[0m in \u001b[0;36mget_loc\u001b[0;34m(self, key, method, tolerance)\u001b[0m\n\u001b[1;32m   2897\u001b[0m                 \u001b[0;32mreturn\u001b[0m \u001b[0mself\u001b[0m\u001b[0;34m.\u001b[0m\u001b[0m_engine\u001b[0m\u001b[0;34m.\u001b[0m\u001b[0mget_loc\u001b[0m\u001b[0;34m(\u001b[0m\u001b[0mkey\u001b[0m\u001b[0;34m)\u001b[0m\u001b[0;34m\u001b[0m\u001b[0;34m\u001b[0m\u001b[0m\n\u001b[1;32m   2898\u001b[0m             \u001b[0;32mexcept\u001b[0m \u001b[0mKeyError\u001b[0m\u001b[0;34m:\u001b[0m\u001b[0;34m\u001b[0m\u001b[0;34m\u001b[0m\u001b[0m\n\u001b[0;32m-> 2899\u001b[0;31m                 \u001b[0;32mreturn\u001b[0m \u001b[0mself\u001b[0m\u001b[0;34m.\u001b[0m\u001b[0m_engine\u001b[0m\u001b[0;34m.\u001b[0m\u001b[0mget_loc\u001b[0m\u001b[0;34m(\u001b[0m\u001b[0mself\u001b[0m\u001b[0;34m.\u001b[0m\u001b[0m_maybe_cast_indexer\u001b[0m\u001b[0;34m(\u001b[0m\u001b[0mkey\u001b[0m\u001b[0;34m)\u001b[0m\u001b[0;34m)\u001b[0m\u001b[0;34m\u001b[0m\u001b[0;34m\u001b[0m\u001b[0m\n\u001b[0m\u001b[1;32m   2900\u001b[0m         \u001b[0mindexer\u001b[0m \u001b[0;34m=\u001b[0m \u001b[0mself\u001b[0m\u001b[0;34m.\u001b[0m\u001b[0mget_indexer\u001b[0m\u001b[0;34m(\u001b[0m\u001b[0;34m[\u001b[0m\u001b[0mkey\u001b[0m\u001b[0;34m]\u001b[0m\u001b[0;34m,\u001b[0m \u001b[0mmethod\u001b[0m\u001b[0;34m=\u001b[0m\u001b[0mmethod\u001b[0m\u001b[0;34m,\u001b[0m \u001b[0mtolerance\u001b[0m\u001b[0;34m=\u001b[0m\u001b[0mtolerance\u001b[0m\u001b[0;34m)\u001b[0m\u001b[0;34m\u001b[0m\u001b[0;34m\u001b[0m\u001b[0m\n\u001b[1;32m   2901\u001b[0m         \u001b[0;32mif\u001b[0m \u001b[0mindexer\u001b[0m\u001b[0;34m.\u001b[0m\u001b[0mndim\u001b[0m \u001b[0;34m>\u001b[0m \u001b[0;36m1\u001b[0m \u001b[0;32mor\u001b[0m \u001b[0mindexer\u001b[0m\u001b[0;34m.\u001b[0m\u001b[0msize\u001b[0m \u001b[0;34m>\u001b[0m \u001b[0;36m1\u001b[0m\u001b[0;34m:\u001b[0m\u001b[0;34m\u001b[0m\u001b[0;34m\u001b[0m\u001b[0m\n",
      "\u001b[0;32mpandas/_libs/index.pyx\u001b[0m in \u001b[0;36mpandas._libs.index.IndexEngine.get_loc\u001b[0;34m()\u001b[0m\n",
      "\u001b[0;32mpandas/_libs/index.pyx\u001b[0m in \u001b[0;36mpandas._libs.index.IndexEngine.get_loc\u001b[0;34m()\u001b[0m\n",
      "\u001b[0;32mpandas/_libs/hashtable_class_helper.pxi\u001b[0m in \u001b[0;36mpandas._libs.hashtable.PyObjectHashTable.get_item\u001b[0;34m()\u001b[0m\n",
      "\u001b[0;32mpandas/_libs/hashtable_class_helper.pxi\u001b[0m in \u001b[0;36mpandas._libs.hashtable.PyObjectHashTable.get_item\u001b[0;34m()\u001b[0m\n",
      "\u001b[0;31mKeyError\u001b[0m: 'tb_sent'"
     ]
    }
   ],
   "source": [
    "threshold = .1\n",
    "\n",
    "for headline in df2['Headline']:\n",
    "#    df2['tb_sent'] = (TextBlob(headline).polarity)\n",
    "    df2['tb_sent'][headline] = (TextBlob(headline).polarity)\n",
    "    \n",
    "#for item in df['tb_sent']:\n",
    "#    if item > threshold:\n",
    "#        item = 1\n",
    "#    else:\n",
    "#        item = 0"
   ]
  },
  {
   "cell_type": "code",
   "execution_count": null,
   "metadata": {},
   "outputs": [],
   "source": [
    "# TextBlob Accuracy:"
   ]
  },
  {
   "cell_type": "markdown",
   "metadata": {},
   "source": [
    "## Baseline with Vader:"
   ]
  },
  {
   "cell_type": "markdown",
   "metadata": {},
   "source": [
    "Vader is another commonly used sentiment analysis toolbox.  Let's see if we can get better results with this."
   ]
  },
  {
   "cell_type": "code",
   "execution_count": 35,
   "metadata": {},
   "outputs": [
    {
     "data": {
      "text/plain": [
       "{'neg': 0.0, 'neu': 1.0, 'pos': 0.0, 'compound': 0.0}"
      ]
     },
     "execution_count": 35,
     "metadata": {},
     "output_type": "execute_result"
    }
   ],
   "source": [
    "#nltk.download('vader_lexicon')\n",
    "from nltk.sentiment.vader import SentimentIntensityAnalyzer\n",
    "sid = SentimentIntensityAnalyzer()\n",
    "sid.polarity_scores('The international electronic industry company Elcoteq has laid off tens of employees from its Tallinn facility ; contrary to earlier layoffs the company contracted the ranks of its office workers , the daily Postimees reported .')"
   ]
  },
  {
   "cell_type": "code",
   "execution_count": 36,
   "metadata": {},
   "outputs": [],
   "source": [
    "# Vader Accuracy:"
   ]
  },
  {
   "cell_type": "markdown",
   "metadata": {},
   "source": [
    "# Neural Network:"
   ]
  },
  {
   "cell_type": "code",
   "execution_count": 37,
   "metadata": {},
   "outputs": [],
   "source": [
    "# First let's define the functions for model evaluation\n",
    "def model_eval(history):\n",
    "    pd.DataFrame(history.history).plot(figsize = (8,5))\n",
    "    plt.grid(True)\n",
    "    plt.gca().set_ylim(0, 1)\n",
    "    plt.show\n",
    "def plot_graphs(history, string):\n",
    "  plt.plot(history.history[string])\n",
    "  plt.plot(history.history['val_'+string])\n",
    "  plt.xlabel(\"Epochs\")\n",
    "  plt.ylabel(string)\n",
    "  plt.legend([string, 'val_'+string])\n",
    "  plt.show()\n",
    "  "
   ]
  },
  {
   "cell_type": "markdown",
   "metadata": {},
   "source": [
    "Now it's time to build a baseline neural network:"
   ]
  },
  {
   "cell_type": "markdown",
   "metadata": {},
   "source": [
    "## Model 1:"
   ]
  },
  {
   "cell_type": "code",
   "execution_count": 38,
   "metadata": {},
   "outputs": [],
   "source": [
    "model = Sequential()\n",
    "model.add(Embedding(vocab_size, embedding_dim, input_length=max_length))\n",
    "model.add(GlobalAveragePooling1D())\n",
    "model.add(Dense(100, activation='relu'))\n",
    "model.add(Dropout(0.2)) # Optional Regularization\n",
    "model.add(Dense(75, activation='relu')) # Optional second hidden layer\n",
    "model.add(Dropout(0.2)) # Optional Regularization\n",
    "model.add(Dense(1, activation='sigmoid'))\n",
    "\n",
    "#model.compile(loss='binary_crossentropy',optimizer='Adam',metrics=['accuracy']) # Orig code\n",
    "\n",
    "#Messing with learning rate\n",
    "opt = keras.optimizers.Adam(lr=0.0001)\n",
    "model.compile(loss='binary_crossentropy',optimizer= opt, \n",
    "              metrics=['accuracy']) # Orig code\n"
   ]
  },
  {
   "cell_type": "code",
   "execution_count": 39,
   "metadata": {
    "scrolled": true
   },
   "outputs": [
    {
     "name": "stdout",
     "output_type": "stream",
     "text": [
      "Train on 3876 samples, validate on 970 samples\n",
      "Epoch 1/25\n",
      "3876/3876 [==============================] - 2s 579us/step - loss: 0.6437 - acc: 0.7069 - val_loss: 0.5871 - val_acc: 0.7289\n",
      "Epoch 2/25\n",
      "3876/3876 [==============================] - 2s 475us/step - loss: 0.5951 - acc: 0.7162 - val_loss: 0.5768 - val_acc: 0.7289\n",
      "Epoch 3/25\n",
      "3876/3876 [==============================] - 2s 473us/step - loss: 0.5886 - acc: 0.7162 - val_loss: 0.5721 - val_acc: 0.7289\n",
      "Epoch 4/25\n",
      "3876/3876 [==============================] - 2s 486us/step - loss: 0.5835 - acc: 0.7162 - val_loss: 0.5686 - val_acc: 0.7289\n",
      "Epoch 5/25\n",
      "3876/3876 [==============================] - 2s 486us/step - loss: 0.5766 - acc: 0.7162 - val_loss: 0.5608 - val_acc: 0.7289\n",
      "Epoch 6/25\n",
      "3876/3876 [==============================] - 2s 498us/step - loss: 0.5638 - acc: 0.7162 - val_loss: 0.5478 - val_acc: 0.7299\n",
      "Epoch 7/25\n",
      "3876/3876 [==============================] - 2s 486us/step - loss: 0.5385 - acc: 0.7252 - val_loss: 0.5281 - val_acc: 0.7412\n",
      "Epoch 8/25\n",
      "3876/3876 [==============================] - 2s 488us/step - loss: 0.4971 - acc: 0.7479 - val_loss: 0.5075 - val_acc: 0.7608\n",
      "Epoch 9/25\n",
      "3876/3876 [==============================] - 2s 491us/step - loss: 0.4379 - acc: 0.7872 - val_loss: 0.4812 - val_acc: 0.7763\n",
      "Epoch 10/25\n",
      "3876/3876 [==============================] - 2s 479us/step - loss: 0.3752 - acc: 0.8346 - val_loss: 0.4620 - val_acc: 0.7856\n",
      "Epoch 11/25\n",
      "3876/3876 [==============================] - 2s 472us/step - loss: 0.3119 - acc: 0.8751 - val_loss: 0.4589 - val_acc: 0.7907\n",
      "Epoch 12/25\n",
      "3876/3876 [==============================] - 2s 474us/step - loss: 0.2672 - acc: 0.8973 - val_loss: 0.4579 - val_acc: 0.7876\n",
      "Epoch 13/25\n",
      "3876/3876 [==============================] - 2s 495us/step - loss: 0.2321 - acc: 0.9082 - val_loss: 0.4642 - val_acc: 0.7876\n",
      "Epoch 14/25\n",
      "3876/3876 [==============================] - 2s 488us/step - loss: 0.2059 - acc: 0.9234 - val_loss: 0.4752 - val_acc: 0.7959\n",
      "Epoch 15/25\n",
      "3876/3876 [==============================] - 2s 483us/step - loss: 0.1802 - acc: 0.9306 - val_loss: 0.4899 - val_acc: 0.7969\n",
      "Epoch 16/25\n",
      "3876/3876 [==============================] - 2s 483us/step - loss: 0.1656 - acc: 0.9378 - val_loss: 0.4997 - val_acc: 0.7969\n",
      "Epoch 17/25\n",
      "3876/3876 [==============================] - 2s 475us/step - loss: 0.1513 - acc: 0.9469 - val_loss: 0.5137 - val_acc: 0.7918\n",
      "Epoch 18/25\n",
      "3876/3876 [==============================] - 2s 484us/step - loss: 0.1337 - acc: 0.9499 - val_loss: 0.5338 - val_acc: 0.7948\n",
      "Epoch 19/25\n",
      "3876/3876 [==============================] - 2s 471us/step - loss: 0.1244 - acc: 0.9598 - val_loss: 0.5521 - val_acc: 0.7938\n",
      "Epoch 20/25\n",
      "3876/3876 [==============================] - 2s 486us/step - loss: 0.1120 - acc: 0.9618 - val_loss: 0.5744 - val_acc: 0.7928\n",
      "Epoch 21/25\n",
      "3876/3876 [==============================] - 2s 479us/step - loss: 0.1035 - acc: 0.9631 - val_loss: 0.5879 - val_acc: 0.7948\n",
      "Epoch 22/25\n",
      "3876/3876 [==============================] - 2s 479us/step - loss: 0.0919 - acc: 0.9701 - val_loss: 0.6158 - val_acc: 0.7897\n",
      "Epoch 23/25\n",
      "3876/3876 [==============================] - 2s 477us/step - loss: 0.0848 - acc: 0.9752 - val_loss: 0.6471 - val_acc: 0.7979\n",
      "Epoch 24/25\n",
      "3876/3876 [==============================] - 2s 479us/step - loss: 0.0771 - acc: 0.9742 - val_loss: 0.6572 - val_acc: 0.7938\n",
      "Epoch 25/25\n",
      "3876/3876 [==============================] - 2s 482us/step - loss: 0.0691 - acc: 0.9801 - val_loss: 0.6773 - val_acc: 0.7928\n"
     ]
    }
   ],
   "source": [
    "num_epochs = 25\n",
    "history = model.fit(training_padded, training_labels, \n",
    "                    epochs=num_epochs,\n",
    "                    batch_size = 10,\n",
    "                    validation_data=(testing_padded, testing_labels), \n",
    "                    verbose= 1)"
   ]
  },
  {
   "cell_type": "markdown",
   "metadata": {},
   "source": [
    "### Model Evaluation:"
   ]
  },
  {
   "cell_type": "code",
   "execution_count": 40,
   "metadata": {},
   "outputs": [
    {
     "data": {
      "image/png": "[encoded data removed]",
      "text/plain": [
       "<Figure size 576x360 with 1 Axes>"
      ]
     },
     "metadata": {
      "needs_background": "light"
     },
     "output_type": "display_data"
    }
   ],
   "source": [
    "model_eval(history)\n",
    "#plot_graphs(history, \"acc\")\n",
    "#plot_graphs(history, \"loss\")"
   ]
  },
  {
   "cell_type": "code",
   "execution_count": 41,
   "metadata": {},
   "outputs": [
    {
     "name": "stdout",
     "output_type": "stream",
     "text": [
      "[[0.98378366]\n",
      " [0.00124759]\n",
      " [0.56515634]]\n"
     ]
    }
   ],
   "source": [
    "sentence = [\"Stock rise rapid for Tesla\", \n",
    "            \"Apple factory shut down, lay off hundred employee\",\n",
    "           \"Average day of return for Microsoft\"]\n",
    "sequences = tokenizer.texts_to_sequences(sentence)\n",
    "padded = pad_sequences(sequences, maxlen=max_length, \n",
    "                       padding=padding_type, \n",
    "                       truncating=trunc_type)\n",
    "print(model.predict(padded))"
   ]
  },
  {
   "cell_type": "code",
   "execution_count": 42,
   "metadata": {},
   "outputs": [
    {
     "name": "stdout",
     "output_type": "stream",
     "text": [
      "[[0.00490535]\n",
      " [0.03890427]\n",
      " [0.0011118 ]]\n"
     ]
    }
   ],
   "source": [
    "sentence = [\"Former Nissan Executive Greg Kelly Pleads Not Guilty at Tokyo Trial\", \n",
    "            \"Amazon to Hire 100,000 in U.S. and Canada\",\n",
    "           \"Disney’s ‘Mulan’ Tops China Box Office Amid Controversy\"]\n",
    "sequences = tokenizer.texts_to_sequences(sentence)\n",
    "padded = pad_sequences(sequences, maxlen=max_length, \n",
    "                       padding=padding_type, \n",
    "                       truncating=trunc_type)\n",
    "print(model.predict(padded))"
   ]
  },
  {
   "cell_type": "code",
   "execution_count": 43,
   "metadata": {},
   "outputs": [
    {
     "ename": "SyntaxError",
     "evalue": "Missing parentheses in call to 'print'. Did you mean print(break_)? (<ipython-input-43-8dc0057c2caf>, line 1)",
     "output_type": "error",
     "traceback": [
      "\u001b[0;36m  File \u001b[0;32m\"<ipython-input-43-8dc0057c2caf>\"\u001b[0;36m, line \u001b[0;32m1\u001b[0m\n\u001b[0;31m    print break_\u001b[0m\n\u001b[0m               ^\u001b[0m\n\u001b[0;31mSyntaxError\u001b[0m\u001b[0;31m:\u001b[0m Missing parentheses in call to 'print'. Did you mean print(break_)?\n"
     ]
    }
   ],
   "source": [
    "print break_"
   ]
  },
  {
   "cell_type": "markdown",
   "metadata": {},
   "source": [
    "## LSTM Test:"
   ]
  },
  {
   "cell_type": "markdown",
   "metadata": {},
   "source": [
    "LSTM (Long Short Term Memory) models are quite popular as well for NLP.  Let's give it a try."
   ]
  },
  {
   "cell_type": "code",
   "execution_count": null,
   "metadata": {},
   "outputs": [],
   "source": [
    "model = Sequential()\n",
    "model.add(Embedding(vocab_size, embedding_dim, input_length=max_length))\n",
    "model.add(LSTM(64, dropout = 0.1))\n",
    "model.add(Dense(35, activation='relu'))\n",
    "model.add(Dense(1, activation='sigmoid'))\n",
    "\n",
    "model.compile(loss='binary_crossentropy',optimizer='Adam',metrics=['accuracy']) # Orig code"
   ]
  },
  {
   "cell_type": "code",
   "execution_count": null,
   "metadata": {
    "scrolled": true
   },
   "outputs": [],
   "source": [
    "num_epochs = 25\n",
    "history = model.fit(training_padded, training_labels, \n",
    "                    epochs=num_epochs,\n",
    "                    batch_size = 24,\n",
    "                    validation_data=(testing_padded, testing_labels), \n",
    "                    verbose= 1)"
   ]
  },
  {
   "cell_type": "markdown",
   "metadata": {},
   "source": [
    "### Model Evaluation:"
   ]
  },
  {
   "cell_type": "code",
   "execution_count": null,
   "metadata": {},
   "outputs": [],
   "source": [
    "model_eval(history)\n",
    "#plot_graphs(history, \"acc\")\n",
    "#plot_graphs(history, \"loss\")"
   ]
  },
  {
   "cell_type": "code",
   "execution_count": null,
   "metadata": {},
   "outputs": [],
   "source": [
    "sentence = [\"Stocks rise rapidly for Tesla\", \n",
    "            \"Apple factory shuts down\",\n",
    "           \"Average day of returns for Microsoft\"]\n",
    "sequences = tokenizer.texts_to_sequences(sentence)\n",
    "padded = pad_sequences(sequences, maxlen=max_length, \n",
    "                       padding=padding_type, \n",
    "                       truncating=trunc_type)\n",
    "print(model.predict(padded))"
   ]
  },
  {
   "cell_type": "code",
   "execution_count": null,
   "metadata": {},
   "outputs": [],
   "source": [
    "sentence = [\"Former Nissan Executive Greg Kelly Pleads Not Guilty at Tokyo Trial\", \n",
    "            \"Amazon to Hire 100,000 in U.S. and Canada\",\n",
    "           \"Disney’s ‘Mulan’ Tops China Box Office Amid Controversy\"]\n",
    "sequences = tokenizer.texts_to_sequences(sentence)\n",
    "padded = pad_sequences(sequences, maxlen=max_length, \n",
    "                       padding=padding_type, \n",
    "                       truncating=trunc_type)\n",
    "print(model.predict(padded))"
   ]
  },
  {
   "cell_type": "markdown",
   "metadata": {},
   "source": [
    "## Embedding Model 2:"
   ]
  },
  {
   "cell_type": "markdown",
   "metadata": {},
   "source": [
    "This model has some different architecture than the first.  Let's see if we can improve our accuracy. "
   ]
  },
  {
   "cell_type": "code",
   "execution_count": null,
   "metadata": {},
   "outputs": [],
   "source": [
    "model = keras.Sequential([\n",
    "    keras.layers.Embedding(vocab_size, embedding_dim, input_length=max_length),\n",
    "    keras.layers.GlobalAveragePooling1D(),\n",
    "    keras.layers.Dense(50, activation='relu'),\n",
    "    keras.layers.Dropout(0.2), # Optional Regularization\n",
    "    keras.layers.Dense(50, activation='relu'), # Optional second hidden layer\n",
    "    keras.layers.Dropout(0.2), # Optional Regularization\n",
    "    keras.layers.Dense(1, activation='sigmoid')])\n",
    "\n",
    "opt = keras.optimizers.Adam(lr=0.0001)\n",
    "model.compile(loss='binary_crossentropy',optimizer = opt, metrics=['accuracy']) # Orig code\n"
   ]
  },
  {
   "cell_type": "code",
   "execution_count": null,
   "metadata": {},
   "outputs": [],
   "source": [
    "#model.summary()"
   ]
  },
  {
   "cell_type": "code",
   "execution_count": null,
   "metadata": {
    "scrolled": true
   },
   "outputs": [],
   "source": [
    "num_epochs = 50\n",
    "history = model.fit(training_padded, training_labels, \n",
    "                    epochs=num_epochs, \n",
    "                    validation_data=(testing_padded, testing_labels), \n",
    "                    verbose= 2)"
   ]
  },
  {
   "cell_type": "markdown",
   "metadata": {},
   "source": [
    "### Model Evaluation:"
   ]
  },
  {
   "cell_type": "code",
   "execution_count": null,
   "metadata": {
    "scrolled": true
   },
   "outputs": [],
   "source": [
    "model_eval(history)"
   ]
  },
  {
   "cell_type": "code",
   "execution_count": null,
   "metadata": {},
   "outputs": [],
   "source": [
    "#plot_graphs(history, \"acc\")\n",
    "#plot_graphs(history, \"loss\")"
   ]
  },
  {
   "cell_type": "code",
   "execution_count": null,
   "metadata": {},
   "outputs": [],
   "source": [
    "# Testing Made Up Headlines:\n",
    "sentence = [\"Stock rise rapid for Tesla\", \n",
    "            \"Apple factory shut down\",\n",
    "           \"Average day of return for Microsoft\"]\n",
    "sequences = tokenizer.texts_to_sequences(sentence)\n",
    "padded = pad_sequences(sequences, maxlen=max_length, \n",
    "                       padding=padding_type, \n",
    "                       truncating=trunc_type)\n",
    "print(model.predict(padded))"
   ]
  },
  {
   "cell_type": "code",
   "execution_count": null,
   "metadata": {},
   "outputs": [],
   "source": [
    "# Testing Real Headlines - Source - Bloomberg:\n",
    "sentence = [\"Ray Dalio Warn of Threat to Dollar as Reserve Currency\", \n",
    "            \"FTC Prepare Possible Antitrust Lawsuit Against Facebook\",\n",
    "           \"Trump Say He Want a 4 Hour Debate Moderate by Joe Rogan\"]\n",
    "sequences = tokenizer.texts_to_sequences(sentence)\n",
    "padded = pad_sequences(sequences, maxlen=max_length, \n",
    "                       padding=padding_type, \n",
    "                       truncating=trunc_type)\n",
    "print(model.predict(padded))"
   ]
  },
  {
   "cell_type": "markdown",
   "metadata": {},
   "source": [
    "# Final Model:"
   ]
  },
  {
   "cell_type": "code",
   "execution_count": null,
   "metadata": {},
   "outputs": [],
   "source": []
  },
  {
   "cell_type": "code",
   "execution_count": null,
   "metadata": {},
   "outputs": [],
   "source": []
  },
  {
   "cell_type": "markdown",
   "metadata": {},
   "source": [
    "## Final Model Evaluation:"
   ]
  },
  {
   "cell_type": "code",
   "execution_count": null,
   "metadata": {},
   "outputs": [],
   "source": []
  },
  {
   "cell_type": "code",
   "execution_count": null,
   "metadata": {},
   "outputs": [],
   "source": []
  },
  {
   "cell_type": "markdown",
   "metadata": {},
   "source": [
    "# Other:"
   ]
  },
  {
   "cell_type": "code",
   "execution_count": null,
   "metadata": {},
   "outputs": [],
   "source": [
    "print break_"
   ]
  },
  {
   "cell_type": "code",
   "execution_count": null,
   "metadata": {},
   "outputs": [],
   "source": [
    "e = model.layers[0]\n",
    "weights = e.get_weights()[0]\n",
    "print(weights.shape) # shape: (vocab_size, embedding_dim)"
   ]
  },
  {
   "cell_type": "code",
   "execution_count": null,
   "metadata": {},
   "outputs": [],
   "source": [
    "'''\n",
    "import io\n",
    "\n",
    "out_v = io.open('vecs.tsv', 'w', encoding='utf-8')\n",
    "out_m = io.open('meta.tsv', 'w', encoding='utf-8')\n",
    "for word_num in range(1, vocab_size):\n",
    "  word = reverse_word_index[word_num]\n",
    "  embeddings = weights[word_num]\n",
    "  out_m.write(word + \"\\n\")\n",
    "  out_v.write('\\t'.join([str(x) for x in embeddings]) + \"\\n\")\n",
    "out_v.close()\n",
    "out_m.close()\n",
    "'''"
   ]
  },
  {
   "cell_type": "markdown",
   "metadata": {},
   "source": [
    "# Further Work:"
   ]
  },
  {
   "cell_type": "markdown",
   "metadata": {},
   "source": [
    "In the future, I'd like to complete the following analysis:\n",
    "- A web application that collects and analyzes headlines from various financial news sources.\n",
    "- Other neural network architecture types.\n",
    "- New types of sentiment analysis, such as breaking news vs an opinion piece on an older issue.\n",
    "- Rate different newspapers by sentiment value."
   ]
  },
  {
   "cell_type": "markdown",
   "metadata": {},
   "source": [
    "# Conclusion:"
   ]
  },
  {
   "cell_type": "code",
   "execution_count": null,
   "metadata": {},
   "outputs": [],
   "source": []
  }
 ],
 "metadata": {
  "kernelspec": {
   "display_name": "Python 3",
   "language": "python",
   "name": "python3"
  },
  "language_info": {
   "codemirror_mode": {
    "name": "ipython",
    "version": 3
   },
   "file_extension": ".py",
   "mimetype": "text/x-python",
   "name": "python",
   "nbconvert_exporter": "python",
   "pygments_lexer": "ipython3",
   "version": "3.6.9"
  },
  "toc": {
   "base_numbering": 1,
   "nav_menu": {},
   "number_sections": true,
   "sideBar": true,
   "skip_h1_title": false,
   "title_cell": "Table of Contents",
   "title_sidebar": "Contents",
   "toc_cell": false,
   "toc_position": {},
   "toc_section_display": true,
   "toc_window_display": true
  }
 },
 "nbformat": 4,
 "nbformat_minor": 2
}
